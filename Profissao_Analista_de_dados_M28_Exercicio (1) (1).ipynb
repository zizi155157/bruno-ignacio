{
  "nbformat": 4,
  "nbformat_minor": 0,
  "metadata": {
    "colab": {
      "provenance": []
    },
    "kernelspec": {
      "name": "python3",
      "display_name": "Python 3"
    }
  },
  "cells": [
    {
      "cell_type": "markdown",
      "metadata": {
        "id": "KJqp9AANOCtf"
      },
      "source": [
        "<img src=\"https://raw.githubusercontent.com/andre-marcos-perez/ebac-course-utils/main/media/logo/newebac_logo_black_half.png\" alt=\"ebac-logo\">\n",
        "\n",
        "---\n",
        "\n",
        "# **Módulo** | Análise de Dados: COVID-19 Dashboard\n",
        "Caderno de **Exercícios**<br>\n",
        "Professor [André Perez](https://www.linkedin.com/in/andremarcosperez/)\n",
        "\n",
        "---"
      ]
    },
    {
      "cell_type": "markdown",
      "metadata": {
        "id": "d9jDtUbDOE1-"
      },
      "source": [
        "# **Tópicos**\n",
        "\n",
        "<ol type=\"1\">\n",
        "  <li>Introdução;</li>\n",
        "  <li>Análise Exploratória de Dados;</li>\n",
        "  <li>Visualização Interativa de Dados;</li>\n",
        "  <li>Storytelling.</li>\n",
        "</ol>\n"
      ]
    },
    {
      "cell_type": "markdown",
      "metadata": {
        "id": "SmoHgt-lwkpD"
      },
      "source": [
        "---"
      ]
    },
    {
      "cell_type": "markdown",
      "metadata": {
        "id": "GABI6OW8OfQ2"
      },
      "source": [
        "# **Exercícios**"
      ]
    },
    {
      "cell_type": "markdown",
      "metadata": {
        "id": "muD1vxozykSC"
      },
      "source": [
        "Este *notebook* deve servir como um guia para **você continuar** a construção da sua própria análise exploratória de dados interativa. Fique a vontate para copiar os códigos da aula mas busque explorar os dados ao máximo. Por fim, publique seu *notebook* no [Kaggle](https://www.kaggle.com/) e seu *dashboard* [Google Data Studio](https://datastudio.google.com/)."
      ]
    },
    {
      "cell_type": "markdown",
      "metadata": {
        "id": "zMN1Q3jdwoJm"
      },
      "source": [
        "---"
      ]
    },
    {
      "cell_type": "markdown",
      "metadata": {
        "id": "QRcqbpLpFK5o"
      },
      "source": [
        "# **COVID Dashboard**\n",
        "\n",
        "Kaggle: https://www.kaggle.com/code/edvaldodiasdasilva/covid/notebook\n",
        "\n",
        "G. Data Studio: https://lookerstudio.google.com/reporting/e50ee335-d64f-4bca-8af9-3b002ad176a9"
      ]
    },
    {
      "cell_type": "markdown",
      "metadata": {
        "id": "6-CvdKwqFPiW"
      },
      "source": [
        "## 1\\. Contexto"
      ]
    },
    {
      "cell_type": "markdown",
      "metadata": {
        "id": "XRURE1uUFXGw"
      },
      "source": [
        "Escreva uma breve descrição do problema.\n",
        "\n",
        "\n",
        "O problema a ser abordado no COVID Dashboard é a necessidade de acompanhar e visualizar dados atualizados sobre a pandemia de COVID-19. Dada a rapidez com que as informações sobre casos, hospitalizações, recuperações e mortes mudam, é essencial ter uma interface visual que permita monitorar esses dados de forma clara e dinâmica. O dashboard deve proporcionar uma visão em tempo real da evolução da pandemia, permitindo que as autoridades de saúde pública e a população geral possam tomar decisões informadas."
      ]
    },
    {
      "cell_type": "markdown",
      "metadata": {
        "id": "QxukLHaqFnkU"
      },
      "source": [
        "## 2\\. Pacotes e bibliotecas"
      ]
    },
    {
      "cell_type": "code",
      "metadata": {
        "id": "VXUEW0VrF7XW",
        "colab": {
          "base_uri": "https://localhost:8080/"
        },
        "outputId": "1a7d263b-df97-4cb2-f786-5782d15464ab"
      },
      "source": [
        "# 1º Pacotes nativos do Python\n",
        "import json\n",
        "import os\n",
        "import sys\n",
        "import datetime\n",
        "\n",
        "# 2º Pacotes de terceiros\n",
        "import pandas as pd\n",
        "import numpy as np\n",
        "import seaborn as sns\n",
        "import matplotlib.pyplot as plt\n",
        "from sklearn.model_selection import train_test_split\n",
        "\n",
        "# 3º Pacotes desenvolvidos por você (caso existam)\n",
        "# from my_module import my_function  # Exemplo de pacote próprio\n",
        "\n",
        "\n",
        "\n",
        "..."
      ],
      "execution_count": 15,
      "outputs": [
        {
          "output_type": "execute_result",
          "data": {
            "text/plain": [
              "Ellipsis"
            ]
          },
          "metadata": {},
          "execution_count": 15
        }
      ]
    },
    {
      "cell_type": "markdown",
      "metadata": {
        "id": "irQxHW1zGkdZ"
      },
      "source": [
        "## 3\\. Extração"
      ]
    },
    {
      "cell_type": "code",
      "metadata": {
        "id": "lxLj8e0GHAnr",
        "colab": {
          "base_uri": "https://localhost:8080/",
          "height": 671
        },
        "outputId": "8a98ce61-4319-49e2-8d37-992e6dd90594"
      },
      "source": [
        "# Importando as bibliotecas necessárias\n",
        "import dash\n",
        "from dash import dcc, html\n",
        "from dash.dependencies import Input, Output\n",
        "import plotly.express as px\n",
        "import pandas as pd\n",
        "\n",
        "# Iniciando o aplicativo Dash\n",
        "app = dash.Dash(__name__)\n",
        "\n",
        "# Função para carregar dados locais sobre COVID-19\n",
        "def load_covid_data():\n",
        "    df = pd.read_csv('covid_data.csv')\n",
        "    df['date'] = pd.to_datetime(df['date'])\n",
        "    return df\n",
        "\n",
        "# Carregando os dados\n",
        "covid_data = load_covid_data()\n",
        "\n",
        "# Layout do dashboard\n",
        "app.layout = html.Div([\n",
        "    html.H1(\"COVID-19 Dashboard\"),\n",
        "\n",
        "    dcc.Dropdown(\n",
        "        id='metric-dropdown',\n",
        "        options=[\n",
        "            {'label': 'Casos Confirmados', 'value': 'confirmed'},\n",
        "            {'label': 'Hospitalizações', 'value': 'active'},\n",
        "            {'label': 'Recuperados', 'value': 'recovered'},\n",
        "            {'label': 'Mortes', 'value': 'deaths'}\n",
        "        ],\n",
        "        value='confirmed',  # Valor padrão\n",
        "        clearable=False\n",
        "    ),\n",
        "\n",
        "    dcc.Graph(id='covid-graph'),\n",
        "\n",
        "    dcc.Interval(\n",
        "        id='interval-component',\n",
        "        interval=1*60*1000,  # Atualiza a cada 1 minuto (60000ms)\n",
        "        n_intervals=0\n",
        "    )\n",
        "])\n",
        "\n",
        "# Callback para atualizar o gráfico com base na métrica escolhida e nos dados atualizados\n",
        "@app.callback(\n",
        "    Output('covid-graph', 'figure'),\n",
        "    [Input('metric-dropdown', 'value'),\n",
        "     Input('interval-component', 'n_intervals')]\n",
        ")\n",
        "def update_graph(selected_metric, n_intervals):\n",
        "    # Carregar dados atualizados\n",
        "    covid_data = load_covid_data()\n",
        "\n",
        "    # Criando o gráfico com Plotly\n",
        "    fig = px.line(covid_data, x='date', y=selected_metric,\n",
        "                  title=f\"Evolução de {selected_metric.capitalize()} por Data\")\n",
        "\n",
        "    fig.update_layout(xaxis_title='Data', yaxis_title=selected_metric.capitalize())\n",
        "\n",
        "    return fig\n",
        "\n",
        "# Rodando o servidor do aplicativo\n",
        "if __name__ == '__main__':\n",
        "    app.run_server(debug=True)\n",
        "\n",
        "\n"
      ],
      "execution_count": 16,
      "outputs": [
        {
          "output_type": "display_data",
          "data": {
            "text/plain": [
              "<IPython.core.display.Javascript object>"
            ],
            "application/javascript": [
              "(async (port, path, width, height, cache, element) => {\n",
              "    if (!google.colab.kernel.accessAllowed && !cache) {\n",
              "      return;\n",
              "    }\n",
              "    element.appendChild(document.createTextNode(''));\n",
              "    const url = await google.colab.kernel.proxyPort(port, {cache});\n",
              "    const iframe = document.createElement('iframe');\n",
              "    iframe.src = new URL(path, url).toString();\n",
              "    iframe.height = height;\n",
              "    iframe.width = width;\n",
              "    iframe.style.border = 0;\n",
              "    iframe.allow = [\n",
              "        'accelerometer',\n",
              "        'autoplay',\n",
              "        'camera',\n",
              "        'clipboard-read',\n",
              "        'clipboard-write',\n",
              "        'gyroscope',\n",
              "        'magnetometer',\n",
              "        'microphone',\n",
              "        'serial',\n",
              "        'usb',\n",
              "        'xr-spatial-tracking',\n",
              "    ].join('; ');\n",
              "    element.appendChild(iframe);\n",
              "  })(8050, \"/\", \"100%\", 650, false, window.element)"
            ]
          },
          "metadata": {}
        }
      ]
    },
    {
      "cell_type": "markdown",
      "metadata": {
        "id": "98hexQTyJS9I"
      },
      "source": [
        "## 4\\. Transformação"
      ]
    },
    {
      "cell_type": "code",
      "metadata": {
        "id": "DXU4Ee0QJS9Q",
        "colab": {
          "base_uri": "https://localhost:8080/"
        },
        "outputId": "3e664186-16e3-43b4-efc6-50a3a75c4a33"
      },
      "source": [
        "import pandas as pd\n",
        "import numpy as np\n",
        "\n",
        "# Função para ler e manipular os dados\n",
        "def manipulate_data(file_path):\n",
        "    # Leitura dos dados\n",
        "    df = pd.read_csv(file_path)\n",
        "\n",
        "    # Controle de Qualidade\n",
        "    # Verificar e tratar dados faltantes\n",
        "    df = df.fillna(0)  # Preenche valores faltantes com 0\n",
        "    print(\"Dados faltantes tratados:\")\n",
        "    print(df.isnull().sum())  # Verificar se ainda há dados faltantes\n",
        "\n",
        "    # Verificar e corrigir inconsistências\n",
        "    df['confirmed'] = df['confirmed'].astype(int)\n",
        "    df['active'] = df['active'].astype(int)\n",
        "    df['recovered'] = df['recovered'].astype(int)\n",
        "    df['deaths'] = df['deaths'].astype(int)\n",
        "\n",
        "    # Enriquecimento\n",
        "    # Adicionar coluna de taxa de mortalidade\n",
        "    df['mortality_rate'] = df['deaths'] / df['confirmed']\n",
        "\n",
        "    # Adicionar coluna de taxa de recuperação\n",
        "    df['recovery_rate'] = df['recovered'] / df['confirmed']\n",
        "\n",
        "    # Converter a coluna de data para datetime\n",
        "    df['date'] = pd.to_datetime(df['date'])\n",
        "\n",
        "    # Ordenar os dados por data\n",
        "    df = df.sort_values(by='date')\n",
        "\n",
        "    # Mostrar os dados transformados\n",
        "    print(\"Dados manipulados:\")\n",
        "    print(df.head())\n",
        "\n",
        "    return df\n",
        "\n",
        "# Caminho para o arquivo CSV\n",
        "file_path = 'covid_data.csv'\n",
        "\n",
        "# Manipular os dados\n",
        "df_manipulated = manipulate_data(file_path)\n",
        "\n",
        "# Salvar os dados manipulados em um novo arquivo CSV\n",
        "df_manipulated.to_csv('covid_data_manipulated.csv', index=False)\n"
      ],
      "execution_count": 18,
      "outputs": [
        {
          "output_type": "stream",
          "name": "stdout",
          "text": [
            "Dados faltantes tratados:\n",
            "date         0\n",
            "confirmed    0\n",
            "active       0\n",
            "recovered    0\n",
            "deaths       0\n",
            "dtype: int64\n",
            "Dados manipulados:\n",
            "        date  confirmed  active  recovered  deaths  mortality_rate  \\\n",
            "0 2024-08-01       1000     200        700     100        0.100000   \n",
            "1 2024-08-02       1050     210        730     110        0.104762   \n",
            "2 2024-08-03       1100     220        750     120        0.109091   \n",
            "3 2024-08-04       1150     230        770     130        0.113043   \n",
            "4 2024-08-05       1200     240        790     140        0.116667   \n",
            "\n",
            "   recovery_rate  \n",
            "0       0.700000  \n",
            "1       0.695238  \n",
            "2       0.681818  \n",
            "3       0.669565  \n",
            "4       0.658333  \n"
          ]
        }
      ]
    },
    {
      "cell_type": "markdown",
      "metadata": {
        "id": "KSgjP--1JS9R"
      },
      "source": [
        "## 5\\. Carregamento"
      ]
    },
    {
      "cell_type": "code",
      "metadata": {
        "id": "Jlj3ACWCJS9R",
        "colab": {
          "base_uri": "https://localhost:8080/"
        },
        "outputId": "2fed1edb-f85a-44d3-948e-fcc393914943"
      },
      "source": [
        "import pandas as pd\n",
        "\n",
        "# Função para ler e manipular os dados\n",
        "def manipulate_data(file_path):\n",
        "    # Leitura dos dados\n",
        "    df = pd.read_csv(file_path)\n",
        "\n",
        "    # Controle de Qualidade\n",
        "    # Verificar e tratar dados faltantes\n",
        "    df = df.fillna(0)  # Preenche valores faltantes com 0\n",
        "    print(\"Dados faltantes tratados:\")\n",
        "    print(df.isnull().sum())  # Verificar se ainda há dados faltantes\n",
        "\n",
        "    # Verificar e corrigir inconsistências\n",
        "    df['confirmed'] = df['confirmed'].astype(int)\n",
        "    df['active'] = df['active'].astype(int)\n",
        "    df['recovered'] = df['recovered'].astype(int)\n",
        "    df['deaths'] = df['deaths'].astype(int)\n",
        "\n",
        "    # Enriquecimento\n",
        "    # Adicionar coluna de taxa de mortalidade\n",
        "    df['mortality_rate'] = df['deaths'] / df['confirmed']\n",
        "\n",
        "    # Adicionar coluna de taxa de recuperação\n",
        "    df['recovery_rate'] = df['recovered'] / df['confirmed']\n",
        "\n",
        "    # Converter a coluna de data para datetime\n",
        "    df['date'] = pd.to_datetime(df['date'])\n",
        "\n",
        "    # Ordenar os dados por data\n",
        "    df = df.sort_values(by='date')\n",
        "\n",
        "    return df\n",
        "\n",
        "# Função para salvar os dados manipulados\n",
        "def save_data(df, output_file_path):\n",
        "    df.to_csv(output_file_path, index=False)\n",
        "    print(f\"Dados salvos em: {output_file_path}\")\n",
        "\n",
        "# Caminho para o arquivo CSV original e para o arquivo de saída\n",
        "input_file_path = 'covid_data.csv'\n",
        "output_file_path = 'covid_data_manipulated.csv'\n",
        "\n",
        "# Manipular os dados\n",
        "df_manipulated = manipulate_data(input_file_path)\n",
        "\n",
        "# Salvar os dados manipulados\n",
        "save_data(df_manipulated, output_file_path)\n"
      ],
      "execution_count": 19,
      "outputs": [
        {
          "output_type": "stream",
          "name": "stdout",
          "text": [
            "Dados faltantes tratados:\n",
            "date         0\n",
            "confirmed    0\n",
            "active       0\n",
            "recovered    0\n",
            "deaths       0\n",
            "dtype: int64\n",
            "Dados salvos em: covid_data_manipulated.csv\n"
          ]
        }
      ]
    }
  ]
}