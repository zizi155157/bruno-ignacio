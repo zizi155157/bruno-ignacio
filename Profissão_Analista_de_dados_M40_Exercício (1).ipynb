{
  "nbformat": 4,
  "nbformat_minor": 0,
  "metadata": {
    "colab": {
      "provenance": [],
      "collapsed_sections": [
        "JG1HL69-j0lH",
        "s_Dj-BgThLg5",
        "jeEzLmuRhDQy",
        "PoTeRwlihDQ0",
        "QpMlxqRyhDQ1",
        "ov7Fg-mWhDQ1",
        "DvHPNAoPgdiG",
        "3SMp5GwjglJm",
        "e3ieQfXTgqd3",
        "L0pKWNr5fm9z",
        "DMhCpOU_gupo",
        "l3h0WP2Eg2ht",
        "rWG4Vk6XaWtf",
        "wkibgd8rB8y3",
        "IjPaJtnYE0MI",
        "2lpj1rszc--m",
        "HnWg_mhLd5gC",
        "RhqmXiHQo-is",
        "SvT9xrajLL7J",
        "91eSyA2cLLqv"
      ]
    },
    "kernelspec": {
      "name": "python3",
      "display_name": "Python 3"
    }
  },
  "cells": [
    {
      "cell_type": "markdown",
      "metadata": {
        "id": "KJqp9AANOCtf"
      },
      "source": [
        "<img src=\"https://raw.githubusercontent.com/andre-marcos-perez/ebac-course-utils/main/media/logo/newebac_logo_black_half.png\" alt=\"ebac-logo\">\n",
        "\n",
        "---\n",
        "\n",
        "# **Módulo** | Computação em Nuvem III\n",
        "Caderno de **Exercícios**<br>\n",
        "Professor [André Perez](https://www.linkedin.com/in/andremarcosperez/)\n",
        "\n",
        "---"
      ]
    },
    {
      "cell_type": "markdown",
      "metadata": {
        "id": "d9jDtUbDOE1-"
      },
      "source": [
        "# **Tópicos**\n",
        "\n",
        "<ol type=\"1\">\n",
        "  <li>Introdução;</li>\n",
        "  <li>Apache Spark;</li>\n",
        "  <li>Data Wrangling com Spark.</li>\n",
        "</ol>"
      ]
    },
    {
      "cell_type": "markdown",
      "metadata": {
        "id": "SmoHgt-lwkpD"
      },
      "source": [
        "---"
      ]
    },
    {
      "cell_type": "markdown",
      "metadata": {
        "id": "GABI6OW8OfQ2"
      },
      "source": [
        "# **Exercícios**"
      ]
    },
    {
      "cell_type": "markdown",
      "metadata": {
        "id": "ne7Ay0HKaGSv"
      },
      "source": [
        "## 1\\. Apache Spark"
      ]
    },
    {
      "cell_type": "markdown",
      "metadata": {
        "id": "OQxOVktrzG9I"
      },
      "source": [
        "Replique as atividades do item 2.1 e 2.2 para instalar e configurar um cluster Apache Spark na máquina virtual do Google Colab."
      ]
    },
    {
      "cell_type": "code",
      "source": [
        "%%capture\n",
        "!wget -q https://archive.apache.org/dist/spark/spark-3.0.0/spark-3.0.0-bin-hadoop2.7.tgz\n",
        "!tar xf spark-3.0.0-bin-hadoop2.7.tgz && rm spark-3.0.0-bin-hadoop2.7.tgz"
      ],
      "metadata": {
        "id": "JPhwEa2bmJ-X"
      },
      "execution_count": 1,
      "outputs": []
    },
    {
      "cell_type": "code",
      "source": [
        "%%capture\n",
        "!apt-get remove openjdk*\n",
        "!apt-get update --fix-missing\n",
        "!apt-get install openjdk-8-jdk-headless -qq > /dev/null"
      ],
      "metadata": {
        "id": "heDV4uzSmJ2r"
      },
      "execution_count": 2,
      "outputs": []
    },
    {
      "cell_type": "markdown",
      "metadata": {
        "id": "EvJTE2FpaGeU"
      },
      "source": [
        "## 2\\. Data Wrangling"
      ]
    },
    {
      "cell_type": "markdown",
      "metadata": {
        "id": "ISYXZbomlb1x"
      },
      "source": [
        "A base de dados presente neste [link](https://www.kaggle.com/datasets/bank-of-england/a-millennium-of-macroeconomic-data) contem dados macroeconômicos sobre o Reino Unido desde o século 13."
      ]
    },
    {
      "cell_type": "markdown",
      "source": [
        "**2.1\\. Data**"
      ],
      "metadata": {
        "id": "gw9qU6sLipWv"
      }
    },
    {
      "cell_type": "markdown",
      "source": [
        "Faça o download dos dados utilizando a máquina virutal do Google Colab com o código abaixo."
      ],
      "metadata": {
        "id": "1hnomN0NmgFY"
      }
    },
    {
      "cell_type": "code",
      "source": [
        "!wget -q \"https://raw.githubusercontent.com/cluster-apps-on-docker/spark-standalone-cluster-on-docker/master/build/workspace/data/uk-macroeconomic-data.csv\" -O \"uk-macroeconomic-data.csv\""
      ],
      "metadata": {
        "id": "D7kgFvnoklGX"
      },
      "execution_count": 3,
      "outputs": []
    },
    {
      "cell_type": "markdown",
      "source": [
        "**2.2. Wrangling**"
      ],
      "metadata": {
        "id": "b-I1dUa0iyE1"
      }
    },
    {
      "cell_type": "markdown",
      "source": [
        "Processe os dados para que a base de dados final apresente os valores da taxa de desemprego (`Unemployment rate`) e população (`Population (GB+NI)`) estejam ordenados por ano decrescente:"
      ],
      "metadata": {
        "id": "RONWLjqgkr5B"
      }
    },
    {
      "cell_type": "markdown",
      "source": [
        "```csv\n",
        "year,population,unemployment_rate\n",
        "...,...,...\n",
        "```"
      ],
      "metadata": {
        "id": "mr-NTxnalqIm"
      }
    },
    {
      "cell_type": "code",
      "source": [
        "\n",
        "import pandas as pd\n",
        "\n",
        "# Exemplo de dados iniciais\n",
        "data = {\n",
        "    \"Year\": [2020, 2019, 2018, 2017],\n",
        "    \"Unemployment rate\": [4.5, 3.8, 4.2, 4.7],\n",
        "    \"Population (GB+NI)\": [67500000, 67200000, 66900000, 66600000],\n",
        "}\n",
        "\n",
        "# Criação do DataFrame\n",
        "df = pd.DataFrame(data)\n",
        "\n",
        "# Ordenar por ano decrescente\n",
        "df_sorted = df.sort_values(by=\"Year\", ascending=False).reset_index(drop=True)\n",
        "\n",
        "# Mostrar o DataFrame ordenado\n",
        "print(df_sorted)\n"
      ],
      "metadata": {
        "colab": {
          "base_uri": "https://localhost:8080/"
        },
        "id": "mP6z7mykmfjo",
        "outputId": "66ed1671-31e0-4bc5-a893-b92b9d5b7c3a"
      },
      "execution_count": 4,
      "outputs": [
        {
          "output_type": "stream",
          "name": "stdout",
          "text": [
            "   Year  Unemployment rate  Population (GB+NI)\n",
            "0  2020                4.5            67500000\n",
            "1  2019                3.8            67200000\n",
            "2  2018                4.2            66900000\n",
            "3  2017                4.7            66600000\n"
          ]
        }
      ]
    },
    {
      "cell_type": "markdown",
      "source": [
        "Para isso, utilize:"
      ],
      "metadata": {
        "id": "snONpcdtlpQu"
      }
    },
    {
      "cell_type": "markdown",
      "source": [
        " - Pandas"
      ],
      "metadata": {
        "id": "nHY3jlCrkuN8"
      }
    },
    {
      "cell_type": "code",
      "source": [
        "import pandas as pd\n",
        "import os\n",
        "\n",
        "# Get the current working directory\n",
        "current_directory = os.getcwd()\n",
        "print(f\"Current working directory: {current_directory}\")\n",
        "\n",
        "# Define the file path\n",
        "file_path = os.path.join(current_directory, \"/content/uk-macroeconomic-data.csv\")  # Use os.path.join for platform compatibility\n",
        "# or provide full path, e.g., file_path = \"/path/to/your/file/dados_desemprego.csv\"\n",
        "\n",
        "\n",
        "# Check if the file exists\n",
        "if os.path.exists(file_path):\n",
        "    # Load the CSV file if it exists\n",
        "    df = pd.read_csv(file_path)\n",
        "\n",
        "    # Your data processing code here\n",
        "    # ...\n",
        "else:\n",
        "    print(f\"Error: File not found at path: {file_path}\")"
      ],
      "metadata": {
        "id": "2BUN93hGkyMZ",
        "colab": {
          "base_uri": "https://localhost:8080/"
        },
        "outputId": "56f0707a-b14a-4c20-c978-b74a117f6e65"
      },
      "execution_count": 5,
      "outputs": [
        {
          "output_type": "stream",
          "name": "stdout",
          "text": [
            "Current working directory: /content\n"
          ]
        }
      ]
    },
    {
      "cell_type": "code",
      "source": [
        "import pandas as pd\n",
        "\n",
        "# Carregar o arquivo CSV (substitua pelo seu arquivo real)\n",
        "df = pd.read_csv(\"/content/uk-macroeconomic-data.csv\")\n",
        "\n",
        "# Exibir as colunas disponíveis no DataFrame\n",
        "print(\"Colunas disponíveis no DataFrame:\")\n",
        "print(df.columns)\n",
        "\n",
        "# Corrigir possíveis espaços ou caracteres indesejados nos nomes das colunas\n",
        "df.columns = df.columns.str.strip()\n",
        "\n",
        "# Exibir as primeiras linhas para verificar o conteúdo do DataFrame\n",
        "print(\"\\nPrimeiras linhas do DataFrame:\")\n",
        "print(df.head())\n",
        "\n",
        "# Renomear as colunas para padronizar os nomes (ajuste conforme necessário)\n",
        "df.rename(columns={\n",
        "    'Ano': 'Year',  # Exemplo: traduzindo 'Ano' para 'Year'\n",
        "    'Taxa de Desemprego': 'Unemployment rate',  # Ajuste conforme o nome correto\n",
        "    'População (GB+NI)': 'Population (GB+NI)'  # Ajuste conforme o nome correto\n",
        "}, inplace=True)\n",
        "\n",
        "# Verificar novamente as colunas após renomeação\n",
        "print(\"\\nColunas após renomeação:\")\n",
        "print(df.columns)\n",
        "\n",
        "# Ordenar pelos valores da coluna 'Year' de forma decrescente\n",
        "try:\n",
        "    df_sorted = df.sort_values(by=\"Year\", ascending=False).reset_index(drop=True)\n",
        "    print(\"\\nDados ordenados por ano (decrescente):\")\n",
        "    print(df_sorted)\n",
        "except KeyError as e:\n",
        "    print(f\"Erro: {e}. Verifique se a coluna 'Year' está presente e corretamente nomeada.\")"
      ],
      "metadata": {
        "colab": {
          "base_uri": "https://localhost:8080/"
        },
        "id": "c2pieD1smnp-",
        "outputId": "8c072440-67d0-49a2-b874-13340dc12327"
      },
      "execution_count": 6,
      "outputs": [
        {
          "output_type": "stream",
          "name": "stdout",
          "text": [
            "Colunas disponíveis no DataFrame:\n",
            "Index(['Description', 'Real GDP of England at market prices',\n",
            "       'Real GDP of England at factor cost ',\n",
            "       'Real UK GDP at market prices, geographically-consistent estimate based on post-1922 borders',\n",
            "       'Real UK GDP at factor cost, geographically-consistent estimate based on post-1922 borders',\n",
            "       'Index of real UK GDP at factor cost - based on changing political boundaries, ',\n",
            "       'Composite estimate of English and (geographically-consistent) UK real GDP at factor cost',\n",
            "       'HP-filter of log of real composite estimate of English and UK real GDP at factor cost',\n",
            "       'Real UK gross disposable national income at market prices, constant border estimate',\n",
            "       'Real consumption', 'Real investment', 'Stockbuilding contribution',\n",
            "       'Real government consumption of goods and services', 'Export volumes',\n",
            "       'Import volumes', 'Nominal GDP of England at market prices',\n",
            "       'Nominal UK GDP at market prices', 'Nominal UK GDP at market prices.1',\n",
            "       'Population (GB+NI)', 'Population (England)', 'Employment',\n",
            "       'Unemployment rate', 'Average weekly hours worked',\n",
            "       'Capital Services, whole economy', 'TFP growth', 'Labour productivity',\n",
            "       'Labour productivity.1', 'Labour share, whole economy excluding rents',\n",
            "       'GDP deflator at market prices', 'Export prices', 'Import prices',\n",
            "       'Terms of Trade', '$ Oil prices', 'Earnings per head',\n",
            "       'Consumer price index', 'Consumer price inflation',\n",
            "       'Real consumption wages', 'Wholesale/producer price index', 'Bank Rate',\n",
            "       'Bank Rate.1', '10 year/medium-term government bond yields',\n",
            "       'Consols / long-term government bond yields', 'Mortgage rates',\n",
            "       'Corporate borrowing rate from banks', 'Corporate bond yields',\n",
            "       'Share prices', '$/£ exchange rate', 'Real $/£ exchange rate',\n",
            "       'Nominal ERI', 'Real ERI', 'House price index', 'Credit ',\n",
            "       'Secured credit', 'Bank of England Balance sheet',\n",
            "       'Bank of England Balance sheet.1',\n",
            "       'Coin in circulation outside the Bank of England',\n",
            "       'Notes and coin in circulation', 'Monetary base', 'M1', 'Broad Money ',\n",
            "       'Public sector Total Managed Expenditure',\n",
            "       'Public sector Total Managed Expenditure.1',\n",
            "       'Public Sector Total Receipts', 'Public Sector Total Receipts.1',\n",
            "       'Public Sector Net Lending(+)/Borrowing(-)',\n",
            "       'Public Sector Net Lending(+)/Borrowing(-).1', 'UK Public sector debt',\n",
            "       'UK Public sector debt.1', 'UK Public sector debt.2',\n",
            "       'Central Government Gross Debt', 'Central Government Gross Debt.1',\n",
            "       'Trade deficit', 'Trade deficit.1', 'Current account ',\n",
            "       'Current account .1',\n",
            "       'Current account deficit including estimated non-monetary bullion flows',\n",
            "       'Current account deficit including estimated non-monetary bullion flows.1'],\n",
            "      dtype='object')\n",
            "\n",
            "Primeiras linhas do DataFrame:\n",
            "  Description      Real GDP of England at market prices  \\\n",
            "0       Units  £mn, Chained Volume measure, 2013 prices   \n",
            "1        1209                                       NaN   \n",
            "2        1210                                       NaN   \n",
            "3        1211                                       NaN   \n",
            "4        1212                                       NaN   \n",
            "\n",
            "         Real GDP of England at factor cost  \\\n",
            "0  £mn, Chained Volume measure, 2013 prices   \n",
            "1                                       NaN   \n",
            "2                                       NaN   \n",
            "3                                       NaN   \n",
            "4                                       NaN   \n",
            "\n",
            "  Real UK GDP at market prices, geographically-consistent estimate based on post-1922 borders  \\\n",
            "0           £mn, Chained Volume measure, 2013 prices                                            \n",
            "1                                                NaN                                            \n",
            "2                                                NaN                                            \n",
            "3                                                NaN                                            \n",
            "4                                                NaN                                            \n",
            "\n",
            "  Real UK GDP at factor cost, geographically-consistent estimate based on post-1922 borders  \\\n",
            "0           £mn, Chained Volume measure, 2013 prices                                          \n",
            "1                                                NaN                                          \n",
            "2                                                NaN                                          \n",
            "3                                                NaN                                          \n",
            "4                                                NaN                                          \n",
            "\n",
            "  Index of real UK GDP at factor cost - based on changing political boundaries,  \\\n",
            "0  GB before 1801, GB+Ireland 1801-1920, GB + Nor...                              \n",
            "1                                                NaN                              \n",
            "2                                                NaN                              \n",
            "3                                                NaN                              \n",
            "4                                                NaN                              \n",
            "\n",
            "  Composite estimate of English and (geographically-consistent) UK real GDP at factor cost  \\\n",
            "0                                           2013=100                                         \n",
            "1                                                NaN                                         \n",
            "2                                                NaN                                         \n",
            "3                                                NaN                                         \n",
            "4                                                NaN                                         \n",
            "\n",
            "  HP-filter of log of real composite estimate of English and UK real GDP at factor cost  \\\n",
            "0                    approx. % difference from trend                                      \n",
            "1                                                NaN                                      \n",
            "2                                                NaN                                      \n",
            "3                                                NaN                                      \n",
            "4                                                NaN                                      \n",
            "\n",
            "  Real UK gross disposable national income at market prices, constant border estimate  \\\n",
            "0  £mn, Chained Volume measure, 2013 prices.  Nom...                                    \n",
            "1                                                NaN                                    \n",
            "2                                                NaN                                    \n",
            "3                                                NaN                                    \n",
            "4                                                NaN                                    \n",
            "\n",
            "                           Real consumption  ...  \\\n",
            "0  £mn, Chained Volume measure, 2013 prices  ...   \n",
            "1                                       NaN  ...   \n",
            "2                                       NaN  ...   \n",
            "3                                       NaN  ...   \n",
            "4                                       NaN  ...   \n",
            "\n",
            "            UK Public sector debt.1           UK Public sector debt.2  \\\n",
            "0  as a % of nominal GDP: measure 1  as a % of nominal GDP: measure 2   \n",
            "1                               NaN                               NaN   \n",
            "2                               NaN                               NaN   \n",
            "3                               NaN                               NaN   \n",
            "4                               NaN                               NaN   \n",
            "\n",
            "               Central Government Gross Debt  \\\n",
            "0  Financial year end, nominal par value £mn   \n",
            "1                                        NaN   \n",
            "2                                        NaN   \n",
            "3                                        NaN   \n",
            "4                                        NaN   \n",
            "\n",
            "        Central Government Gross Debt.1 Trade deficit        Trade deficit.1  \\\n",
            "0  Financial year end, market value £mn           £mn  as a % of nominal GDP   \n",
            "1                                   NaN           NaN                    NaN   \n",
            "2                                   NaN           NaN                    NaN   \n",
            "3                                   NaN           NaN                    NaN   \n",
            "4                                   NaN           NaN                    NaN   \n",
            "\n",
            "  Current account     Current account .1  \\\n",
            "0             £mn  as a % of nominal GDP   \n",
            "1             NaN                    NaN   \n",
            "2             NaN                    NaN   \n",
            "3             NaN                    NaN   \n",
            "4             NaN                    NaN   \n",
            "\n",
            "  Current account deficit including estimated non-monetary bullion flows  \\\n",
            "0                                                £mn                       \n",
            "1                                                NaN                       \n",
            "2                                                NaN                       \n",
            "3                                                NaN                       \n",
            "4                                                NaN                       \n",
            "\n",
            "  Current account deficit including estimated non-monetary bullion flows.1  \n",
            "0                              as a % of nominal GDP                        \n",
            "1                                                NaN                        \n",
            "2                                                NaN                        \n",
            "3                                                NaN                        \n",
            "4                                                NaN                        \n",
            "\n",
            "[5 rows x 77 columns]\n",
            "\n",
            "Colunas após renomeação:\n",
            "Index(['Description', 'Real GDP of England at market prices',\n",
            "       'Real GDP of England at factor cost',\n",
            "       'Real UK GDP at market prices, geographically-consistent estimate based on post-1922 borders',\n",
            "       'Real UK GDP at factor cost, geographically-consistent estimate based on post-1922 borders',\n",
            "       'Index of real UK GDP at factor cost - based on changing political boundaries,',\n",
            "       'Composite estimate of English and (geographically-consistent) UK real GDP at factor cost',\n",
            "       'HP-filter of log of real composite estimate of English and UK real GDP at factor cost',\n",
            "       'Real UK gross disposable national income at market prices, constant border estimate',\n",
            "       'Real consumption', 'Real investment', 'Stockbuilding contribution',\n",
            "       'Real government consumption of goods and services', 'Export volumes',\n",
            "       'Import volumes', 'Nominal GDP of England at market prices',\n",
            "       'Nominal UK GDP at market prices', 'Nominal UK GDP at market prices.1',\n",
            "       'Population (GB+NI)', 'Population (England)', 'Employment',\n",
            "       'Unemployment rate', 'Average weekly hours worked',\n",
            "       'Capital Services, whole economy', 'TFP growth', 'Labour productivity',\n",
            "       'Labour productivity.1', 'Labour share, whole economy excluding rents',\n",
            "       'GDP deflator at market prices', 'Export prices', 'Import prices',\n",
            "       'Terms of Trade', '$ Oil prices', 'Earnings per head',\n",
            "       'Consumer price index', 'Consumer price inflation',\n",
            "       'Real consumption wages', 'Wholesale/producer price index', 'Bank Rate',\n",
            "       'Bank Rate.1', '10 year/medium-term government bond yields',\n",
            "       'Consols / long-term government bond yields', 'Mortgage rates',\n",
            "       'Corporate borrowing rate from banks', 'Corporate bond yields',\n",
            "       'Share prices', '$/£ exchange rate', 'Real $/£ exchange rate',\n",
            "       'Nominal ERI', 'Real ERI', 'House price index', 'Credit',\n",
            "       'Secured credit', 'Bank of England Balance sheet',\n",
            "       'Bank of England Balance sheet.1',\n",
            "       'Coin in circulation outside the Bank of England',\n",
            "       'Notes and coin in circulation', 'Monetary base', 'M1', 'Broad Money',\n",
            "       'Public sector Total Managed Expenditure',\n",
            "       'Public sector Total Managed Expenditure.1',\n",
            "       'Public Sector Total Receipts', 'Public Sector Total Receipts.1',\n",
            "       'Public Sector Net Lending(+)/Borrowing(-)',\n",
            "       'Public Sector Net Lending(+)/Borrowing(-).1', 'UK Public sector debt',\n",
            "       'UK Public sector debt.1', 'UK Public sector debt.2',\n",
            "       'Central Government Gross Debt', 'Central Government Gross Debt.1',\n",
            "       'Trade deficit', 'Trade deficit.1', 'Current account',\n",
            "       'Current account .1',\n",
            "       'Current account deficit including estimated non-monetary bullion flows',\n",
            "       'Current account deficit including estimated non-monetary bullion flows.1'],\n",
            "      dtype='object')\n",
            "Erro: 'Year'. Verifique se a coluna 'Year' está presente e corretamente nomeada.\n"
          ]
        }
      ]
    },
    {
      "cell_type": "markdown",
      "source": [
        " - PySpark"
      ],
      "metadata": {
        "id": "yswaBr3JkxHq"
      }
    },
    {
      "cell_type": "code",
      "source": [
        "from pyspark.sql import SparkSession\n",
        "from pyspark.sql.functions import col\n",
        "\n",
        "# Criar uma sessão do Spark\n",
        "spark = SparkSession.builder \\\n",
        "    .appName(\"Processamento de Dados com PySpark\") \\\n",
        "    .getOrCreate()\n",
        "\n",
        "# Carregar o arquivo CSV em um DataFrame do PySpark (ajuste o caminho para o seu arquivo)\n",
        "df = spark.read.csv(\"/content/uk-macroeconomic-data.csv\", header=True, inferSchema=True)\n",
        "\n",
        "# Mostrar as colunas disponíveis\n",
        "print(\"Colunas disponíveis no DataFrame:\")\n",
        "df.printSchema()\n",
        "\n",
        "# Renomear a coluna 'Description' para 'Year' and select the relevant columns\n",
        "df = df.withColumnRenamed(\"Description\", \"Year\").select(\"Year\", \"Unemployment rate\", \"Population (GB+NI)\")\n",
        "\n",
        "# Filter out rows where 'Year' is not a valid year (assuming years are numeric)\n",
        "df = df.filter(col(\"Year\").cast(\"int\").isNotNull())\n",
        "\n",
        "# Cast 'Year' to integer for correct sorting\n",
        "df = df.withColumn(\"Year\", col(\"Year\").cast(\"int\"))\n",
        "\n",
        "\n",
        "# Verificar os dados após renomeação e seleção\n",
        "print(\"\\nPrimeiras linhas do DataFrame após renomeação e seleção:\")\n",
        "df.show()\n",
        "\n",
        "# Ordenar os dados pela coluna 'Year' em ordem decrescente\n",
        "df_sorted = df.orderBy(col(\"Year\").desc())\n",
        "\n",
        "# Exibir o DataFrame ordenado\n",
        "print(\"\\nDados ordenados por ano (decrescente):\")\n",
        "df_sorted.show()\n",
        "\n",
        "# Salvar os dados ordenados em um novo arquivo CSV (opcional)\n",
        "output_path = \"dados_ordenados.csv\"\n",
        "df_sorted.write.csv(output_path, header=True, mode=\"overwrite\")\n",
        "\n",
        "# Encerrar a sessão do Spark\n",
        "spark.stop()"
      ],
      "metadata": {
        "id": "GmQoR-hfk1Mv",
        "colab": {
          "base_uri": "https://localhost:8080/"
        },
        "outputId": "bf7ef710-8331-4dcb-f7ab-0caa038b3840"
      },
      "execution_count": 9,
      "outputs": [
        {
          "output_type": "stream",
          "name": "stdout",
          "text": [
            "Colunas disponíveis no DataFrame:\n",
            "root\n",
            " |-- Description: string (nullable = true)\n",
            " |-- Real GDP of England at market prices: string (nullable = true)\n",
            " |-- Real GDP of England at factor cost : string (nullable = true)\n",
            " |-- Real UK GDP at market prices, geographically-consistent estimate based on post-1922 borders: string (nullable = true)\n",
            " |-- Real UK GDP at factor cost, geographically-consistent estimate based on post-1922 borders: string (nullable = true)\n",
            " |-- Index of real UK GDP at factor cost - based on changing political boundaries, : string (nullable = true)\n",
            " |-- Composite estimate of English and (geographically-consistent) UK real GDP at factor cost: string (nullable = true)\n",
            " |-- HP-filter of log of real composite estimate of English and UK real GDP at factor cost: string (nullable = true)\n",
            " |-- Real UK gross disposable national income at market prices, constant border estimate: string (nullable = true)\n",
            " |-- Real consumption: string (nullable = true)\n",
            " |-- Real investment: string (nullable = true)\n",
            " |-- Stockbuilding contribution: string (nullable = true)\n",
            " |-- Real government consumption of goods and services: string (nullable = true)\n",
            " |-- Export volumes: string (nullable = true)\n",
            " |-- Import volumes: string (nullable = true)\n",
            " |-- Nominal GDP of England at market prices: string (nullable = true)\n",
            " |-- Nominal UK GDP at market prices: string (nullable = true)\n",
            " |-- Nominal UK GDP at market prices.1: string (nullable = true)\n",
            " |-- Population (GB+NI): string (nullable = true)\n",
            " |-- Population (England): string (nullable = true)\n",
            " |-- Employment: string (nullable = true)\n",
            " |-- Unemployment rate: string (nullable = true)\n",
            " |-- Average weekly hours worked: string (nullable = true)\n",
            " |-- Capital Services, whole economy: string (nullable = true)\n",
            " |-- TFP growth: string (nullable = true)\n",
            " |-- Labour productivity: string (nullable = true)\n",
            " |-- Labour productivity.1: string (nullable = true)\n",
            " |-- Labour share, whole economy excluding rents: string (nullable = true)\n",
            " |-- GDP deflator at market prices: string (nullable = true)\n",
            " |-- Export prices: string (nullable = true)\n",
            " |-- Import prices: string (nullable = true)\n",
            " |-- Terms of Trade: string (nullable = true)\n",
            " |-- $ Oil prices: string (nullable = true)\n",
            " |-- Earnings per head: string (nullable = true)\n",
            " |-- Consumer price index: string (nullable = true)\n",
            " |-- Consumer price inflation: string (nullable = true)\n",
            " |-- Real consumption wages: string (nullable = true)\n",
            " |-- Wholesale/producer price index: string (nullable = true)\n",
            " |-- Bank Rate: string (nullable = true)\n",
            " |-- Bank Rate.1: string (nullable = true)\n",
            " |-- 10 year/medium-term government bond yields: string (nullable = true)\n",
            " |-- Consols / long-term government bond yields: string (nullable = true)\n",
            " |-- Mortgage rates: string (nullable = true)\n",
            " |-- Corporate borrowing rate from banks: string (nullable = true)\n",
            " |-- Corporate bond yields: string (nullable = true)\n",
            " |-- Share prices: string (nullable = true)\n",
            " |-- $/£ exchange rate: string (nullable = true)\n",
            " |-- Real $/£ exchange rate: string (nullable = true)\n",
            " |-- Nominal ERI: string (nullable = true)\n",
            " |-- Real ERI: string (nullable = true)\n",
            " |-- House price index: string (nullable = true)\n",
            " |-- Credit : string (nullable = true)\n",
            " |-- Secured credit: string (nullable = true)\n",
            " |-- Bank of England Balance sheet: string (nullable = true)\n",
            " |-- Bank of England Balance sheet.1: string (nullable = true)\n",
            " |-- Coin in circulation outside the Bank of England: string (nullable = true)\n",
            " |-- Notes and coin in circulation: string (nullable = true)\n",
            " |-- Monetary base: string (nullable = true)\n",
            " |-- M1: string (nullable = true)\n",
            " |-- Broad Money : string (nullable = true)\n",
            " |-- Public sector Total Managed Expenditure: string (nullable = true)\n",
            " |-- Public sector Total Managed Expenditure.1: string (nullable = true)\n",
            " |-- Public Sector Total Receipts: string (nullable = true)\n",
            " |-- Public Sector Total Receipts.1: string (nullable = true)\n",
            " |-- Public Sector Net Lending(+)/Borrowing(-): string (nullable = true)\n",
            " |-- Public Sector Net Lending(+)/Borrowing(-).1: string (nullable = true)\n",
            " |-- UK Public sector debt: string (nullable = true)\n",
            " |-- UK Public sector debt.1: string (nullable = true)\n",
            " |-- UK Public sector debt.2: string (nullable = true)\n",
            " |-- Central Government Gross Debt: string (nullable = true)\n",
            " |-- Central Government Gross Debt.1: string (nullable = true)\n",
            " |-- Trade deficit: string (nullable = true)\n",
            " |-- Trade deficit.1: string (nullable = true)\n",
            " |-- Current account : string (nullable = true)\n",
            " |-- Current account .1: string (nullable = true)\n",
            " |-- Current account deficit including estimated non-monetary bullion flows: string (nullable = true)\n",
            " |-- Current account deficit including estimated non-monetary bullion flows.1: string (nullable = true)\n",
            "\n",
            "\n",
            "Primeiras linhas do DataFrame após renomeação e seleção:\n",
            "+----+-----------------+------------------+\n",
            "|Year|Unemployment rate|Population (GB+NI)|\n",
            "+----+-----------------+------------------+\n",
            "|1209|             NULL|              NULL|\n",
            "|1210|             NULL|              NULL|\n",
            "|1211|             NULL|              NULL|\n",
            "|1212|             NULL|              NULL|\n",
            "|1213|             NULL|              NULL|\n",
            "|1214|             NULL|              NULL|\n",
            "|1215|             NULL|              NULL|\n",
            "|1216|             NULL|              NULL|\n",
            "|1217|             NULL|              NULL|\n",
            "|1218|             NULL|              NULL|\n",
            "|1219|             NULL|              NULL|\n",
            "|1220|             NULL|              NULL|\n",
            "|1221|             NULL|              NULL|\n",
            "|1222|             NULL|              NULL|\n",
            "|1223|             NULL|              NULL|\n",
            "|1224|             NULL|              NULL|\n",
            "|1225|             NULL|              NULL|\n",
            "|1226|             NULL|              NULL|\n",
            "|1227|             NULL|              NULL|\n",
            "|1228|             NULL|              NULL|\n",
            "+----+-----------------+------------------+\n",
            "only showing top 20 rows\n",
            "\n",
            "\n",
            "Dados ordenados por ano (decrescente):\n",
            "+----+-----------------+------------------+\n",
            "|Year|Unemployment rate|Population (GB+NI)|\n",
            "+----+-----------------+------------------+\n",
            "|2016|             4.90|             65573|\n",
            "|2015|             5.38|             65110|\n",
            "|2014|             6.18|             64597|\n",
            "|2013|             7.61|             64106|\n",
            "|2012|             7.97|             63705|\n",
            "|2011|             8.11|             63285|\n",
            "|2010|             7.87|             62759|\n",
            "|2009|             7.61|             62260|\n",
            "|2008|             5.69|             61824|\n",
            "|2007|             5.33|             61319|\n",
            "|2006|             5.42|             60827|\n",
            "|2005|             4.83|             60413|\n",
            "|2004|             4.75|             59950|\n",
            "|2003|             5.01|             59637|\n",
            "|2002|             5.19|             59366|\n",
            "|2001|             5.10|             59113|\n",
            "|2000|             5.46|             58886|\n",
            "|1999|             5.98|             58684|\n",
            "|1998|             6.26|             58475|\n",
            "|1997|             6.97|             58314|\n",
            "+----+-----------------+------------------+\n",
            "only showing top 20 rows\n",
            "\n"
          ]
        }
      ]
    },
    {
      "cell_type": "code",
      "source": [
        "from pyspark.sql import SparkSession\n",
        "from pyspark.sql.functions import col, lit\n",
        "\n",
        "# Criar uma sessão do Spark\n",
        "spark = SparkSession.builder \\\n",
        "    .appName(\"Processamento de Dados com PySpark\") \\\n",
        "    .getOrCreate()\n",
        "\n",
        "# Carregar o arquivo CSV em um DataFrame do PySpark (ajuste o caminho para o seu arquivo)\n",
        "file_path = \"dados_desemprego.csv\"\n",
        "df = spark.read.csv(\"/content/uk-macroeconomic-data.csv\", header=True, inferSchema=True)\n",
        "\n",
        "# Mostrar as colunas disponíveis para diagnóstico\n",
        "print(\"Estrutura inicial do DataFrame:\")\n",
        "df.printSchema()\n",
        "\n",
        "# Exibir as primeiras linhas para verificar os dados\n",
        "print(\"\\nPrimeiras linhas do DataFrame:\")\n",
        "df.show(5)\n",
        "\n",
        "# Create a new column 'Year' with values based on the 'Description' column\n",
        "df = df.withColumnRenamed(\"Description\", \"Year\")\n",
        "\n",
        "# Filter out rows where 'Year' is not a valid year (assuming years are numeric)\n",
        "df = df.filter(col(\"Year\").cast(\"int\").isNotNull())\n",
        "\n",
        "# Cast 'Year' to integer for correct sorting\n",
        "df = df.withColumn(\"Year\", col(\"Year\").cast(\"int\"))\n",
        "\n",
        "# Select the relevant columns\n",
        "df = df.select(\"Year\", \"Unemployment rate\", \"Population (GB+NI)\")\n",
        "\n",
        "\n",
        "# Exibir o DataFrame atualizado\n",
        "print(\"\\nDataFrame com a coluna 'Year' adicionada:\")\n",
        "df.show(5)\n",
        "\n",
        "# Ordenar os dados pela coluna 'Year' em ordem decrescente\n",
        "df_sorted = df.orderBy(col(\"Year\").desc())\n",
        "\n",
        "# Exibir o DataFrame ordenado\n",
        "print(\"\\nDados ordenados por ano (decrescente):\")\n",
        "df_sorted.show()\n",
        "\n",
        "# Salvar os dados ordenados em um novo arquivo CSV (opcional)\n",
        "output_path = \"dados_ordenados.csv\"\n",
        "df_sorted.write.csv(output_path, header=True, mode=\"overwrite\")\n",
        "\n",
        "# Encerrar a sessão do Spark\n",
        "spark.stop()"
      ],
      "metadata": {
        "colab": {
          "base_uri": "https://localhost:8080/"
        },
        "id": "fbnDd_axmyMs",
        "outputId": "79672193-3c60-48f5-8dee-c6c61e9143e8"
      },
      "execution_count": 11,
      "outputs": [
        {
          "output_type": "stream",
          "name": "stdout",
          "text": [
            "Estrutura inicial do DataFrame:\n",
            "root\n",
            " |-- Description: string (nullable = true)\n",
            " |-- Real GDP of England at market prices: string (nullable = true)\n",
            " |-- Real GDP of England at factor cost : string (nullable = true)\n",
            " |-- Real UK GDP at market prices, geographically-consistent estimate based on post-1922 borders: string (nullable = true)\n",
            " |-- Real UK GDP at factor cost, geographically-consistent estimate based on post-1922 borders: string (nullable = true)\n",
            " |-- Index of real UK GDP at factor cost - based on changing political boundaries, : string (nullable = true)\n",
            " |-- Composite estimate of English and (geographically-consistent) UK real GDP at factor cost: string (nullable = true)\n",
            " |-- HP-filter of log of real composite estimate of English and UK real GDP at factor cost: string (nullable = true)\n",
            " |-- Real UK gross disposable national income at market prices, constant border estimate: string (nullable = true)\n",
            " |-- Real consumption: string (nullable = true)\n",
            " |-- Real investment: string (nullable = true)\n",
            " |-- Stockbuilding contribution: string (nullable = true)\n",
            " |-- Real government consumption of goods and services: string (nullable = true)\n",
            " |-- Export volumes: string (nullable = true)\n",
            " |-- Import volumes: string (nullable = true)\n",
            " |-- Nominal GDP of England at market prices: string (nullable = true)\n",
            " |-- Nominal UK GDP at market prices: string (nullable = true)\n",
            " |-- Nominal UK GDP at market prices.1: string (nullable = true)\n",
            " |-- Population (GB+NI): string (nullable = true)\n",
            " |-- Population (England): string (nullable = true)\n",
            " |-- Employment: string (nullable = true)\n",
            " |-- Unemployment rate: string (nullable = true)\n",
            " |-- Average weekly hours worked: string (nullable = true)\n",
            " |-- Capital Services, whole economy: string (nullable = true)\n",
            " |-- TFP growth: string (nullable = true)\n",
            " |-- Labour productivity: string (nullable = true)\n",
            " |-- Labour productivity.1: string (nullable = true)\n",
            " |-- Labour share, whole economy excluding rents: string (nullable = true)\n",
            " |-- GDP deflator at market prices: string (nullable = true)\n",
            " |-- Export prices: string (nullable = true)\n",
            " |-- Import prices: string (nullable = true)\n",
            " |-- Terms of Trade: string (nullable = true)\n",
            " |-- $ Oil prices: string (nullable = true)\n",
            " |-- Earnings per head: string (nullable = true)\n",
            " |-- Consumer price index: string (nullable = true)\n",
            " |-- Consumer price inflation: string (nullable = true)\n",
            " |-- Real consumption wages: string (nullable = true)\n",
            " |-- Wholesale/producer price index: string (nullable = true)\n",
            " |-- Bank Rate: string (nullable = true)\n",
            " |-- Bank Rate.1: string (nullable = true)\n",
            " |-- 10 year/medium-term government bond yields: string (nullable = true)\n",
            " |-- Consols / long-term government bond yields: string (nullable = true)\n",
            " |-- Mortgage rates: string (nullable = true)\n",
            " |-- Corporate borrowing rate from banks: string (nullable = true)\n",
            " |-- Corporate bond yields: string (nullable = true)\n",
            " |-- Share prices: string (nullable = true)\n",
            " |-- $/£ exchange rate: string (nullable = true)\n",
            " |-- Real $/£ exchange rate: string (nullable = true)\n",
            " |-- Nominal ERI: string (nullable = true)\n",
            " |-- Real ERI: string (nullable = true)\n",
            " |-- House price index: string (nullable = true)\n",
            " |-- Credit : string (nullable = true)\n",
            " |-- Secured credit: string (nullable = true)\n",
            " |-- Bank of England Balance sheet: string (nullable = true)\n",
            " |-- Bank of England Balance sheet.1: string (nullable = true)\n",
            " |-- Coin in circulation outside the Bank of England: string (nullable = true)\n",
            " |-- Notes and coin in circulation: string (nullable = true)\n",
            " |-- Monetary base: string (nullable = true)\n",
            " |-- M1: string (nullable = true)\n",
            " |-- Broad Money : string (nullable = true)\n",
            " |-- Public sector Total Managed Expenditure: string (nullable = true)\n",
            " |-- Public sector Total Managed Expenditure.1: string (nullable = true)\n",
            " |-- Public Sector Total Receipts: string (nullable = true)\n",
            " |-- Public Sector Total Receipts.1: string (nullable = true)\n",
            " |-- Public Sector Net Lending(+)/Borrowing(-): string (nullable = true)\n",
            " |-- Public Sector Net Lending(+)/Borrowing(-).1: string (nullable = true)\n",
            " |-- UK Public sector debt: string (nullable = true)\n",
            " |-- UK Public sector debt.1: string (nullable = true)\n",
            " |-- UK Public sector debt.2: string (nullable = true)\n",
            " |-- Central Government Gross Debt: string (nullable = true)\n",
            " |-- Central Government Gross Debt.1: string (nullable = true)\n",
            " |-- Trade deficit: string (nullable = true)\n",
            " |-- Trade deficit.1: string (nullable = true)\n",
            " |-- Current account : string (nullable = true)\n",
            " |-- Current account .1: string (nullable = true)\n",
            " |-- Current account deficit including estimated non-monetary bullion flows: string (nullable = true)\n",
            " |-- Current account deficit including estimated non-monetary bullion flows.1: string (nullable = true)\n",
            "\n",
            "\n",
            "Primeiras linhas do DataFrame:\n",
            "+-----------+------------------------------------+-----------------------------------+-------------------------------------------------------------------------------------------+-----------------------------------------------------------------------------------------+------------------------------------------------------------------------------+----------------------------------------------------------------------------------------+-------------------------------------------------------------------------------------+-----------------------------------------------------------------------------------+--------------------+--------------------+--------------------------+-------------------------------------------------+--------------------+--------------------+---------------------------------------+-------------------------------+---------------------------------+------------------+--------------------+----------+-----------------+---------------------------+-------------------------------+----------+--------------------+---------------------+-------------------------------------------+-----------------------------+-------------+-------------+--------------+------------+--------------------+--------------------+------------------------+----------------------+------------------------------+------------+--------------------+------------------------------------------+------------------------------------------+--------------------+-----------------------------------+---------------------+--------------------+--------------------+----------------------+--------------------+--------------------+--------------------+-------------+--------------+-----------------------------+-------------------------------+-----------------------------------------------+-----------------------------+-------------+-------------+-------------+---------------------------------------+-----------------------------------------+----------------------------+------------------------------+-----------------------------------------+-------------------------------------------+---------------------+-----------------------+-----------------------+-----------------------------+-------------------------------+-------------+--------------------+----------------+--------------------+----------------------------------------------------------------------+------------------------------------------------------------------------+\n",
            "|Description|Real GDP of England at market prices|Real GDP of England at factor cost |Real UK GDP at market prices, geographically-consistent estimate based on post-1922 borders|Real UK GDP at factor cost, geographically-consistent estimate based on post-1922 borders|Index of real UK GDP at factor cost - based on changing political boundaries, |Composite estimate of English and (geographically-consistent) UK real GDP at factor cost|HP-filter of log of real composite estimate of English and UK real GDP at factor cost|Real UK gross disposable national income at market prices, constant border estimate|    Real consumption|     Real investment|Stockbuilding contribution|Real government consumption of goods and services|      Export volumes|      Import volumes|Nominal GDP of England at market prices|Nominal UK GDP at market prices|Nominal UK GDP at market prices.1|Population (GB+NI)|Population (England)|Employment|Unemployment rate|Average weekly hours worked|Capital Services, whole economy|TFP growth| Labour productivity|Labour productivity.1|Labour share, whole economy excluding rents|GDP deflator at market prices|Export prices|Import prices|Terms of Trade|$ Oil prices|   Earnings per head|Consumer price index|Consumer price inflation|Real consumption wages|Wholesale/producer price index|   Bank Rate|         Bank Rate.1|10 year/medium-term government bond yields|Consols / long-term government bond yields|      Mortgage rates|Corporate borrowing rate from banks|Corporate bond yields|        Share prices|   $/£ exchange rate|Real $/£ exchange rate|         Nominal ERI|            Real ERI|   House price index|      Credit |Secured credit|Bank of England Balance sheet|Bank of England Balance sheet.1|Coin in circulation outside the Bank of England|Notes and coin in circulation|Monetary base|           M1| Broad Money |Public sector Total Managed Expenditure|Public sector Total Managed Expenditure.1|Public Sector Total Receipts|Public Sector Total Receipts.1|Public Sector Net Lending(+)/Borrowing(-)|Public Sector Net Lending(+)/Borrowing(-).1|UK Public sector debt|UK Public sector debt.1|UK Public sector debt.2|Central Government Gross Debt|Central Government Gross Debt.1|Trade deficit|     Trade deficit.1|Current account |  Current account .1|Current account deficit including estimated non-monetary bullion flows|Current account deficit including estimated non-monetary bullion flows.1|\n",
            "+-----------+------------------------------------+-----------------------------------+-------------------------------------------------------------------------------------------+-----------------------------------------------------------------------------------------+------------------------------------------------------------------------------+----------------------------------------------------------------------------------------+-------------------------------------------------------------------------------------+-----------------------------------------------------------------------------------+--------------------+--------------------+--------------------------+-------------------------------------------------+--------------------+--------------------+---------------------------------------+-------------------------------+---------------------------------+------------------+--------------------+----------+-----------------+---------------------------+-------------------------------+----------+--------------------+---------------------+-------------------------------------------+-----------------------------+-------------+-------------+--------------+------------+--------------------+--------------------+------------------------+----------------------+------------------------------+------------+--------------------+------------------------------------------+------------------------------------------+--------------------+-----------------------------------+---------------------+--------------------+--------------------+----------------------+--------------------+--------------------+--------------------+-------------+--------------+-----------------------------+-------------------------------+-----------------------------------------------+-----------------------------+-------------+-------------+-------------+---------------------------------------+-----------------------------------------+----------------------------+------------------------------+-----------------------------------------+-------------------------------------------+---------------------+-----------------------+-----------------------+-----------------------------+-------------------------------+-------------+--------------------+----------------+--------------------+----------------------------------------------------------------------+------------------------------------------------------------------------+\n",
            "|      Units|                £mn, Chained Volu...|               £mn, Chained Volu...|                                                                       £mn, Chained Volu...|                                                                     £mn, Chained Volu...|                                                          GB before 1801, G...|                                                                                2013=100|                                                                 approx. % differe...|                                                               £mn, Chained Volu...|£mn, Chained Volu...|£mn, Chained Volu...|      pp contribution t...|                             £mn, Chained Volu...|£mn, Chained Volu...|£mn, Chained Volu...|                                    £mn|                            £mn|                              £mn|              000s|                000s|      000s|                %|                      hours|               £mn, 2013 prices|         %|Real GDP per head...| Real GDP per hour...|                       share of GDP excl...|                     2013=100|     2013=100|     2013=100|      2013=100|$ per barrel|Average weekly ea...|            2015=100|                       %|              1900=100|                      2010=100|% end period|%, calendar year ...|                      %, calendar year ...|                      %, calendar year ...|%, calendar year ...|               %, calendar year ...| %, calendar year ...|April 1962=100, Y...|Calendar year ave...|  Calendar year ave...|Calendar year ave...|Calendar year ave...|Calendar year ave...|Year end, £mn| Year end, £mn|             % of nominal GDP|               % of nominal GDP|                                  Year end, £mn|                Year end, £mn|Year end, £mn|Year end, £mn|Year end, £mn|                   Calendar year tot...|                     as a % of nominal...|        Calendar year tot...|          as a % of nominal...|                     Calendar year tot...|                       as a % of nominal...| Calendar Year end...|   as a % of nominal...|   as a % of nominal...|         Financial year en...|           Financial year en...|          £mn|as a % of nominal...|             £mn|as a % of nominal...|                                                                   £mn|                                                    as a % of nominal...|\n",
            "|       1209|                                NULL|                               NULL|                                                                                       NULL|                                                                                     NULL|                                                                          NULL|                                                                                    NULL|                                                                                 NULL|                                                                               NULL|                NULL|                NULL|                      NULL|                                             NULL|                NULL|                NULL|                                   NULL|                           NULL|                             NULL|              NULL|                3626|      NULL|             NULL|                       NULL|                           NULL|      NULL|                NULL|                 NULL|                                       NULL|                         NULL|         NULL|         NULL|          NULL|        NULL|               0.034|                0.08|                    NULL|                 51.79|                          NULL|        NULL|                NULL|                                      NULL|                                      NULL|                NULL|                               NULL|                 NULL|                NULL|                NULL|                  NULL|                NULL|                NULL|                NULL|         NULL|          NULL|                         NULL|                           NULL|                                           NULL|                         NULL|         NULL|         NULL|         NULL|                                   NULL|                                     NULL|                        NULL|                          NULL|                                     NULL|                                       NULL|                 NULL|                   NULL|                   NULL|                         NULL|                           NULL|         NULL|                NULL|            NULL|                NULL|                                                                  NULL|                                                                    NULL|\n",
            "|       1210|                                NULL|                               NULL|                                                                                       NULL|                                                                                     NULL|                                                                          NULL|                                                                                    NULL|                                                                                 NULL|                                                                               NULL|                NULL|                NULL|                      NULL|                                             NULL|                NULL|                NULL|                                   NULL|                           NULL|                             NULL|              NULL|                3656|      NULL|             NULL|                       NULL|                           NULL|      NULL|                NULL|                 NULL|                                       NULL|                         NULL|         NULL|         NULL|          NULL|        NULL|               0.030|                0.08|                    2.58|                 44.65|                          NULL|        NULL|                NULL|                                      NULL|                                      NULL|                NULL|                               NULL|                 NULL|                NULL|                NULL|                  NULL|                NULL|                NULL|                NULL|         NULL|          NULL|                         NULL|                           NULL|                                           NULL|                         NULL|         NULL|         NULL|         NULL|                                   NULL|                                     NULL|                        NULL|                          NULL|                                     NULL|                                       NULL|                 NULL|                   NULL|                   NULL|                         NULL|                           NULL|         NULL|                NULL|            NULL|                NULL|                                                                  NULL|                                                                    NULL|\n",
            "|       1211|                                NULL|                               NULL|                                                                                       NULL|                                                                                     NULL|                                                                          NULL|                                                                                    NULL|                                                                                 NULL|                                                                               NULL|                NULL|                NULL|                      NULL|                                             NULL|                NULL|                NULL|                                   NULL|                           NULL|                             NULL|              NULL|                3686|      NULL|             NULL|                       NULL|                           NULL|      NULL|                NULL|                 NULL|                                       NULL|                         NULL|         NULL|         NULL|          NULL|        NULL|               0.026|                0.09|                   12.22|                 34.86|                          NULL|        NULL|                NULL|                                      NULL|                                      NULL|                NULL|                               NULL|                 NULL|                NULL|                NULL|                  NULL|                NULL|                NULL|                NULL|         NULL|          NULL|                         NULL|                           NULL|                                           NULL|                         NULL|         NULL|         NULL|         NULL|                                   NULL|                                     NULL|                        NULL|                          NULL|                                     NULL|                                       NULL|                 NULL|                   NULL|                   NULL|                         NULL|                           NULL|         NULL|                NULL|            NULL|                NULL|                                                                  NULL|                                                                    NULL|\n",
            "|       1212|                                NULL|                               NULL|                                                                                       NULL|                                                                                     NULL|                                                                          NULL|                                                                                    NULL|                                                                                 NULL|                                                                               NULL|                NULL|                NULL|                      NULL|                                             NULL|                NULL|                NULL|                                   NULL|                           NULL|                             NULL|              NULL|                3717|      NULL|             NULL|                       NULL|                           NULL|      NULL|                NULL|                 NULL|                                       NULL|                         NULL|         NULL|         NULL|          NULL|        NULL|               0.033|                0.08|                  -12.32|                 49.35|                          NULL|        NULL|                NULL|                                      NULL|                                      NULL|                NULL|                               NULL|                 NULL|                NULL|                NULL|                  NULL|                NULL|                NULL|                NULL|         NULL|          NULL|                         NULL|                           NULL|                                           NULL|                         NULL|         NULL|         NULL|         NULL|                                   NULL|                                     NULL|                        NULL|                          NULL|                                     NULL|                                       NULL|                 NULL|                   NULL|                   NULL|                         NULL|                           NULL|         NULL|                NULL|            NULL|                NULL|                                                                  NULL|                                                                    NULL|\n",
            "+-----------+------------------------------------+-----------------------------------+-------------------------------------------------------------------------------------------+-----------------------------------------------------------------------------------------+------------------------------------------------------------------------------+----------------------------------------------------------------------------------------+-------------------------------------------------------------------------------------+-----------------------------------------------------------------------------------+--------------------+--------------------+--------------------------+-------------------------------------------------+--------------------+--------------------+---------------------------------------+-------------------------------+---------------------------------+------------------+--------------------+----------+-----------------+---------------------------+-------------------------------+----------+--------------------+---------------------+-------------------------------------------+-----------------------------+-------------+-------------+--------------+------------+--------------------+--------------------+------------------------+----------------------+------------------------------+------------+--------------------+------------------------------------------+------------------------------------------+--------------------+-----------------------------------+---------------------+--------------------+--------------------+----------------------+--------------------+--------------------+--------------------+-------------+--------------+-----------------------------+-------------------------------+-----------------------------------------------+-----------------------------+-------------+-------------+-------------+---------------------------------------+-----------------------------------------+----------------------------+------------------------------+-----------------------------------------+-------------------------------------------+---------------------+-----------------------+-----------------------+-----------------------------+-------------------------------+-------------+--------------------+----------------+--------------------+----------------------------------------------------------------------+------------------------------------------------------------------------+\n",
            "only showing top 5 rows\n",
            "\n",
            "\n",
            "DataFrame com a coluna 'Year' adicionada:\n",
            "+----+-----------------+------------------+\n",
            "|Year|Unemployment rate|Population (GB+NI)|\n",
            "+----+-----------------+------------------+\n",
            "|1209|             NULL|              NULL|\n",
            "|1210|             NULL|              NULL|\n",
            "|1211|             NULL|              NULL|\n",
            "|1212|             NULL|              NULL|\n",
            "|1213|             NULL|              NULL|\n",
            "+----+-----------------+------------------+\n",
            "only showing top 5 rows\n",
            "\n",
            "\n",
            "Dados ordenados por ano (decrescente):\n",
            "+----+-----------------+------------------+\n",
            "|Year|Unemployment rate|Population (GB+NI)|\n",
            "+----+-----------------+------------------+\n",
            "|2016|             4.90|             65573|\n",
            "|2015|             5.38|             65110|\n",
            "|2014|             6.18|             64597|\n",
            "|2013|             7.61|             64106|\n",
            "|2012|             7.97|             63705|\n",
            "|2011|             8.11|             63285|\n",
            "|2010|             7.87|             62759|\n",
            "|2009|             7.61|             62260|\n",
            "|2008|             5.69|             61824|\n",
            "|2007|             5.33|             61319|\n",
            "|2006|             5.42|             60827|\n",
            "|2005|             4.83|             60413|\n",
            "|2004|             4.75|             59950|\n",
            "|2003|             5.01|             59637|\n",
            "|2002|             5.19|             59366|\n",
            "|2001|             5.10|             59113|\n",
            "|2000|             5.46|             58886|\n",
            "|1999|             5.98|             58684|\n",
            "|1998|             6.26|             58475|\n",
            "|1997|             6.97|             58314|\n",
            "+----+-----------------+------------------+\n",
            "only showing top 20 rows\n",
            "\n"
          ]
        }
      ]
    }
  ]
}