{
  "cells": [
    {
      "cell_type": "markdown",
      "metadata": {
        "id": "KJqp9AANOCtf"
      },
      "source": [
        "<img src=\"https://raw.githubusercontent.com/andre-marcos-perez/ebac-course-utils/main/media/logo/newebac_logo_black_half.png\" alt=\"ebac-logo\">\n",
        "\n",
        "---\n",
        "\n",
        "# **Módulo** | SQL: Trabalhando com Tabelas\n",
        "Caderno de **Exercícios**<br> \n",
        "Professor [Mariane Neiva](https://www.linkedin.com/in/mariane-neiva/)\n",
        "\n",
        "---"
      ]
    },
    {
      "cell_type": "markdown",
      "metadata": {
        "id": "d9jDtUbDOE1-"
      },
      "source": [
        "# **Tópicos**\n",
        "\n",
        "<ol type=\"1\">\n",
        "  <li>Criação de tabelas;</li>\n",
        "  <li>Alterando e descartando tabelas;</li>\n",
        "  <li>Inserindo, atualizando e apagando dados;</li>\n",
        "</ol>"
      ]
    },
    {
      "cell_type": "markdown",
      "metadata": {
        "id": "SmoHgt-lwkpD"
      },
      "source": [
        "---"
      ]
    },
    {
      "cell_type": "markdown",
      "metadata": {
        "id": "DIlQOznoTPQF"
      },
      "source": [
        "# **Instruções**\n",
        "\n",
        "Nessa **atividades**, você deve:\n",
        "\n",
        " 1. Executar a consulta SQL fornecida;\n",
        " 2. Exportar os resultados em um arquivo csv para sua máquina; \n",
        " 3. Renomear o arquivo como **query_\\<numero-da-query>.csv**;\n",
        " 4. Enviar para a avaliação do tutor na plataforma da EBAC.\n",
        "\n",
        "> **Atenção**: Substitua o **\\<numero-da-query>** numero da consulta, exemplo: **query_1.csv**.\n",
        "\n",
        "**Importante**: Para consultar mais detalhes da AWS Athena [clique aqui](https://docs.aws.amazon.com/athena/latest/ug/what-is.html)"
      ]
    },
    {
      "cell_type": "markdown",
      "metadata": {
        "id": "vvlBORqbTPQp"
      },
      "source": [
        "---"
      ]
    },
    {
      "cell_type": "markdown",
      "metadata": {
        "id": "k4HJwfbQcEQw"
      },
      "source": [
        "# Atividades"
      ]
    },
    {
      "cell_type": "markdown",
      "metadata": {
        "id": "0cbohKQegVk7"
      },
      "source": [
        "# **1. Explorando os dados da tabela de clientes** "
      ]
    },
    {
      "cell_type": "markdown",
      "metadata": {
        "id": "0Airo3E0h5Ik"
      },
      "source": [
        "## **1.1. Query 1** "
      ]
    },
    {
      "cell_type": "markdown",
      "metadata": {
        "id": "2m92meC8gVk9"
      },
      "source": [
        "**IMPORTANTE:** Neste exercício, utilizaremos o mesmo bucket e tabela criadas no módulo 1. \n",
        "Portanto, caso não lembre como criar o bucket e criar a tabela no AWS Athena, verifique novamente os vídeos do Módulo 1.\n",
        "\n",
        "\n",
        "No console do AWS Athena, execute a seguinte query:\n",
        "\n",
        "```sql\n",
        "SELECT id, idade, sexo, dependentes FROM clientes;\n",
        "```\n",
        "\n",
        "No painel de resultados você deve encontrar o seguinte resultado.\n",
        "\n",
        "| id        | idade | sexo | dependentes |\n",
        "|-----------|-------|------|---|\n",
        "| 768805383 | 45    | M    | 3 | \n",
        "| 818770008 | 49    | F    | 5 | \n",
        "| 713982108 | 51    | M    | 3 |\n",
        "\n",
        "<br>\n",
        "\n",
        "> **Atenção**: Extraia os resultados para o arquivo CSV através do botão de download e renomei-o com o número da query. Você deve envia-lo para os tutores de EBAC."
      ]
    },
    {
      "cell_type": "markdown",
      "metadata": {
        "id": "N-lRqaLXiL9i"
      },
      "source": [
        "## **1.2. Query 2** "
      ]
    },
    {
      "cell_type": "markdown",
      "metadata": {
        "id": "j_WeV8RliL9j"
      },
      "source": [
        "No console do AWS Athena, execute a seguinte query:\n",
        "\n",
        "```sql\n",
        "SELECT id, valor_transacoes_12m FROM clientes WHERE escolaridade = 'mestrado' and sexo = 'F';\n",
        "```\n",
        "\n",
        "No painel de resultados você deve encontrar o seguinte resultado.\n",
        "\n",
        "| id        | valor_transacoes_12m |\n",
        "|-----------|--------------------|\n",
        "| 818770008 |1291.45    |\n",
        "\n",
        "<br>\n",
        "\n",
        "> **Atenção**: Extraia os resultados para o arquivo CSV através do botão de download e renomei-o com o número da query. Você deve envia-lo para os tutores de EBAC."
      ]
    },
    {
      "cell_type": "markdown",
      "metadata": {
        "id": "dnQoRZCGiMQH"
      },
      "source": [
        "## **1.3. Query 3** "
      ]
    },
    {
      "cell_type": "markdown",
      "metadata": {
        "id": "SyLk8zbaiMQI"
      },
      "source": [
        "No console do AWS Athena, execute a seguinte query:\n",
        "\n",
        "```sql\n",
        "SELECT sexo, AVG(idade) AS \"media_idade_por_sexo\" FROM clientes GROUP BY sexo;\n",
        "```\n",
        "\n",
        "No painel de resultados você deve encontrar o seguinte resultado.\n",
        "\n",
        "| sexo | media_idade_por_sexo |\n",
        "|------|----------------------|\n",
        "| F    | 49                   |\n",
        "| M    | 48                   |\n",
        "\n",
        "<br>\n",
        "\n",
        "> **Atenção**: Extraia os resultados para o arquivo CSV através do botão de download e renomei-o com o número da query. Voce deve envia-lo para os tutores de EBAC."
      ]
    },
    {
      "cell_type": "markdown",
      "metadata": {
        "id": "lzw2gZumdpQ2"
      },
      "source": [
        "# **2. Inserindo novos dados** "
      ]
    },
    {
      "cell_type": "markdown",
      "metadata": {
        "id": "RYCyuhLtd8_i"
      },
      "source": [
        "> Na AWS, quando criamos uma tabela externa via < nome_da_pasta_no_bucket > s3, todo novo arquivo que siga o mesmo formato adicionado à < nome_da_pasta_no_bucket > é automaticamente acrescentado à tabela.\n",
        "\n",
        "## **2.1.Query 4**\n",
        "\n",
        "Faça o upload de *insercao_dados.csv* fornecido no material auxiliar na mesma pasta onde foi adicionado o arquivo *credito-aula.csv* do módulo passado, volte para o Athena e execute a seguinte query: \n",
        "\n",
        "```sql\n",
        "SELECT * FROM clientes;\n",
        "```\n",
        "\n",
        "No painel de resultados você deve encontrar o seguinte resultado.\n",
        "\n",
        "|id|\tidade|\tsexo|\tdependentes|\tescolaridade\t|tipo_cartao|\tlimite_credito|\tvalor_transacoes_12m|\tqtd_transacoes_12m|\n",
        "|---|-----|---|----|----|----|-----|-----|----|\n",
        "|768805383|\t45|\tM\t|3|\tensino medio\t|blue\t|12691.51|\t1144.9\t|42|\n",
        "|\t818770008|\t49|\tF\t|5|\tmestrado\t| solteiro\t|8256.96|\t1291.45|\t33|\n",
        "|\t713982108|\t51|\tM|\t3\t|mestrado\t| casado\t|3418.56\t|1887.72\t|20|\n",
        "|\t768805451\t|56\t|M|\t6\t|ensino medio\t|casado|\t7591.51\t|1564.9\t|50 |\n",
        "|\t456556|\t30|\tF\t|0|\tmestrado\t|solteiro\t|5526.96|\t55251.45\t|10|\n",
        "|\t545\t|49|\tF\t|2|\tdoutorado|\tblue|\t3417.55|\t555.72\t|7|\n",
        "\n",
        "<br>\n",
        "\n",
        "> **Atenção**: Extraia os resultados para o arquivo CSV através do botão de download e renomei-o com o número da query. Voce deve envia-lo para os tutores de EBAC.\n"
      ]
    },
    {
      "cell_type": "markdown",
      "metadata": {
        "id": "1R74tBgEkyfc"
      },
      "source": [
        "# **3. Criando e trabalhando com partições** "
      ]
    },
    {
      "cell_type": "markdown",
      "metadata": {
        "id": "TQ2mkhYwk459"
      },
      "source": [
        "Como dito anteriormente, o AWS é um serviço que envolve custos.\n",
        "Para prevenir maiores cobranças, os usuários do sistema particionam os dados em tabelas menores para processa-los.\n",
        "\n",
        "Por isso, vamos aprender como carregar as partições no S3 e criar a tabela particionada \n",
        "\n",
        "## 3.1. Query 5 \n",
        "\n",
        "* Crie uma nova pasta no bucket com nome bucket-<seunome>-partitioned. \n",
        "* Dentro de  bucket-<seunome>-partitioned crie duas pastas: sexo=F e sexo=M.\n",
        "*   Dentro da pasta  bucket-< seunome >-partitioned/sexo=F coloque o arquivo disponível no material de aula: **sexo=F.csv**\n",
        "*   Dentro da pasta  bucket-< seunome >-partitioned/sexo=M coloque o arquivo disponível no material de aula: **sexo=M.csv**\n",
        "\n",
        "Volte para o Athena e execute a seguinte query:\n",
        "\n",
        "```sql\n",
        "CREATE EXTERNAL TABLE clientes_part(\n",
        "  id BIGINT, \n",
        "  idade BIGINT, \n",
        "  dependentes BIGINT, \n",
        "  escolaridade STRING, \n",
        "  tipo_cartao STRING, \n",
        "  limite_credito DOUBLE, \n",
        "  valor_transacoes_12m DOUBLE, \n",
        "  qtd_transacoes_12m BIGINT) \n",
        "  PARTITIONED BY (sexo string)\n",
        "ROW FORMAT SERDE 'org.apache.hadoop.hive.serde2.OpenCSVSerde'\n",
        "WITH SERDEPROPERTIES ('separatorChar' = ',', 'quoteChar' = '\"', 'escapeChar' = '\\\\')\n",
        "STORED AS TEXTFILE\n",
        "LOCATION 's3://bucket-<seunome>-partitioned/'\n",
        "```\n",
        "\n",
        "**Importante:** substituia < seu nome > pelo seu primeiro nome. No meu caso, utilizei 's3://bucket-mari-partitioned/'\n",
        "\n",
        "Depois da mensagem de *Query sucessful*, carregue as partições com o comando:\n",
        "\n",
        "```sql\n",
        "MSCK REPAIR TABLE clientes_part;\n",
        "```\n",
        "Para verificar e entregar o exercício, execute a query:\n",
        "\n",
        "```sql\n",
        "select * from clientes_part where sexo = 'F';\n",
        "```\n",
        "> **Atenção**: Extraia os resultados para o arquivo CSV através do botão de download e renomei-o com o número da query. Voce deve envia-lo para os tutores de EBAC.\n",
        "\n",
        "No painel de resultados você deve encontrar o seguinte resultado:\n",
        "\n",
        "\n",
        "|\tid\t|idade|\tdependentes\t|escolaridade|\ttipo_cartao\t|limite_credito\t|valor_transacoes_12m\t|qtd_transacoes_12m\t|sexo|\n",
        "|---|-|-|-|-|-|-|-|-|\n",
        "| 456556|\t30|\t0|\tmestrado|\tsolteiro|\t5526.96|\t55251.45\t|10|\tF|\n",
        "|\t545\t|49|\t2|\tdoutorado|\tblue\t|3417.55|\t555.72\t|7|\tF|\n",
        "|\t818770008\t|49|\t5 |\tmestrado|\tsolteiro|\t\t8256.96|\t1291.45|\t33|\tF|\n",
        "\n"
      ]
    },
    {
      "cell_type": "markdown",
      "metadata": {
        "id": "nopjv_iCx44z"
      },
      "source": [
        "## 3.2. Query 6\n",
        "\n",
        "Você também pode utilizar outras funções de seleção nas partições:\n",
        "\n",
        "```sql\n",
        "SELECT id, idade, limite_credito FROM clientes_part WHERE sexo = 'M' ORDER BY limite_credito DESC;\n",
        "```\n",
        "\n",
        "> **Atenção**: Extraia os resultados para o arquivo CSV através do botão de download e renomei-o com o número da query. Voce deve envia-lo para os tutores de EBAC.\n",
        "\n",
        "No painel de resultados você deve encontrar o seguinte resultado:\n",
        "\n",
        "\n",
        "\n",
        "|id\t| idade\t| limite_credito |\n",
        "|-|-|-|\n",
        "|\t768805383|\t45\t|12691.51|\n",
        "|768805451\t|56\t|7591.51|\n",
        "\t|713982108\t|51\t|3418.56|"
      ]
    },
    {
      "cell_type": "markdown",
      "metadata": {
        "id": "YGqKrZAOwwBV"
      },
      "source": [
        "# **4. Adicionando colunas**\n",
        "\n",
        "## 4.1. Query 7\n",
        "Como vimos na aula, vamos utilizar o método ALTER TABLE também na prática para adicionar uma coluna. \n",
        "\n",
        "\n",
        "Execute o seguinte comando:\n",
        "\n",
        "```sql\n",
        "ALTER TABLE clientes ADD COLUMNS (estado string)\n",
        "```\n",
        "\n",
        "Verifique a adicão da nova coluna e envie o resultado da Query 7:\n",
        "\n",
        "```sql\n",
        "SELECT * from clientes\n",
        "```\n",
        "O resultado deve ser (caso os itens não estejam exatamente na mesma ordem, não se preocupe. Verifique se todas 6 as linhas estão sendo exibidas):\n",
        "\n",
        "|id|idade|sexo|dependentes|escolaridade|tipo_cartao|limite_credito|valor_transacoes_12m\t|qtd_transacoes_12m |estado| \n",
        "|-|-|-|-|-|-|-|-|-|-| \n",
        "|768805451\t|56|\tM|\t6|\tensino medio|\tcasado\t|7591.51\t|1564.90|\t50| |\t\n",
        "|456556|\t30|\tF\t|0\t |mestrado\t|solteiro\t|5526.96|\t55251.45\t|10\t| |\n",
        "|\t545|\t49|\tF|\t2|\tdoutorado|\tblue\t|3417.55|\t555.72|\t7|\t|\n",
        "|\t768805383\t|45\t|M |\t3|\tensino medio\t|blue|\t12691.51|\t1144.90|\t42|\t|\n",
        "|818770008\t|49\t|F|\t5\t|mestrado\t| solteiro|\t8256.96|\t1291.45|\t33|\t|\n",
        "|\t713982108\t|51|\tM\t|3|\tmestrado |\tcasado|\t3418.56|\t1887.72|\t20| |"
      ]
    },
    {
      "cell_type": "markdown",
      "metadata": {
        "id": "vANNqNmb4dh2"
      },
      "source": [
        "# **5. Deletando tabelas**\n",
        "\n",
        "\n",
        "Nossa última atividade é a deleção da tabela clientes. Para tal, utilize o comando na AWS Athena.\n",
        "\n",
        "```sql\n",
        "DROP TABLE clientes \n",
        "```\n",
        "\n",
        "> **Atenção:** não há necessidade de entrega  "
      ]
    },
    {
      "attachments": {
        "todas_querys.png": {
          "image/png": "[encoded data removed]"
        }
      },
      "cell_type": "markdown",
      "metadata": {},
      "source": [
        "Abaixo todas as query feitas nessa tarefa !\n",
        "\n",
        "![todas_querys.png](attachment:todas_querys.png)"
      ]
    }
  ],
  "metadata": {
    "colab": {
      "collapsed_sections": [],
      "name": "modulo_2_exercicio.ipynb",
      "provenance": [],
      "toc_visible": true
    },
    "kernelspec": {
      "display_name": "Python 3",
      "name": "python3"
    }
  },
  "nbformat": 4,
  "nbformat_minor": 0
}
