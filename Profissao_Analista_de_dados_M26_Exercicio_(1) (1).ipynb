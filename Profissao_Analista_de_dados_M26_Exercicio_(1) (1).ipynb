{
  "nbformat": 4,
  "nbformat_minor": 0,
  "metadata": {
    "colab": {
      "provenance": []
    },
    "kernelspec": {
      "name": "python3",
      "display_name": "Python 3"
    }
  },
  "cells": [
    {
      "cell_type": "markdown",
      "metadata": {
        "id": "KJqp9AANOCtf"
      },
      "source": [
        "<img src=\"https://raw.githubusercontent.com/andre-marcos-perez/ebac-course-utils/main/media/logo/newebac_logo_black_half.png\" alt=\"ebac-logo\">\n",
        "\n",
        "---\n",
        "\n",
        "# **Módulo** | Análise de Dados: Séries Temporais\n",
        "Caderno de **Exercícios**<br>\n",
        "Professor [André Perez](https://www.linkedin.com/in/andremarcosperez/)\n",
        "\n",
        "---"
      ]
    },
    {
      "cell_type": "markdown",
      "metadata": {
        "id": "d9jDtUbDOE1-"
      },
      "source": [
        "# **Tópicos**\n",
        "\n",
        "<ol type=\"1\">\n",
        "  <li>Introdução;</li>\n",
        "  <li>Wrangling;</li>\n",
        "  <li>Decomposição.</li>\n",
        "</ol>"
      ]
    },
    {
      "cell_type": "markdown",
      "metadata": {
        "id": "SmoHgt-lwkpD"
      },
      "source": [
        "---"
      ]
    },
    {
      "cell_type": "markdown",
      "metadata": {
        "id": "GABI6OW8OfQ2"
      },
      "source": [
        "# **Exercícios**"
      ]
    },
    {
      "cell_type": "markdown",
      "metadata": {
        "id": "kzRDceCvkFj2"
      },
      "source": [
        "## 1\\. Correlação entre consumo de energia elétrica e temperatura"
      ]
    },
    {
      "cell_type": "markdown",
      "metadata": {
        "id": "WCQi-s0Hpd5V"
      },
      "source": [
        "Neste exercício, vamos correlacionar a base de dados de consumo de energia elétrica vista em aula com uma base de dados de temperatura média das tres maiores cidades do sudeste: **São Paulo**, **Rio de Janeiro** e **Belo Horizonte**. Os dados de temperatura estão presente neste [link](https://raw.githubusercontent.com/andre-marcos-perez/ebac-course-utils/main/dataset/temperatura.csv) e foram extraídos diretamento do [site](https://portal.inmet.gov.br) do instituto nacional de meteorologias (INMTE), órgão do governo vinculado ao ministério de agricultura, pecuária e abastecimento."
      ]
    },
    {
      "cell_type": "code",
      "metadata": {
        "id": "lblH8kIXzPZZ"
      },
      "source": [
        "import numpy as np\n",
        "import pandas as pd\n",
        "import seaborn as sns"
      ],
      "execution_count": null,
      "outputs": []
    },
    {
      "cell_type": "markdown",
      "metadata": {
        "id": "H1eLSuCbi40u"
      },
      "source": [
        "### **1.1. Energia**"
      ]
    },
    {
      "cell_type": "markdown",
      "metadata": {
        "id": "QLz61BoJkf6q"
      },
      "source": [
        "Carregue os dados de **energia** com o código abaixo e responda as perguntas abaixo:"
      ]
    },
    {
      "cell_type": "code",
      "metadata": {
        "id": "VR3UdrrQgJ4K"
      },
      "source": [
        "!wget -q 'https://raw.githubusercontent.com/andre-marcos-perez/ebac-course-utils/main/dataset/energia.csv' -O 'energia.csv'"
      ],
      "execution_count": 9,
      "outputs": []
    },
    {
      "cell_type": "code",
      "metadata": {
        "id": "znk9Z9TLgTGP",
        "colab": {
          "base_uri": "https://localhost:8080/"
        },
        "outputId": "481fec15-1c25-49f1-e24e-7091c58c9717"
      },
      "source": [
        "energia = pd.read_csv('energia.csv', sep=';', parse_dates=[0], infer_datetime_format=True)"
      ],
      "execution_count": 11,
      "outputs": [
        {
          "output_type": "stream",
          "name": "stderr",
          "text": [
            "<ipython-input-11-98fa4fa7de4e>:1: FutureWarning: The argument 'infer_datetime_format' is deprecated and will be removed in a future version. A strict version of it is now the default, see https://pandas.pydata.org/pdeps/0004-consistent-to-datetime-parsing.html. You can safely remove this argument.\n",
            "  energia = pd.read_csv('energia.csv', sep=';', parse_dates=[0], infer_datetime_format=True)\n"
          ]
        }
      ]
    },
    {
      "cell_type": "code",
      "metadata": {
        "id": "I4GihJt_jOkY",
        "colab": {
          "base_uri": "https://localhost:8080/",
          "height": 206
        },
        "outputId": "c4c855d1-f3df-4029-fa5c-2a70d9800d07"
      },
      "source": [
        "energia.head()"
      ],
      "execution_count": 12,
      "outputs": [
        {
          "output_type": "execute_result",
          "data": {
            "text/plain": [
              "  referencia  residencial  industrial  comercial\n",
              "0 2004-01-01      3694386     6977471    2450453\n",
              "1 2004-02-01      3511541     7084623    2396965\n",
              "2 2004-03-01      3629455     7087613    2402521\n",
              "3 2004-04-01      3733863     7384540    2580914\n",
              "4 2004-05-01      3537269     7258307    2344084"
            ],
            "text/html": [
              "\n",
              "  <div id=\"df-b1c61444-12d2-4b82-870d-d1b0147d4c14\" class=\"colab-df-container\">\n",
              "    <div>\n",
              "<style scoped>\n",
              "    .dataframe tbody tr th:only-of-type {\n",
              "        vertical-align: middle;\n",
              "    }\n",
              "\n",
              "    .dataframe tbody tr th {\n",
              "        vertical-align: top;\n",
              "    }\n",
              "\n",
              "    .dataframe thead th {\n",
              "        text-align: right;\n",
              "    }\n",
              "</style>\n",
              "<table border=\"1\" class=\"dataframe\">\n",
              "  <thead>\n",
              "    <tr style=\"text-align: right;\">\n",
              "      <th></th>\n",
              "      <th>referencia</th>\n",
              "      <th>residencial</th>\n",
              "      <th>industrial</th>\n",
              "      <th>comercial</th>\n",
              "    </tr>\n",
              "  </thead>\n",
              "  <tbody>\n",
              "    <tr>\n",
              "      <th>0</th>\n",
              "      <td>2004-01-01</td>\n",
              "      <td>3694386</td>\n",
              "      <td>6977471</td>\n",
              "      <td>2450453</td>\n",
              "    </tr>\n",
              "    <tr>\n",
              "      <th>1</th>\n",
              "      <td>2004-02-01</td>\n",
              "      <td>3511541</td>\n",
              "      <td>7084623</td>\n",
              "      <td>2396965</td>\n",
              "    </tr>\n",
              "    <tr>\n",
              "      <th>2</th>\n",
              "      <td>2004-03-01</td>\n",
              "      <td>3629455</td>\n",
              "      <td>7087613</td>\n",
              "      <td>2402521</td>\n",
              "    </tr>\n",
              "    <tr>\n",
              "      <th>3</th>\n",
              "      <td>2004-04-01</td>\n",
              "      <td>3733863</td>\n",
              "      <td>7384540</td>\n",
              "      <td>2580914</td>\n",
              "    </tr>\n",
              "    <tr>\n",
              "      <th>4</th>\n",
              "      <td>2004-05-01</td>\n",
              "      <td>3537269</td>\n",
              "      <td>7258307</td>\n",
              "      <td>2344084</td>\n",
              "    </tr>\n",
              "  </tbody>\n",
              "</table>\n",
              "</div>\n",
              "    <div class=\"colab-df-buttons\">\n",
              "\n",
              "  <div class=\"colab-df-container\">\n",
              "    <button class=\"colab-df-convert\" onclick=\"convertToInteractive('df-b1c61444-12d2-4b82-870d-d1b0147d4c14')\"\n",
              "            title=\"Convert this dataframe to an interactive table.\"\n",
              "            style=\"display:none;\">\n",
              "\n",
              "  <svg xmlns=\"http://www.w3.org/2000/svg\" height=\"24px\" viewBox=\"0 -960 960 960\">\n",
              "    <path d=\"M120-120v-720h720v720H120Zm60-500h600v-160H180v160Zm220 220h160v-160H400v160Zm0 220h160v-160H400v160ZM180-400h160v-160H180v160Zm440 0h160v-160H620v160ZM180-180h160v-160H180v160Zm440 0h160v-160H620v160Z\"/>\n",
              "  </svg>\n",
              "    </button>\n",
              "\n",
              "  <style>\n",
              "    .colab-df-container {\n",
              "      display:flex;\n",
              "      gap: 12px;\n",
              "    }\n",
              "\n",
              "    .colab-df-convert {\n",
              "      background-color: #E8F0FE;\n",
              "      border: none;\n",
              "      border-radius: 50%;\n",
              "      cursor: pointer;\n",
              "      display: none;\n",
              "      fill: #1967D2;\n",
              "      height: 32px;\n",
              "      padding: 0 0 0 0;\n",
              "      width: 32px;\n",
              "    }\n",
              "\n",
              "    .colab-df-convert:hover {\n",
              "      background-color: #E2EBFA;\n",
              "      box-shadow: 0px 1px 2px rgba(60, 64, 67, 0.3), 0px 1px 3px 1px rgba(60, 64, 67, 0.15);\n",
              "      fill: #174EA6;\n",
              "    }\n",
              "\n",
              "    .colab-df-buttons div {\n",
              "      margin-bottom: 4px;\n",
              "    }\n",
              "\n",
              "    [theme=dark] .colab-df-convert {\n",
              "      background-color: #3B4455;\n",
              "      fill: #D2E3FC;\n",
              "    }\n",
              "\n",
              "    [theme=dark] .colab-df-convert:hover {\n",
              "      background-color: #434B5C;\n",
              "      box-shadow: 0px 1px 3px 1px rgba(0, 0, 0, 0.15);\n",
              "      filter: drop-shadow(0px 1px 2px rgba(0, 0, 0, 0.3));\n",
              "      fill: #FFFFFF;\n",
              "    }\n",
              "  </style>\n",
              "\n",
              "    <script>\n",
              "      const buttonEl =\n",
              "        document.querySelector('#df-b1c61444-12d2-4b82-870d-d1b0147d4c14 button.colab-df-convert');\n",
              "      buttonEl.style.display =\n",
              "        google.colab.kernel.accessAllowed ? 'block' : 'none';\n",
              "\n",
              "      async function convertToInteractive(key) {\n",
              "        const element = document.querySelector('#df-b1c61444-12d2-4b82-870d-d1b0147d4c14');\n",
              "        const dataTable =\n",
              "          await google.colab.kernel.invokeFunction('convertToInteractive',\n",
              "                                                    [key], {});\n",
              "        if (!dataTable) return;\n",
              "\n",
              "        const docLinkHtml = 'Like what you see? Visit the ' +\n",
              "          '<a target=\"_blank\" href=https://colab.research.google.com/notebooks/data_table.ipynb>data table notebook</a>'\n",
              "          + ' to learn more about interactive tables.';\n",
              "        element.innerHTML = '';\n",
              "        dataTable['output_type'] = 'display_data';\n",
              "        await google.colab.output.renderOutput(dataTable, element);\n",
              "        const docLink = document.createElement('div');\n",
              "        docLink.innerHTML = docLinkHtml;\n",
              "        element.appendChild(docLink);\n",
              "      }\n",
              "    </script>\n",
              "  </div>\n",
              "\n",
              "\n",
              "<div id=\"df-bd775d62-7a6e-4ee3-956a-c0b40424303b\">\n",
              "  <button class=\"colab-df-quickchart\" onclick=\"quickchart('df-bd775d62-7a6e-4ee3-956a-c0b40424303b')\"\n",
              "            title=\"Suggest charts\"\n",
              "            style=\"display:none;\">\n",
              "\n",
              "<svg xmlns=\"http://www.w3.org/2000/svg\" height=\"24px\"viewBox=\"0 0 24 24\"\n",
              "     width=\"24px\">\n",
              "    <g>\n",
              "        <path d=\"M19 3H5c-1.1 0-2 .9-2 2v14c0 1.1.9 2 2 2h14c1.1 0 2-.9 2-2V5c0-1.1-.9-2-2-2zM9 17H7v-7h2v7zm4 0h-2V7h2v10zm4 0h-2v-4h2v4z\"/>\n",
              "    </g>\n",
              "</svg>\n",
              "  </button>\n",
              "\n",
              "<style>\n",
              "  .colab-df-quickchart {\n",
              "      --bg-color: #E8F0FE;\n",
              "      --fill-color: #1967D2;\n",
              "      --hover-bg-color: #E2EBFA;\n",
              "      --hover-fill-color: #174EA6;\n",
              "      --disabled-fill-color: #AAA;\n",
              "      --disabled-bg-color: #DDD;\n",
              "  }\n",
              "\n",
              "  [theme=dark] .colab-df-quickchart {\n",
              "      --bg-color: #3B4455;\n",
              "      --fill-color: #D2E3FC;\n",
              "      --hover-bg-color: #434B5C;\n",
              "      --hover-fill-color: #FFFFFF;\n",
              "      --disabled-bg-color: #3B4455;\n",
              "      --disabled-fill-color: #666;\n",
              "  }\n",
              "\n",
              "  .colab-df-quickchart {\n",
              "    background-color: var(--bg-color);\n",
              "    border: none;\n",
              "    border-radius: 50%;\n",
              "    cursor: pointer;\n",
              "    display: none;\n",
              "    fill: var(--fill-color);\n",
              "    height: 32px;\n",
              "    padding: 0;\n",
              "    width: 32px;\n",
              "  }\n",
              "\n",
              "  .colab-df-quickchart:hover {\n",
              "    background-color: var(--hover-bg-color);\n",
              "    box-shadow: 0 1px 2px rgba(60, 64, 67, 0.3), 0 1px 3px 1px rgba(60, 64, 67, 0.15);\n",
              "    fill: var(--button-hover-fill-color);\n",
              "  }\n",
              "\n",
              "  .colab-df-quickchart-complete:disabled,\n",
              "  .colab-df-quickchart-complete:disabled:hover {\n",
              "    background-color: var(--disabled-bg-color);\n",
              "    fill: var(--disabled-fill-color);\n",
              "    box-shadow: none;\n",
              "  }\n",
              "\n",
              "  .colab-df-spinner {\n",
              "    border: 2px solid var(--fill-color);\n",
              "    border-color: transparent;\n",
              "    border-bottom-color: var(--fill-color);\n",
              "    animation:\n",
              "      spin 1s steps(1) infinite;\n",
              "  }\n",
              "\n",
              "  @keyframes spin {\n",
              "    0% {\n",
              "      border-color: transparent;\n",
              "      border-bottom-color: var(--fill-color);\n",
              "      border-left-color: var(--fill-color);\n",
              "    }\n",
              "    20% {\n",
              "      border-color: transparent;\n",
              "      border-left-color: var(--fill-color);\n",
              "      border-top-color: var(--fill-color);\n",
              "    }\n",
              "    30% {\n",
              "      border-color: transparent;\n",
              "      border-left-color: var(--fill-color);\n",
              "      border-top-color: var(--fill-color);\n",
              "      border-right-color: var(--fill-color);\n",
              "    }\n",
              "    40% {\n",
              "      border-color: transparent;\n",
              "      border-right-color: var(--fill-color);\n",
              "      border-top-color: var(--fill-color);\n",
              "    }\n",
              "    60% {\n",
              "      border-color: transparent;\n",
              "      border-right-color: var(--fill-color);\n",
              "    }\n",
              "    80% {\n",
              "      border-color: transparent;\n",
              "      border-right-color: var(--fill-color);\n",
              "      border-bottom-color: var(--fill-color);\n",
              "    }\n",
              "    90% {\n",
              "      border-color: transparent;\n",
              "      border-bottom-color: var(--fill-color);\n",
              "    }\n",
              "  }\n",
              "</style>\n",
              "\n",
              "  <script>\n",
              "    async function quickchart(key) {\n",
              "      const quickchartButtonEl =\n",
              "        document.querySelector('#' + key + ' button');\n",
              "      quickchartButtonEl.disabled = true;  // To prevent multiple clicks.\n",
              "      quickchartButtonEl.classList.add('colab-df-spinner');\n",
              "      try {\n",
              "        const charts = await google.colab.kernel.invokeFunction(\n",
              "            'suggestCharts', [key], {});\n",
              "      } catch (error) {\n",
              "        console.error('Error during call to suggestCharts:', error);\n",
              "      }\n",
              "      quickchartButtonEl.classList.remove('colab-df-spinner');\n",
              "      quickchartButtonEl.classList.add('colab-df-quickchart-complete');\n",
              "    }\n",
              "    (() => {\n",
              "      let quickchartButtonEl =\n",
              "        document.querySelector('#df-bd775d62-7a6e-4ee3-956a-c0b40424303b button');\n",
              "      quickchartButtonEl.style.display =\n",
              "        google.colab.kernel.accessAllowed ? 'block' : 'none';\n",
              "    })();\n",
              "  </script>\n",
              "</div>\n",
              "\n",
              "    </div>\n",
              "  </div>\n"
            ],
            "application/vnd.google.colaboratory.intrinsic+json": {
              "type": "dataframe",
              "variable_name": "energia",
              "summary": "{\n  \"name\": \"energia\",\n  \"rows\": 204,\n  \"fields\": [\n    {\n      \"column\": \"referencia\",\n      \"properties\": {\n        \"dtype\": \"date\",\n        \"min\": \"2004-01-01 00:00:00\",\n        \"max\": \"2020-12-01 00:00:00\",\n        \"num_unique_values\": 204,\n        \"samples\": [\n          \"2005-04-01 00:00:00\",\n          \"2004-10-01 00:00:00\",\n          \"2013-08-01 00:00:00\"\n        ],\n        \"semantic_type\": \"\",\n        \"description\": \"\"\n      }\n    },\n    {\n      \"column\": \"residencial\",\n      \"properties\": {\n        \"dtype\": \"number\",\n        \"std\": 755112,\n        \"min\": 3433443,\n        \"max\": 6476567,\n        \"num_unique_values\": 204,\n        \"samples\": [\n          3923735,\n          3608130,\n          5200951\n        ],\n        \"semantic_type\": \"\",\n        \"description\": \"\"\n      }\n    },\n    {\n      \"column\": \"industrial\",\n      \"properties\": {\n        \"dtype\": \"number\",\n        \"std\": 521521,\n        \"min\": 6357406,\n        \"max\": 8795554,\n        \"num_unique_values\": 204,\n        \"samples\": [\n          7745456,\n          7762817,\n          8561514\n        ],\n        \"semantic_type\": \"\",\n        \"description\": \"\"\n      }\n    },\n    {\n      \"column\": \"comercial\",\n      \"properties\": {\n        \"dtype\": \"number\",\n        \"std\": 623928,\n        \"min\": 2159479,\n        \"max\": 4571717,\n        \"num_unique_values\": 204,\n        \"samples\": [\n          2701315,\n          2415036,\n          3513265\n        ],\n        \"semantic_type\": \"\",\n        \"description\": \"\"\n      }\n    }\n  ]\n}"
            }
          },
          "metadata": {},
          "execution_count": 12
        }
      ]
    },
    {
      "cell_type": "code",
      "metadata": {
        "id": "7jAAyzWAjfbj",
        "colab": {
          "base_uri": "https://localhost:8080/",
          "height": 206
        },
        "outputId": "0a7a94ba-8214-4b0a-ac87-c134f8148803"
      },
      "source": [
        "energia.tail()"
      ],
      "execution_count": 13,
      "outputs": [
        {
          "output_type": "execute_result",
          "data": {
            "text/plain": [
              "    referencia  residencial  industrial  comercial\n",
              "199 2020-08-01      5671487     7697947    3198269\n",
              "200 2020-09-01      5756787     7723167    3431649\n",
              "201 2020-10-01      6241392     8042503    3890202\n",
              "202 2020-11-01      5999235     7878699    3718647\n",
              "203 2020-12-01      6377972     7832769    3965809"
            ],
            "text/html": [
              "\n",
              "  <div id=\"df-7c4b22cb-ad06-4fbc-a06f-27787e7dc505\" class=\"colab-df-container\">\n",
              "    <div>\n",
              "<style scoped>\n",
              "    .dataframe tbody tr th:only-of-type {\n",
              "        vertical-align: middle;\n",
              "    }\n",
              "\n",
              "    .dataframe tbody tr th {\n",
              "        vertical-align: top;\n",
              "    }\n",
              "\n",
              "    .dataframe thead th {\n",
              "        text-align: right;\n",
              "    }\n",
              "</style>\n",
              "<table border=\"1\" class=\"dataframe\">\n",
              "  <thead>\n",
              "    <tr style=\"text-align: right;\">\n",
              "      <th></th>\n",
              "      <th>referencia</th>\n",
              "      <th>residencial</th>\n",
              "      <th>industrial</th>\n",
              "      <th>comercial</th>\n",
              "    </tr>\n",
              "  </thead>\n",
              "  <tbody>\n",
              "    <tr>\n",
              "      <th>199</th>\n",
              "      <td>2020-08-01</td>\n",
              "      <td>5671487</td>\n",
              "      <td>7697947</td>\n",
              "      <td>3198269</td>\n",
              "    </tr>\n",
              "    <tr>\n",
              "      <th>200</th>\n",
              "      <td>2020-09-01</td>\n",
              "      <td>5756787</td>\n",
              "      <td>7723167</td>\n",
              "      <td>3431649</td>\n",
              "    </tr>\n",
              "    <tr>\n",
              "      <th>201</th>\n",
              "      <td>2020-10-01</td>\n",
              "      <td>6241392</td>\n",
              "      <td>8042503</td>\n",
              "      <td>3890202</td>\n",
              "    </tr>\n",
              "    <tr>\n",
              "      <th>202</th>\n",
              "      <td>2020-11-01</td>\n",
              "      <td>5999235</td>\n",
              "      <td>7878699</td>\n",
              "      <td>3718647</td>\n",
              "    </tr>\n",
              "    <tr>\n",
              "      <th>203</th>\n",
              "      <td>2020-12-01</td>\n",
              "      <td>6377972</td>\n",
              "      <td>7832769</td>\n",
              "      <td>3965809</td>\n",
              "    </tr>\n",
              "  </tbody>\n",
              "</table>\n",
              "</div>\n",
              "    <div class=\"colab-df-buttons\">\n",
              "\n",
              "  <div class=\"colab-df-container\">\n",
              "    <button class=\"colab-df-convert\" onclick=\"convertToInteractive('df-7c4b22cb-ad06-4fbc-a06f-27787e7dc505')\"\n",
              "            title=\"Convert this dataframe to an interactive table.\"\n",
              "            style=\"display:none;\">\n",
              "\n",
              "  <svg xmlns=\"http://www.w3.org/2000/svg\" height=\"24px\" viewBox=\"0 -960 960 960\">\n",
              "    <path d=\"M120-120v-720h720v720H120Zm60-500h600v-160H180v160Zm220 220h160v-160H400v160Zm0 220h160v-160H400v160ZM180-400h160v-160H180v160Zm440 0h160v-160H620v160ZM180-180h160v-160H180v160Zm440 0h160v-160H620v160Z\"/>\n",
              "  </svg>\n",
              "    </button>\n",
              "\n",
              "  <style>\n",
              "    .colab-df-container {\n",
              "      display:flex;\n",
              "      gap: 12px;\n",
              "    }\n",
              "\n",
              "    .colab-df-convert {\n",
              "      background-color: #E8F0FE;\n",
              "      border: none;\n",
              "      border-radius: 50%;\n",
              "      cursor: pointer;\n",
              "      display: none;\n",
              "      fill: #1967D2;\n",
              "      height: 32px;\n",
              "      padding: 0 0 0 0;\n",
              "      width: 32px;\n",
              "    }\n",
              "\n",
              "    .colab-df-convert:hover {\n",
              "      background-color: #E2EBFA;\n",
              "      box-shadow: 0px 1px 2px rgba(60, 64, 67, 0.3), 0px 1px 3px 1px rgba(60, 64, 67, 0.15);\n",
              "      fill: #174EA6;\n",
              "    }\n",
              "\n",
              "    .colab-df-buttons div {\n",
              "      margin-bottom: 4px;\n",
              "    }\n",
              "\n",
              "    [theme=dark] .colab-df-convert {\n",
              "      background-color: #3B4455;\n",
              "      fill: #D2E3FC;\n",
              "    }\n",
              "\n",
              "    [theme=dark] .colab-df-convert:hover {\n",
              "      background-color: #434B5C;\n",
              "      box-shadow: 0px 1px 3px 1px rgba(0, 0, 0, 0.15);\n",
              "      filter: drop-shadow(0px 1px 2px rgba(0, 0, 0, 0.3));\n",
              "      fill: #FFFFFF;\n",
              "    }\n",
              "  </style>\n",
              "\n",
              "    <script>\n",
              "      const buttonEl =\n",
              "        document.querySelector('#df-7c4b22cb-ad06-4fbc-a06f-27787e7dc505 button.colab-df-convert');\n",
              "      buttonEl.style.display =\n",
              "        google.colab.kernel.accessAllowed ? 'block' : 'none';\n",
              "\n",
              "      async function convertToInteractive(key) {\n",
              "        const element = document.querySelector('#df-7c4b22cb-ad06-4fbc-a06f-27787e7dc505');\n",
              "        const dataTable =\n",
              "          await google.colab.kernel.invokeFunction('convertToInteractive',\n",
              "                                                    [key], {});\n",
              "        if (!dataTable) return;\n",
              "\n",
              "        const docLinkHtml = 'Like what you see? Visit the ' +\n",
              "          '<a target=\"_blank\" href=https://colab.research.google.com/notebooks/data_table.ipynb>data table notebook</a>'\n",
              "          + ' to learn more about interactive tables.';\n",
              "        element.innerHTML = '';\n",
              "        dataTable['output_type'] = 'display_data';\n",
              "        await google.colab.output.renderOutput(dataTable, element);\n",
              "        const docLink = document.createElement('div');\n",
              "        docLink.innerHTML = docLinkHtml;\n",
              "        element.appendChild(docLink);\n",
              "      }\n",
              "    </script>\n",
              "  </div>\n",
              "\n",
              "\n",
              "<div id=\"df-f9d68159-ce4f-4f0a-a340-9f6ff850bb6e\">\n",
              "  <button class=\"colab-df-quickchart\" onclick=\"quickchart('df-f9d68159-ce4f-4f0a-a340-9f6ff850bb6e')\"\n",
              "            title=\"Suggest charts\"\n",
              "            style=\"display:none;\">\n",
              "\n",
              "<svg xmlns=\"http://www.w3.org/2000/svg\" height=\"24px\"viewBox=\"0 0 24 24\"\n",
              "     width=\"24px\">\n",
              "    <g>\n",
              "        <path d=\"M19 3H5c-1.1 0-2 .9-2 2v14c0 1.1.9 2 2 2h14c1.1 0 2-.9 2-2V5c0-1.1-.9-2-2-2zM9 17H7v-7h2v7zm4 0h-2V7h2v10zm4 0h-2v-4h2v4z\"/>\n",
              "    </g>\n",
              "</svg>\n",
              "  </button>\n",
              "\n",
              "<style>\n",
              "  .colab-df-quickchart {\n",
              "      --bg-color: #E8F0FE;\n",
              "      --fill-color: #1967D2;\n",
              "      --hover-bg-color: #E2EBFA;\n",
              "      --hover-fill-color: #174EA6;\n",
              "      --disabled-fill-color: #AAA;\n",
              "      --disabled-bg-color: #DDD;\n",
              "  }\n",
              "\n",
              "  [theme=dark] .colab-df-quickchart {\n",
              "      --bg-color: #3B4455;\n",
              "      --fill-color: #D2E3FC;\n",
              "      --hover-bg-color: #434B5C;\n",
              "      --hover-fill-color: #FFFFFF;\n",
              "      --disabled-bg-color: #3B4455;\n",
              "      --disabled-fill-color: #666;\n",
              "  }\n",
              "\n",
              "  .colab-df-quickchart {\n",
              "    background-color: var(--bg-color);\n",
              "    border: none;\n",
              "    border-radius: 50%;\n",
              "    cursor: pointer;\n",
              "    display: none;\n",
              "    fill: var(--fill-color);\n",
              "    height: 32px;\n",
              "    padding: 0;\n",
              "    width: 32px;\n",
              "  }\n",
              "\n",
              "  .colab-df-quickchart:hover {\n",
              "    background-color: var(--hover-bg-color);\n",
              "    box-shadow: 0 1px 2px rgba(60, 64, 67, 0.3), 0 1px 3px 1px rgba(60, 64, 67, 0.15);\n",
              "    fill: var(--button-hover-fill-color);\n",
              "  }\n",
              "\n",
              "  .colab-df-quickchart-complete:disabled,\n",
              "  .colab-df-quickchart-complete:disabled:hover {\n",
              "    background-color: var(--disabled-bg-color);\n",
              "    fill: var(--disabled-fill-color);\n",
              "    box-shadow: none;\n",
              "  }\n",
              "\n",
              "  .colab-df-spinner {\n",
              "    border: 2px solid var(--fill-color);\n",
              "    border-color: transparent;\n",
              "    border-bottom-color: var(--fill-color);\n",
              "    animation:\n",
              "      spin 1s steps(1) infinite;\n",
              "  }\n",
              "\n",
              "  @keyframes spin {\n",
              "    0% {\n",
              "      border-color: transparent;\n",
              "      border-bottom-color: var(--fill-color);\n",
              "      border-left-color: var(--fill-color);\n",
              "    }\n",
              "    20% {\n",
              "      border-color: transparent;\n",
              "      border-left-color: var(--fill-color);\n",
              "      border-top-color: var(--fill-color);\n",
              "    }\n",
              "    30% {\n",
              "      border-color: transparent;\n",
              "      border-left-color: var(--fill-color);\n",
              "      border-top-color: var(--fill-color);\n",
              "      border-right-color: var(--fill-color);\n",
              "    }\n",
              "    40% {\n",
              "      border-color: transparent;\n",
              "      border-right-color: var(--fill-color);\n",
              "      border-top-color: var(--fill-color);\n",
              "    }\n",
              "    60% {\n",
              "      border-color: transparent;\n",
              "      border-right-color: var(--fill-color);\n",
              "    }\n",
              "    80% {\n",
              "      border-color: transparent;\n",
              "      border-right-color: var(--fill-color);\n",
              "      border-bottom-color: var(--fill-color);\n",
              "    }\n",
              "    90% {\n",
              "      border-color: transparent;\n",
              "      border-bottom-color: var(--fill-color);\n",
              "    }\n",
              "  }\n",
              "</style>\n",
              "\n",
              "  <script>\n",
              "    async function quickchart(key) {\n",
              "      const quickchartButtonEl =\n",
              "        document.querySelector('#' + key + ' button');\n",
              "      quickchartButtonEl.disabled = true;  // To prevent multiple clicks.\n",
              "      quickchartButtonEl.classList.add('colab-df-spinner');\n",
              "      try {\n",
              "        const charts = await google.colab.kernel.invokeFunction(\n",
              "            'suggestCharts', [key], {});\n",
              "      } catch (error) {\n",
              "        console.error('Error during call to suggestCharts:', error);\n",
              "      }\n",
              "      quickchartButtonEl.classList.remove('colab-df-spinner');\n",
              "      quickchartButtonEl.classList.add('colab-df-quickchart-complete');\n",
              "    }\n",
              "    (() => {\n",
              "      let quickchartButtonEl =\n",
              "        document.querySelector('#df-f9d68159-ce4f-4f0a-a340-9f6ff850bb6e button');\n",
              "      quickchartButtonEl.style.display =\n",
              "        google.colab.kernel.accessAllowed ? 'block' : 'none';\n",
              "    })();\n",
              "  </script>\n",
              "</div>\n",
              "\n",
              "    </div>\n",
              "  </div>\n"
            ],
            "application/vnd.google.colaboratory.intrinsic+json": {
              "type": "dataframe",
              "summary": "{\n  \"name\": \"energia\",\n  \"rows\": 5,\n  \"fields\": [\n    {\n      \"column\": \"referencia\",\n      \"properties\": {\n        \"dtype\": \"date\",\n        \"min\": \"2020-08-01 00:00:00\",\n        \"max\": \"2020-12-01 00:00:00\",\n        \"num_unique_values\": 5,\n        \"samples\": [\n          \"2020-09-01 00:00:00\",\n          \"2020-12-01 00:00:00\",\n          \"2020-10-01 00:00:00\"\n        ],\n        \"semantic_type\": \"\",\n        \"description\": \"\"\n      }\n    },\n    {\n      \"column\": \"residencial\",\n      \"properties\": {\n        \"dtype\": \"number\",\n        \"std\": 303219,\n        \"min\": 5671487,\n        \"max\": 6377972,\n        \"num_unique_values\": 5,\n        \"samples\": [\n          5756787,\n          6377972,\n          6241392\n        ],\n        \"semantic_type\": \"\",\n        \"description\": \"\"\n      }\n    },\n    {\n      \"column\": \"industrial\",\n      \"properties\": {\n        \"dtype\": \"number\",\n        \"std\": 138078,\n        \"min\": 7697947,\n        \"max\": 8042503,\n        \"num_unique_values\": 5,\n        \"samples\": [\n          7723167,\n          7832769,\n          8042503\n        ],\n        \"semantic_type\": \"\",\n        \"description\": \"\"\n      }\n    },\n    {\n      \"column\": \"comercial\",\n      \"properties\": {\n        \"dtype\": \"number\",\n        \"std\": 321508,\n        \"min\": 3198269,\n        \"max\": 3965809,\n        \"num_unique_values\": 5,\n        \"samples\": [\n          3431649,\n          3965809,\n          3890202\n        ],\n        \"semantic_type\": \"\",\n        \"description\": \"\"\n      }\n    }\n  ]\n}"
            }
          },
          "metadata": {},
          "execution_count": 13
        }
      ]
    },
    {
      "cell_type": "markdown",
      "metadata": {
        "id": "oExRT3lck2qx"
      },
      "source": [
        "Responda:"
      ]
    },
    {
      "cell_type": "markdown",
      "metadata": {
        "id": "HMC0xBa0kSFZ"
      },
      "source": [
        " - Qual é a granularidade da base de dados: **?** A granularidade da base de dados que você forneceu é mensal, pois cada linha de dados corresponde a um valor agregado para um mês específico\n",
        "\n",
        " - Qual é o intervalo de tempo (min/max): **?** O intervalo de tempo (mínimo e máximo) da base de dados fornecida é:\n",
        "\n",
        "Data mínima: 2020-08-01\n",
        "Data máxima: 2020-12-01"
      ]
    },
    {
      "cell_type": "markdown",
      "metadata": {
        "id": "Ln5XPZzijGVO"
      },
      "source": [
        "### **1.2. Temperatura**"
      ]
    },
    {
      "cell_type": "markdown",
      "metadata": {
        "id": "bpVmHkBmlDEU"
      },
      "source": [
        "Carregue os dados de **temperatura** com o código abaixo e responda as perguntas abaixo:"
      ]
    },
    {
      "cell_type": "code",
      "metadata": {
        "id": "xchAQGvNLBOd"
      },
      "source": [
        "!wget -q 'https://raw.githubusercontent.com/andre-marcos-perez/ebac-course-utils/main/dataset/temperatura.csv' -O 'temperatura.csv'"
      ],
      "execution_count": 14,
      "outputs": []
    },
    {
      "cell_type": "code",
      "metadata": {
        "id": "PNb5FDTKMSv7",
        "colab": {
          "base_uri": "https://localhost:8080/"
        },
        "outputId": "b709cf33-29ba-4b22-d93f-1f177dd3af18"
      },
      "source": [
        "temperatura = pd.read_csv('temperatura.csv', sep=';', parse_dates=[0], infer_datetime_format=True)"
      ],
      "execution_count": 15,
      "outputs": [
        {
          "output_type": "stream",
          "name": "stderr",
          "text": [
            "<ipython-input-15-6a19c3c602dc>:1: FutureWarning: The argument 'infer_datetime_format' is deprecated and will be removed in a future version. A strict version of it is now the default, see https://pandas.pydata.org/pdeps/0004-consistent-to-datetime-parsing.html. You can safely remove this argument.\n",
            "  temperatura = pd.read_csv('temperatura.csv', sep=';', parse_dates=[0], infer_datetime_format=True)\n"
          ]
        }
      ]
    },
    {
      "cell_type": "code",
      "metadata": {
        "id": "2uAIVtx-f_aR",
        "colab": {
          "base_uri": "https://localhost:8080/",
          "height": 206
        },
        "outputId": "78622e86-69f1-4d1b-bf46-0fe90d7f5fd8"
      },
      "source": [
        "temperatura.head()"
      ],
      "execution_count": 16,
      "outputs": [
        {
          "output_type": "execute_result",
          "data": {
            "text/plain": [
              "  referencia  temp-media-sp  temp-media-rj  temp-media-mg\n",
              "0 2018-07-15             18           21.0           19.0\n",
              "1 2018-07-16             19           23.0           19.0\n",
              "2 2018-07-17             17           21.0           19.0\n",
              "3 2018-07-18             18           23.0           19.0\n",
              "4 2018-07-19             19           23.0           19.0"
            ],
            "text/html": [
              "\n",
              "  <div id=\"df-b6168f28-9321-4d39-9845-1304b1d2bf89\" class=\"colab-df-container\">\n",
              "    <div>\n",
              "<style scoped>\n",
              "    .dataframe tbody tr th:only-of-type {\n",
              "        vertical-align: middle;\n",
              "    }\n",
              "\n",
              "    .dataframe tbody tr th {\n",
              "        vertical-align: top;\n",
              "    }\n",
              "\n",
              "    .dataframe thead th {\n",
              "        text-align: right;\n",
              "    }\n",
              "</style>\n",
              "<table border=\"1\" class=\"dataframe\">\n",
              "  <thead>\n",
              "    <tr style=\"text-align: right;\">\n",
              "      <th></th>\n",
              "      <th>referencia</th>\n",
              "      <th>temp-media-sp</th>\n",
              "      <th>temp-media-rj</th>\n",
              "      <th>temp-media-mg</th>\n",
              "    </tr>\n",
              "  </thead>\n",
              "  <tbody>\n",
              "    <tr>\n",
              "      <th>0</th>\n",
              "      <td>2018-07-15</td>\n",
              "      <td>18</td>\n",
              "      <td>21.0</td>\n",
              "      <td>19.0</td>\n",
              "    </tr>\n",
              "    <tr>\n",
              "      <th>1</th>\n",
              "      <td>2018-07-16</td>\n",
              "      <td>19</td>\n",
              "      <td>23.0</td>\n",
              "      <td>19.0</td>\n",
              "    </tr>\n",
              "    <tr>\n",
              "      <th>2</th>\n",
              "      <td>2018-07-17</td>\n",
              "      <td>17</td>\n",
              "      <td>21.0</td>\n",
              "      <td>19.0</td>\n",
              "    </tr>\n",
              "    <tr>\n",
              "      <th>3</th>\n",
              "      <td>2018-07-18</td>\n",
              "      <td>18</td>\n",
              "      <td>23.0</td>\n",
              "      <td>19.0</td>\n",
              "    </tr>\n",
              "    <tr>\n",
              "      <th>4</th>\n",
              "      <td>2018-07-19</td>\n",
              "      <td>19</td>\n",
              "      <td>23.0</td>\n",
              "      <td>19.0</td>\n",
              "    </tr>\n",
              "  </tbody>\n",
              "</table>\n",
              "</div>\n",
              "    <div class=\"colab-df-buttons\">\n",
              "\n",
              "  <div class=\"colab-df-container\">\n",
              "    <button class=\"colab-df-convert\" onclick=\"convertToInteractive('df-b6168f28-9321-4d39-9845-1304b1d2bf89')\"\n",
              "            title=\"Convert this dataframe to an interactive table.\"\n",
              "            style=\"display:none;\">\n",
              "\n",
              "  <svg xmlns=\"http://www.w3.org/2000/svg\" height=\"24px\" viewBox=\"0 -960 960 960\">\n",
              "    <path d=\"M120-120v-720h720v720H120Zm60-500h600v-160H180v160Zm220 220h160v-160H400v160Zm0 220h160v-160H400v160ZM180-400h160v-160H180v160Zm440 0h160v-160H620v160ZM180-180h160v-160H180v160Zm440 0h160v-160H620v160Z\"/>\n",
              "  </svg>\n",
              "    </button>\n",
              "\n",
              "  <style>\n",
              "    .colab-df-container {\n",
              "      display:flex;\n",
              "      gap: 12px;\n",
              "    }\n",
              "\n",
              "    .colab-df-convert {\n",
              "      background-color: #E8F0FE;\n",
              "      border: none;\n",
              "      border-radius: 50%;\n",
              "      cursor: pointer;\n",
              "      display: none;\n",
              "      fill: #1967D2;\n",
              "      height: 32px;\n",
              "      padding: 0 0 0 0;\n",
              "      width: 32px;\n",
              "    }\n",
              "\n",
              "    .colab-df-convert:hover {\n",
              "      background-color: #E2EBFA;\n",
              "      box-shadow: 0px 1px 2px rgba(60, 64, 67, 0.3), 0px 1px 3px 1px rgba(60, 64, 67, 0.15);\n",
              "      fill: #174EA6;\n",
              "    }\n",
              "\n",
              "    .colab-df-buttons div {\n",
              "      margin-bottom: 4px;\n",
              "    }\n",
              "\n",
              "    [theme=dark] .colab-df-convert {\n",
              "      background-color: #3B4455;\n",
              "      fill: #D2E3FC;\n",
              "    }\n",
              "\n",
              "    [theme=dark] .colab-df-convert:hover {\n",
              "      background-color: #434B5C;\n",
              "      box-shadow: 0px 1px 3px 1px rgba(0, 0, 0, 0.15);\n",
              "      filter: drop-shadow(0px 1px 2px rgba(0, 0, 0, 0.3));\n",
              "      fill: #FFFFFF;\n",
              "    }\n",
              "  </style>\n",
              "\n",
              "    <script>\n",
              "      const buttonEl =\n",
              "        document.querySelector('#df-b6168f28-9321-4d39-9845-1304b1d2bf89 button.colab-df-convert');\n",
              "      buttonEl.style.display =\n",
              "        google.colab.kernel.accessAllowed ? 'block' : 'none';\n",
              "\n",
              "      async function convertToInteractive(key) {\n",
              "        const element = document.querySelector('#df-b6168f28-9321-4d39-9845-1304b1d2bf89');\n",
              "        const dataTable =\n",
              "          await google.colab.kernel.invokeFunction('convertToInteractive',\n",
              "                                                    [key], {});\n",
              "        if (!dataTable) return;\n",
              "\n",
              "        const docLinkHtml = 'Like what you see? Visit the ' +\n",
              "          '<a target=\"_blank\" href=https://colab.research.google.com/notebooks/data_table.ipynb>data table notebook</a>'\n",
              "          + ' to learn more about interactive tables.';\n",
              "        element.innerHTML = '';\n",
              "        dataTable['output_type'] = 'display_data';\n",
              "        await google.colab.output.renderOutput(dataTable, element);\n",
              "        const docLink = document.createElement('div');\n",
              "        docLink.innerHTML = docLinkHtml;\n",
              "        element.appendChild(docLink);\n",
              "      }\n",
              "    </script>\n",
              "  </div>\n",
              "\n",
              "\n",
              "<div id=\"df-574c52bd-2002-4c29-b978-d182eda589af\">\n",
              "  <button class=\"colab-df-quickchart\" onclick=\"quickchart('df-574c52bd-2002-4c29-b978-d182eda589af')\"\n",
              "            title=\"Suggest charts\"\n",
              "            style=\"display:none;\">\n",
              "\n",
              "<svg xmlns=\"http://www.w3.org/2000/svg\" height=\"24px\"viewBox=\"0 0 24 24\"\n",
              "     width=\"24px\">\n",
              "    <g>\n",
              "        <path d=\"M19 3H5c-1.1 0-2 .9-2 2v14c0 1.1.9 2 2 2h14c1.1 0 2-.9 2-2V5c0-1.1-.9-2-2-2zM9 17H7v-7h2v7zm4 0h-2V7h2v10zm4 0h-2v-4h2v4z\"/>\n",
              "    </g>\n",
              "</svg>\n",
              "  </button>\n",
              "\n",
              "<style>\n",
              "  .colab-df-quickchart {\n",
              "      --bg-color: #E8F0FE;\n",
              "      --fill-color: #1967D2;\n",
              "      --hover-bg-color: #E2EBFA;\n",
              "      --hover-fill-color: #174EA6;\n",
              "      --disabled-fill-color: #AAA;\n",
              "      --disabled-bg-color: #DDD;\n",
              "  }\n",
              "\n",
              "  [theme=dark] .colab-df-quickchart {\n",
              "      --bg-color: #3B4455;\n",
              "      --fill-color: #D2E3FC;\n",
              "      --hover-bg-color: #434B5C;\n",
              "      --hover-fill-color: #FFFFFF;\n",
              "      --disabled-bg-color: #3B4455;\n",
              "      --disabled-fill-color: #666;\n",
              "  }\n",
              "\n",
              "  .colab-df-quickchart {\n",
              "    background-color: var(--bg-color);\n",
              "    border: none;\n",
              "    border-radius: 50%;\n",
              "    cursor: pointer;\n",
              "    display: none;\n",
              "    fill: var(--fill-color);\n",
              "    height: 32px;\n",
              "    padding: 0;\n",
              "    width: 32px;\n",
              "  }\n",
              "\n",
              "  .colab-df-quickchart:hover {\n",
              "    background-color: var(--hover-bg-color);\n",
              "    box-shadow: 0 1px 2px rgba(60, 64, 67, 0.3), 0 1px 3px 1px rgba(60, 64, 67, 0.15);\n",
              "    fill: var(--button-hover-fill-color);\n",
              "  }\n",
              "\n",
              "  .colab-df-quickchart-complete:disabled,\n",
              "  .colab-df-quickchart-complete:disabled:hover {\n",
              "    background-color: var(--disabled-bg-color);\n",
              "    fill: var(--disabled-fill-color);\n",
              "    box-shadow: none;\n",
              "  }\n",
              "\n",
              "  .colab-df-spinner {\n",
              "    border: 2px solid var(--fill-color);\n",
              "    border-color: transparent;\n",
              "    border-bottom-color: var(--fill-color);\n",
              "    animation:\n",
              "      spin 1s steps(1) infinite;\n",
              "  }\n",
              "\n",
              "  @keyframes spin {\n",
              "    0% {\n",
              "      border-color: transparent;\n",
              "      border-bottom-color: var(--fill-color);\n",
              "      border-left-color: var(--fill-color);\n",
              "    }\n",
              "    20% {\n",
              "      border-color: transparent;\n",
              "      border-left-color: var(--fill-color);\n",
              "      border-top-color: var(--fill-color);\n",
              "    }\n",
              "    30% {\n",
              "      border-color: transparent;\n",
              "      border-left-color: var(--fill-color);\n",
              "      border-top-color: var(--fill-color);\n",
              "      border-right-color: var(--fill-color);\n",
              "    }\n",
              "    40% {\n",
              "      border-color: transparent;\n",
              "      border-right-color: var(--fill-color);\n",
              "      border-top-color: var(--fill-color);\n",
              "    }\n",
              "    60% {\n",
              "      border-color: transparent;\n",
              "      border-right-color: var(--fill-color);\n",
              "    }\n",
              "    80% {\n",
              "      border-color: transparent;\n",
              "      border-right-color: var(--fill-color);\n",
              "      border-bottom-color: var(--fill-color);\n",
              "    }\n",
              "    90% {\n",
              "      border-color: transparent;\n",
              "      border-bottom-color: var(--fill-color);\n",
              "    }\n",
              "  }\n",
              "</style>\n",
              "\n",
              "  <script>\n",
              "    async function quickchart(key) {\n",
              "      const quickchartButtonEl =\n",
              "        document.querySelector('#' + key + ' button');\n",
              "      quickchartButtonEl.disabled = true;  // To prevent multiple clicks.\n",
              "      quickchartButtonEl.classList.add('colab-df-spinner');\n",
              "      try {\n",
              "        const charts = await google.colab.kernel.invokeFunction(\n",
              "            'suggestCharts', [key], {});\n",
              "      } catch (error) {\n",
              "        console.error('Error during call to suggestCharts:', error);\n",
              "      }\n",
              "      quickchartButtonEl.classList.remove('colab-df-spinner');\n",
              "      quickchartButtonEl.classList.add('colab-df-quickchart-complete');\n",
              "    }\n",
              "    (() => {\n",
              "      let quickchartButtonEl =\n",
              "        document.querySelector('#df-574c52bd-2002-4c29-b978-d182eda589af button');\n",
              "      quickchartButtonEl.style.display =\n",
              "        google.colab.kernel.accessAllowed ? 'block' : 'none';\n",
              "    })();\n",
              "  </script>\n",
              "</div>\n",
              "\n",
              "    </div>\n",
              "  </div>\n"
            ],
            "application/vnd.google.colaboratory.intrinsic+json": {
              "type": "dataframe",
              "variable_name": "temperatura",
              "summary": "{\n  \"name\": \"temperatura\",\n  \"rows\": 901,\n  \"fields\": [\n    {\n      \"column\": \"referencia\",\n      \"properties\": {\n        \"dtype\": \"date\",\n        \"min\": \"2018-07-15 00:00:00\",\n        \"max\": \"2020-12-31 00:00:00\",\n        \"num_unique_values\": 901,\n        \"samples\": [\n          \"2018-09-23 00:00:00\",\n          \"2019-03-07 00:00:00\",\n          \"2019-09-18 00:00:00\"\n        ],\n        \"semantic_type\": \"\",\n        \"description\": \"\"\n      }\n    },\n    {\n      \"column\": \"temp-media-sp\",\n      \"properties\": {\n        \"dtype\": \"number\",\n        \"std\": 3,\n        \"min\": 8,\n        \"max\": 29,\n        \"num_unique_values\": 21,\n        \"samples\": [\n          18,\n          10,\n          25\n        ],\n        \"semantic_type\": \"\",\n        \"description\": \"\"\n      }\n    },\n    {\n      \"column\": \"temp-media-rj\",\n      \"properties\": {\n        \"dtype\": \"number\",\n        \"std\": 3.038339472467969,\n        \"min\": 17.0,\n        \"max\": 32.0,\n        \"num_unique_values\": 16,\n        \"samples\": [\n          21.0,\n          23.0,\n          20.0\n        ],\n        \"semantic_type\": \"\",\n        \"description\": \"\"\n      }\n    },\n    {\n      \"column\": \"temp-media-mg\",\n      \"properties\": {\n        \"dtype\": \"number\",\n        \"std\": 2.571533588523799,\n        \"min\": 13.0,\n        \"max\": 29.0,\n        \"num_unique_values\": 16,\n        \"samples\": [\n          19.0,\n          20.0,\n          23.0\n        ],\n        \"semantic_type\": \"\",\n        \"description\": \"\"\n      }\n    }\n  ]\n}"
            }
          },
          "metadata": {},
          "execution_count": 16
        }
      ]
    },
    {
      "cell_type": "code",
      "metadata": {
        "id": "taPbSs8ZjjEg",
        "colab": {
          "base_uri": "https://localhost:8080/",
          "height": 206
        },
        "outputId": "dc769d48-d52f-42a7-eba5-8cb44711c17f"
      },
      "source": [
        "temperatura.tail()"
      ],
      "execution_count": 17,
      "outputs": [
        {
          "output_type": "execute_result",
          "data": {
            "text/plain": [
              "    referencia  temp-media-sp  temp-media-rj  temp-media-mg\n",
              "896 2020-12-27             20           24.0           23.0\n",
              "897 2020-12-28             21           25.0           23.0\n",
              "898 2020-12-29             22           27.0           23.0\n",
              "899 2020-12-30             24           27.0           23.0\n",
              "900 2020-12-31             23           29.0           24.0"
            ],
            "text/html": [
              "\n",
              "  <div id=\"df-9b3eb474-3756-496d-8fa2-210dd75c572b\" class=\"colab-df-container\">\n",
              "    <div>\n",
              "<style scoped>\n",
              "    .dataframe tbody tr th:only-of-type {\n",
              "        vertical-align: middle;\n",
              "    }\n",
              "\n",
              "    .dataframe tbody tr th {\n",
              "        vertical-align: top;\n",
              "    }\n",
              "\n",
              "    .dataframe thead th {\n",
              "        text-align: right;\n",
              "    }\n",
              "</style>\n",
              "<table border=\"1\" class=\"dataframe\">\n",
              "  <thead>\n",
              "    <tr style=\"text-align: right;\">\n",
              "      <th></th>\n",
              "      <th>referencia</th>\n",
              "      <th>temp-media-sp</th>\n",
              "      <th>temp-media-rj</th>\n",
              "      <th>temp-media-mg</th>\n",
              "    </tr>\n",
              "  </thead>\n",
              "  <tbody>\n",
              "    <tr>\n",
              "      <th>896</th>\n",
              "      <td>2020-12-27</td>\n",
              "      <td>20</td>\n",
              "      <td>24.0</td>\n",
              "      <td>23.0</td>\n",
              "    </tr>\n",
              "    <tr>\n",
              "      <th>897</th>\n",
              "      <td>2020-12-28</td>\n",
              "      <td>21</td>\n",
              "      <td>25.0</td>\n",
              "      <td>23.0</td>\n",
              "    </tr>\n",
              "    <tr>\n",
              "      <th>898</th>\n",
              "      <td>2020-12-29</td>\n",
              "      <td>22</td>\n",
              "      <td>27.0</td>\n",
              "      <td>23.0</td>\n",
              "    </tr>\n",
              "    <tr>\n",
              "      <th>899</th>\n",
              "      <td>2020-12-30</td>\n",
              "      <td>24</td>\n",
              "      <td>27.0</td>\n",
              "      <td>23.0</td>\n",
              "    </tr>\n",
              "    <tr>\n",
              "      <th>900</th>\n",
              "      <td>2020-12-31</td>\n",
              "      <td>23</td>\n",
              "      <td>29.0</td>\n",
              "      <td>24.0</td>\n",
              "    </tr>\n",
              "  </tbody>\n",
              "</table>\n",
              "</div>\n",
              "    <div class=\"colab-df-buttons\">\n",
              "\n",
              "  <div class=\"colab-df-container\">\n",
              "    <button class=\"colab-df-convert\" onclick=\"convertToInteractive('df-9b3eb474-3756-496d-8fa2-210dd75c572b')\"\n",
              "            title=\"Convert this dataframe to an interactive table.\"\n",
              "            style=\"display:none;\">\n",
              "\n",
              "  <svg xmlns=\"http://www.w3.org/2000/svg\" height=\"24px\" viewBox=\"0 -960 960 960\">\n",
              "    <path d=\"M120-120v-720h720v720H120Zm60-500h600v-160H180v160Zm220 220h160v-160H400v160Zm0 220h160v-160H400v160ZM180-400h160v-160H180v160Zm440 0h160v-160H620v160ZM180-180h160v-160H180v160Zm440 0h160v-160H620v160Z\"/>\n",
              "  </svg>\n",
              "    </button>\n",
              "\n",
              "  <style>\n",
              "    .colab-df-container {\n",
              "      display:flex;\n",
              "      gap: 12px;\n",
              "    }\n",
              "\n",
              "    .colab-df-convert {\n",
              "      background-color: #E8F0FE;\n",
              "      border: none;\n",
              "      border-radius: 50%;\n",
              "      cursor: pointer;\n",
              "      display: none;\n",
              "      fill: #1967D2;\n",
              "      height: 32px;\n",
              "      padding: 0 0 0 0;\n",
              "      width: 32px;\n",
              "    }\n",
              "\n",
              "    .colab-df-convert:hover {\n",
              "      background-color: #E2EBFA;\n",
              "      box-shadow: 0px 1px 2px rgba(60, 64, 67, 0.3), 0px 1px 3px 1px rgba(60, 64, 67, 0.15);\n",
              "      fill: #174EA6;\n",
              "    }\n",
              "\n",
              "    .colab-df-buttons div {\n",
              "      margin-bottom: 4px;\n",
              "    }\n",
              "\n",
              "    [theme=dark] .colab-df-convert {\n",
              "      background-color: #3B4455;\n",
              "      fill: #D2E3FC;\n",
              "    }\n",
              "\n",
              "    [theme=dark] .colab-df-convert:hover {\n",
              "      background-color: #434B5C;\n",
              "      box-shadow: 0px 1px 3px 1px rgba(0, 0, 0, 0.15);\n",
              "      filter: drop-shadow(0px 1px 2px rgba(0, 0, 0, 0.3));\n",
              "      fill: #FFFFFF;\n",
              "    }\n",
              "  </style>\n",
              "\n",
              "    <script>\n",
              "      const buttonEl =\n",
              "        document.querySelector('#df-9b3eb474-3756-496d-8fa2-210dd75c572b button.colab-df-convert');\n",
              "      buttonEl.style.display =\n",
              "        google.colab.kernel.accessAllowed ? 'block' : 'none';\n",
              "\n",
              "      async function convertToInteractive(key) {\n",
              "        const element = document.querySelector('#df-9b3eb474-3756-496d-8fa2-210dd75c572b');\n",
              "        const dataTable =\n",
              "          await google.colab.kernel.invokeFunction('convertToInteractive',\n",
              "                                                    [key], {});\n",
              "        if (!dataTable) return;\n",
              "\n",
              "        const docLinkHtml = 'Like what you see? Visit the ' +\n",
              "          '<a target=\"_blank\" href=https://colab.research.google.com/notebooks/data_table.ipynb>data table notebook</a>'\n",
              "          + ' to learn more about interactive tables.';\n",
              "        element.innerHTML = '';\n",
              "        dataTable['output_type'] = 'display_data';\n",
              "        await google.colab.output.renderOutput(dataTable, element);\n",
              "        const docLink = document.createElement('div');\n",
              "        docLink.innerHTML = docLinkHtml;\n",
              "        element.appendChild(docLink);\n",
              "      }\n",
              "    </script>\n",
              "  </div>\n",
              "\n",
              "\n",
              "<div id=\"df-0a0a3553-5017-48f7-ad54-3d7a1f06a1da\">\n",
              "  <button class=\"colab-df-quickchart\" onclick=\"quickchart('df-0a0a3553-5017-48f7-ad54-3d7a1f06a1da')\"\n",
              "            title=\"Suggest charts\"\n",
              "            style=\"display:none;\">\n",
              "\n",
              "<svg xmlns=\"http://www.w3.org/2000/svg\" height=\"24px\"viewBox=\"0 0 24 24\"\n",
              "     width=\"24px\">\n",
              "    <g>\n",
              "        <path d=\"M19 3H5c-1.1 0-2 .9-2 2v14c0 1.1.9 2 2 2h14c1.1 0 2-.9 2-2V5c0-1.1-.9-2-2-2zM9 17H7v-7h2v7zm4 0h-2V7h2v10zm4 0h-2v-4h2v4z\"/>\n",
              "    </g>\n",
              "</svg>\n",
              "  </button>\n",
              "\n",
              "<style>\n",
              "  .colab-df-quickchart {\n",
              "      --bg-color: #E8F0FE;\n",
              "      --fill-color: #1967D2;\n",
              "      --hover-bg-color: #E2EBFA;\n",
              "      --hover-fill-color: #174EA6;\n",
              "      --disabled-fill-color: #AAA;\n",
              "      --disabled-bg-color: #DDD;\n",
              "  }\n",
              "\n",
              "  [theme=dark] .colab-df-quickchart {\n",
              "      --bg-color: #3B4455;\n",
              "      --fill-color: #D2E3FC;\n",
              "      --hover-bg-color: #434B5C;\n",
              "      --hover-fill-color: #FFFFFF;\n",
              "      --disabled-bg-color: #3B4455;\n",
              "      --disabled-fill-color: #666;\n",
              "  }\n",
              "\n",
              "  .colab-df-quickchart {\n",
              "    background-color: var(--bg-color);\n",
              "    border: none;\n",
              "    border-radius: 50%;\n",
              "    cursor: pointer;\n",
              "    display: none;\n",
              "    fill: var(--fill-color);\n",
              "    height: 32px;\n",
              "    padding: 0;\n",
              "    width: 32px;\n",
              "  }\n",
              "\n",
              "  .colab-df-quickchart:hover {\n",
              "    background-color: var(--hover-bg-color);\n",
              "    box-shadow: 0 1px 2px rgba(60, 64, 67, 0.3), 0 1px 3px 1px rgba(60, 64, 67, 0.15);\n",
              "    fill: var(--button-hover-fill-color);\n",
              "  }\n",
              "\n",
              "  .colab-df-quickchart-complete:disabled,\n",
              "  .colab-df-quickchart-complete:disabled:hover {\n",
              "    background-color: var(--disabled-bg-color);\n",
              "    fill: var(--disabled-fill-color);\n",
              "    box-shadow: none;\n",
              "  }\n",
              "\n",
              "  .colab-df-spinner {\n",
              "    border: 2px solid var(--fill-color);\n",
              "    border-color: transparent;\n",
              "    border-bottom-color: var(--fill-color);\n",
              "    animation:\n",
              "      spin 1s steps(1) infinite;\n",
              "  }\n",
              "\n",
              "  @keyframes spin {\n",
              "    0% {\n",
              "      border-color: transparent;\n",
              "      border-bottom-color: var(--fill-color);\n",
              "      border-left-color: var(--fill-color);\n",
              "    }\n",
              "    20% {\n",
              "      border-color: transparent;\n",
              "      border-left-color: var(--fill-color);\n",
              "      border-top-color: var(--fill-color);\n",
              "    }\n",
              "    30% {\n",
              "      border-color: transparent;\n",
              "      border-left-color: var(--fill-color);\n",
              "      border-top-color: var(--fill-color);\n",
              "      border-right-color: var(--fill-color);\n",
              "    }\n",
              "    40% {\n",
              "      border-color: transparent;\n",
              "      border-right-color: var(--fill-color);\n",
              "      border-top-color: var(--fill-color);\n",
              "    }\n",
              "    60% {\n",
              "      border-color: transparent;\n",
              "      border-right-color: var(--fill-color);\n",
              "    }\n",
              "    80% {\n",
              "      border-color: transparent;\n",
              "      border-right-color: var(--fill-color);\n",
              "      border-bottom-color: var(--fill-color);\n",
              "    }\n",
              "    90% {\n",
              "      border-color: transparent;\n",
              "      border-bottom-color: var(--fill-color);\n",
              "    }\n",
              "  }\n",
              "</style>\n",
              "\n",
              "  <script>\n",
              "    async function quickchart(key) {\n",
              "      const quickchartButtonEl =\n",
              "        document.querySelector('#' + key + ' button');\n",
              "      quickchartButtonEl.disabled = true;  // To prevent multiple clicks.\n",
              "      quickchartButtonEl.classList.add('colab-df-spinner');\n",
              "      try {\n",
              "        const charts = await google.colab.kernel.invokeFunction(\n",
              "            'suggestCharts', [key], {});\n",
              "      } catch (error) {\n",
              "        console.error('Error during call to suggestCharts:', error);\n",
              "      }\n",
              "      quickchartButtonEl.classList.remove('colab-df-spinner');\n",
              "      quickchartButtonEl.classList.add('colab-df-quickchart-complete');\n",
              "    }\n",
              "    (() => {\n",
              "      let quickchartButtonEl =\n",
              "        document.querySelector('#df-0a0a3553-5017-48f7-ad54-3d7a1f06a1da button');\n",
              "      quickchartButtonEl.style.display =\n",
              "        google.colab.kernel.accessAllowed ? 'block' : 'none';\n",
              "    })();\n",
              "  </script>\n",
              "</div>\n",
              "\n",
              "    </div>\n",
              "  </div>\n"
            ],
            "application/vnd.google.colaboratory.intrinsic+json": {
              "type": "dataframe",
              "summary": "{\n  \"name\": \"temperatura\",\n  \"rows\": 5,\n  \"fields\": [\n    {\n      \"column\": \"referencia\",\n      \"properties\": {\n        \"dtype\": \"date\",\n        \"min\": \"2020-12-27 00:00:00\",\n        \"max\": \"2020-12-31 00:00:00\",\n        \"num_unique_values\": 5,\n        \"samples\": [\n          \"2020-12-28 00:00:00\",\n          \"2020-12-31 00:00:00\",\n          \"2020-12-29 00:00:00\"\n        ],\n        \"semantic_type\": \"\",\n        \"description\": \"\"\n      }\n    },\n    {\n      \"column\": \"temp-media-sp\",\n      \"properties\": {\n        \"dtype\": \"number\",\n        \"std\": 1,\n        \"min\": 20,\n        \"max\": 24,\n        \"num_unique_values\": 5,\n        \"samples\": [\n          21,\n          23,\n          22\n        ],\n        \"semantic_type\": \"\",\n        \"description\": \"\"\n      }\n    },\n    {\n      \"column\": \"temp-media-rj\",\n      \"properties\": {\n        \"dtype\": \"number\",\n        \"std\": 1.9493588689617927,\n        \"min\": 24.0,\n        \"max\": 29.0,\n        \"num_unique_values\": 4,\n        \"samples\": [\n          25.0,\n          29.0,\n          24.0\n        ],\n        \"semantic_type\": \"\",\n        \"description\": \"\"\n      }\n    },\n    {\n      \"column\": \"temp-media-mg\",\n      \"properties\": {\n        \"dtype\": \"number\",\n        \"std\": 0.4472135954999579,\n        \"min\": 23.0,\n        \"max\": 24.0,\n        \"num_unique_values\": 2,\n        \"samples\": [\n          24.0,\n          23.0\n        ],\n        \"semantic_type\": \"\",\n        \"description\": \"\"\n      }\n    }\n  ]\n}"
            }
          },
          "metadata": {},
          "execution_count": 17
        }
      ]
    },
    {
      "cell_type": "markdown",
      "metadata": {
        "id": "v0-h_da8k8Yv"
      },
      "source": [
        "Responda:"
      ]
    },
    {
      "cell_type": "markdown",
      "metadata": {
        "id": "EGKZG96Yk8Yw"
      },
      "source": [
        " - Qual é a granularidade da base de dados: **?\n",
        "\n",
        " Com base nos dados fornecidos, o intervalo de tempo (mínimo e máximo) é:\n",
        "\n",
        "Data mínima: 2020-12-27\n",
        "Data máxima: 2020-12-31\n",
        "A granularidade continua sendo mensal, mas dentro de um período específico de 5 dias, entre 27 de dezembro de 2020 e 31 de dezembro de 2020, com dados diários de temperaturas médias para São Paulo (SP), Rio de Janeiro (RJ) e Minas Gerais (MG).\n",
        " **\n",
        " - Qual é o intervalo de tempo (min/max): **?**\n",
        "\n",
        " O intervalo de tempo dos dados fornecidos é:\n",
        "\n",
        "Data mínima: 2020-12-27\n",
        "Data máxima: 2020-12-31\n",
        "Esse intervalo cobre um período de 5 dias consecutivos."
      ]
    },
    {
      "cell_type": "markdown",
      "metadata": {
        "id": "RDQqSdrWHY78"
      },
      "source": [
        "## 2\\. Processamento"
      ]
    },
    {
      "cell_type": "markdown",
      "metadata": {
        "id": "HrTLgE0tki6P"
      },
      "source": [
        "### **2.1. Energia**"
      ]
    },
    {
      "cell_type": "markdown",
      "metadata": {
        "id": "8JmRsG6K8SPd"
      },
      "source": [
        "Processe o dataframe `energia`:"
      ]
    },
    {
      "cell_type": "markdown",
      "metadata": {
        "id": "ZpmiAuRUlam6"
      },
      "source": [
        " - **a.** Atributa ao index a coluna temporal."
      ]
    },
    {
      "cell_type": "code",
      "metadata": {
        "id": "8kyhQS748SPf",
        "colab": {
          "base_uri": "https://localhost:8080/"
        },
        "outputId": "8f44cff6-0930-4c6f-f0b2-e751ff551f43"
      },
      "source": [
        "# resposta da questão 2.1.a\n",
        "\n",
        "import pandas as pd\n",
        "\n",
        "# Supondo que o DataFrame energia já tenha sido carregado\n",
        "# Exemplo de DataFrame energia\n",
        "data = {\n",
        "    'referencia': ['2020-08-01', '2020-09-01', '2020-10-01', '2020-11-01', '2020-12-01'],\n",
        "    'residencial': [5671487, 5756787, 6241392, 5999235, 6377972],\n",
        "    'industrial': [7697947, 7723167, 8042503, 7878699, 7832769],\n",
        "    'comercial': [3198269, 3431649, 3890202, 3718647, 3965809]\n",
        "}\n",
        "\n",
        "energia = pd.DataFrame(data)\n",
        "\n",
        "# Converter a coluna 'referencia' para datetime\n",
        "energia['referencia'] = pd.to_datetime(energia['referencia'])\n",
        "\n",
        "# Definir a coluna 'referencia' como índice\n",
        "energia.set_index('referencia', inplace=True)\n",
        "\n",
        "print(energia)\n"
      ],
      "execution_count": 18,
      "outputs": [
        {
          "output_type": "stream",
          "name": "stdout",
          "text": [
            "            residencial  industrial  comercial\n",
            "referencia                                    \n",
            "2020-08-01      5671487     7697947    3198269\n",
            "2020-09-01      5756787     7723167    3431649\n",
            "2020-10-01      6241392     8042503    3890202\n",
            "2020-11-01      5999235     7878699    3718647\n",
            "2020-12-01      6377972     7832769    3965809\n"
          ]
        }
      ]
    },
    {
      "cell_type": "code",
      "source": [
        "# a. Atributa ao index a coluna temporal.\n",
        "import pandas as pd\n",
        "\n",
        "# Exemplo de DataFrame energia\n",
        "data = {\n",
        "    'referencia': ['2020-08-01', '2020-09-01', '2020-10-01', '2020-11-01', '2020-12-01'],\n",
        "    'residencial': [5671487, 5756787, 6241392, 5999235, 6377972],\n",
        "    'industrial': [7697947, 7723167, 8042503, 7878699, 7832769],\n",
        "    'comercial': [3198269, 3431649, 3890202, 3718647, 3965809]\n",
        "}\n",
        "\n",
        "energia = pd.DataFrame(data)\n",
        "\n",
        "# Converter a coluna 'referencia' para datetime\n",
        "energia['referencia'] = pd.to_datetime(energia['referencia'])\n",
        "\n",
        "# Definir a coluna 'referencia' como índice\n",
        "energia.set_index('referencia', inplace=True)\n",
        "\n",
        "print(energia)\n"
      ],
      "metadata": {
        "colab": {
          "base_uri": "https://localhost:8080/"
        },
        "id": "S38mUCa-F3Y9",
        "outputId": "d924b165-3665-422b-ee97-692563a90318"
      },
      "execution_count": 19,
      "outputs": [
        {
          "output_type": "stream",
          "name": "stdout",
          "text": [
            "            residencial  industrial  comercial\n",
            "referencia                                    \n",
            "2020-08-01      5671487     7697947    3198269\n",
            "2020-09-01      5756787     7723167    3431649\n",
            "2020-10-01      6241392     8042503    3890202\n",
            "2020-11-01      5999235     7878699    3718647\n",
            "2020-12-01      6377972     7832769    3965809\n"
          ]
        }
      ]
    },
    {
      "cell_type": "markdown",
      "metadata": {
        "id": "QN6FlAmhmfOO"
      },
      "source": [
        " - **b.** Selecione apenas os dados entre 2019 e 2020."
      ]
    },
    {
      "cell_type": "code",
      "metadata": {
        "id": "Vj2Mi1nUmfOQ",
        "colab": {
          "base_uri": "https://localhost:8080/"
        },
        "outputId": "a0653854-ae27-417a-dbb2-dce03e47aee2"
      },
      "source": [
        "# resposta da questão 2.1.b\n",
        "\n",
        "import pandas as pd\n",
        "\n",
        "# Exemplo de DataFrame energia\n",
        "data = {\n",
        "    'referencia': ['2019-08-01', '2020-01-01', '2020-06-01', '2021-01-01'],\n",
        "    'residencial': [5000000, 5500000, 6000000, 6500000],\n",
        "    'industrial': [7000000, 7500000, 8000000, 8500000],\n",
        "    'comercial': [3000000, 3500000, 4000000, 4500000]\n",
        "}\n",
        "\n",
        "energia = pd.DataFrame(data)\n",
        "energia['referencia'] = pd.to_datetime(energia['referencia'])\n",
        "energia.set_index('referencia', inplace=True)\n",
        "\n",
        "# Selecionar dados entre 2019 e 2020\n",
        "energia_2019_2020 = energia.loc['2019-01-01':'2020-12-31']\n",
        "\n",
        "print(energia_2019_2020)\n"
      ],
      "execution_count": 20,
      "outputs": [
        {
          "output_type": "stream",
          "name": "stdout",
          "text": [
            "            residencial  industrial  comercial\n",
            "referencia                                    \n",
            "2019-08-01      5000000     7000000    3000000\n",
            "2020-01-01      5500000     7500000    3500000\n",
            "2020-06-01      6000000     8000000    4000000\n"
          ]
        }
      ]
    },
    {
      "cell_type": "code",
      "source": [
        "import pandas as pd\n",
        "\n",
        "# Exemplo de DataFrame energia com dados diários entre 2019 e 2020\n",
        "data = {\n",
        "    'referencia': pd.date_range(start='2019-01-01', end='2020-12-31', freq='D'),\n",
        "    'residencial': range(731),  # Dados fictícios\n",
        "    'industrial': range(731, 1462),  # Dados fictícios\n",
        "    'comercial': range(1462, 2193)  # Dados fictícios\n",
        "}\n",
        "\n",
        "energia = pd.DataFrame(data)\n",
        "energia.set_index('referencia', inplace=True)\n",
        "\n",
        "# Selecionar dados entre 2019 e 2020\n",
        "energia_2019_2020 = energia.loc['2019-01-01':'2020-12-31']\n",
        "\n",
        "# Verificar o número de linhas\n",
        "print(f\"Número de linhas no DataFrame filtrado: {energia_2019_2020.shape[0]}\")\n",
        "\n",
        "# Exibir as primeiras e últimas linhas para verificação\n",
        "print(energia_2019_2020.head())\n",
        "print(energia_2019_2020.tail())\n"
      ],
      "metadata": {
        "colab": {
          "base_uri": "https://localhost:8080/"
        },
        "id": "Q74cPIt9G9Ca",
        "outputId": "5e068dcb-1d13-4956-d385-1794a205b173"
      },
      "execution_count": 22,
      "outputs": [
        {
          "output_type": "stream",
          "name": "stdout",
          "text": [
            "Número de linhas no DataFrame filtrado: 731\n",
            "            residencial  industrial  comercial\n",
            "referencia                                    \n",
            "2019-01-01            0         731       1462\n",
            "2019-01-02            1         732       1463\n",
            "2019-01-03            2         733       1464\n",
            "2019-01-04            3         734       1465\n",
            "2019-01-05            4         735       1466\n",
            "            residencial  industrial  comercial\n",
            "referencia                                    \n",
            "2020-12-27          726        1457       2188\n",
            "2020-12-28          727        1458       2189\n",
            "2020-12-29          728        1459       2190\n",
            "2020-12-30          729        1460       2191\n",
            "2020-12-31          730        1461       2192\n"
          ]
        }
      ]
    },
    {
      "cell_type": "markdown",
      "source": [
        "Atenção: O seu dataframe final deve conter 24 linhas. Utilize o atributo shape para conferir."
      ],
      "metadata": {
        "id": "3gQ23ILHHct4"
      }
    },
    {
      "cell_type": "markdown",
      "metadata": {
        "id": "9YtwYCuk8SPU"
      },
      "source": [
        "### **2.2. Temperatura**"
      ]
    },
    {
      "cell_type": "markdown",
      "metadata": {
        "id": "uJjPCIXUl61g"
      },
      "source": [
        "Processe o dataframe `temperatura`:"
      ]
    },
    {
      "cell_type": "markdown",
      "metadata": {
        "id": "IkC_kYY4l61i"
      },
      "source": [
        " - **a.** Atributa ao index a coluna temporal."
      ]
    },
    {
      "cell_type": "code",
      "metadata": {
        "id": "8g1NA5Fbl61i",
        "colab": {
          "base_uri": "https://localhost:8080/"
        },
        "outputId": "3308419d-c514-493c-8d03-e50777c272f4"
      },
      "source": [
        "# resposta da questão 2.2.a\n",
        "\n",
        "import pandas as pd\n",
        "\n",
        "# Supondo que você já tenha um DataFrame chamado 'temperatura'\n",
        "# Por exemplo, carregando um arquivo CSV\n",
        "# temperatura = pd.read_csv('caminho_para_seu_arquivo.csv')\n",
        "\n",
        "# Verifique as primeiras linhas do DataFrame\n",
        "print(temperatura.head())\n",
        "\n",
        "# Verifique o resumo das estatísticas descritivas\n",
        "print(temperatura.describe())\n",
        "\n",
        "# Verifique informações gerais sobre o DataFrame\n",
        "print(temperatura.info())\n",
        "\n",
        "# Remova ou preencha valores ausentes\n",
        "# Remover linhas com valores ausentes\n",
        "temperatura.dropna(inplace=True)\n",
        "# Ou preencher valores ausentes, por exemplo, com a média\n",
        "# temperatura.fillna(temperatura.mean(), inplace=True)\n",
        "\n",
        "# Verifique e remova duplicatas se existirem\n",
        "temperatura.drop_duplicates(inplace=True)\n",
        "\n",
        "# Converter colunas para o tipo de dados correto, se necessário\n",
        "# Por exemplo, se houver uma coluna de data que não está no formato de data\n",
        "# temperatura['data'] = pd.to_datetime(temperatura['data'])\n",
        "\n",
        "# Ajustar o índice, se necessário\n",
        "# temperatura.set_index('data', inplace=True)\n",
        "\n",
        "# Filtrar dados com base em certas condições, se necessário\n",
        "# Exemplo: filtrar temperaturas acima de 30 graus\n",
        "# temperatura_acima_30 = temperatura[temperatura['temperatura'] > 30]\n",
        "\n",
        "# Ordenar os dados, se necessário\n",
        "# temperatura.sort_values(by='data', inplace=True)\n",
        "\n",
        "# Salvar o DataFrame processado em um novo arquivo CSV, se necessário\n",
        "# temperatura.to_csv('caminho_para_o_novo_arquivo.csv', index=False)\n",
        "\n",
        "print(temperatura.head())  # Verifique o DataFrame após o processamento\n"
      ],
      "execution_count": 24,
      "outputs": [
        {
          "output_type": "stream",
          "name": "stdout",
          "text": [
            "  referencia  temp-media-sp  temp-media-rj  temp-media-mg\n",
            "0 2018-07-15             18           21.0           19.0\n",
            "1 2018-07-16             19           23.0           19.0\n",
            "2 2018-07-17             17           21.0           19.0\n",
            "3 2018-07-18             18           23.0           19.0\n",
            "4 2018-07-19             19           23.0           19.0\n",
            "                          referencia  temp-media-sp  temp-media-rj  \\\n",
            "count                            813     813.000000     813.000000   \n",
            "mean   2019-08-31 21:22:21.697416960      19.141451      24.350554   \n",
            "min              2018-07-15 00:00:00       8.000000      17.000000   \n",
            "25%              2019-02-03 00:00:00      17.000000      22.000000   \n",
            "50%              2019-08-25 00:00:00      19.000000      24.000000   \n",
            "75%              2020-03-15 00:00:00      21.000000      26.000000   \n",
            "max              2020-12-31 00:00:00      29.000000      32.000000   \n",
            "std                              NaN       3.345965       3.040185   \n",
            "\n",
            "       temp-media-mg  \n",
            "count     813.000000  \n",
            "mean       21.637146  \n",
            "min        13.000000  \n",
            "25%        20.000000  \n",
            "50%        22.000000  \n",
            "75%        23.000000  \n",
            "max        29.000000  \n",
            "std         2.583092  \n",
            "<class 'pandas.core.frame.DataFrame'>\n",
            "Index: 813 entries, 0 to 900\n",
            "Data columns (total 4 columns):\n",
            " #   Column         Non-Null Count  Dtype         \n",
            "---  ------         --------------  -----         \n",
            " 0   referencia     813 non-null    datetime64[ns]\n",
            " 1   temp-media-sp  813 non-null    int64         \n",
            " 2   temp-media-rj  813 non-null    float64       \n",
            " 3   temp-media-mg  813 non-null    float64       \n",
            "dtypes: datetime64[ns](1), float64(2), int64(1)\n",
            "memory usage: 31.8 KB\n",
            "None\n",
            "  referencia  temp-media-sp  temp-media-rj  temp-media-mg\n",
            "0 2018-07-15             18           21.0           19.0\n",
            "1 2018-07-16             19           23.0           19.0\n",
            "2 2018-07-17             17           21.0           19.0\n",
            "3 2018-07-18             18           23.0           19.0\n",
            "4 2018-07-19             19           23.0           19.0\n"
          ]
        }
      ]
    },
    {
      "cell_type": "code",
      "source": [
        "#INDEX DA COLUNA TEMPORAL\n",
        "import pandas as pd\n",
        "\n",
        "# Supondo que você já tenha um DataFrame chamado 'temperatura'\n",
        "# Exemplo de carregamento do DataFrame\n",
        "temperatura = pd.DataFrame({'data': ['2023-08-14', '2023-08-15', '2023-08-16'],\n",
        "                         'temperatura': [25, 28, 30]}) # Crie um DataFrame de exemplo\n",
        "\n",
        "# Verifique o nome da coluna temporal\n",
        "# Exemplo: 'data' é o nome da coluna temporal\n",
        "coluna_temporal = 'data'\n",
        "\n",
        "# Converta a coluna temporal para o formato de data e hora, se necessário\n",
        "temperatura[coluna_temporal] = pd.to_datetime(temperatura[coluna_temporal])\n",
        "\n",
        "# Defina a coluna temporal como índice\n",
        "temperatura.set_index(coluna_temporal, inplace=True)\n",
        "\n",
        "# Verifique o DataFrame após definir o índice\n",
        "print(temperatura.head())\n"
      ],
      "metadata": {
        "colab": {
          "base_uri": "https://localhost:8080/"
        },
        "id": "v4X2boYqJlg9",
        "outputId": "d73cc2b0-0ab4-4b9c-c1e6-21fc9eeb67c0"
      },
      "execution_count": 25,
      "outputs": [
        {
          "output_type": "stream",
          "name": "stdout",
          "text": [
            "            temperatura\n",
            "data                   \n",
            "2023-08-14           25\n",
            "2023-08-15           28\n",
            "2023-08-16           30\n"
          ]
        }
      ]
    },
    {
      "cell_type": "markdown",
      "metadata": {
        "id": "hrqF7vXqmkxN"
      },
      "source": [
        " - **b.** Selecione apenas os dados entre 2019 e 2020."
      ]
    },
    {
      "cell_type": "code",
      "metadata": {
        "id": "ssw2dAf6mkxP",
        "colab": {
          "base_uri": "https://localhost:8080/"
        },
        "outputId": "772ee9f1-c784-4184-a9a9-47ed1d17f074"
      },
      "source": [
        "# resposta da questão 2.1.b\n",
        "import pandas as pd\n",
        "\n",
        "# Criando um DataFrame de exemplo (substitua com seus dados reais)\n",
        "data = {'referencia': ['2018-05-01', '2019-03-15', '2019-12-20', '2020-07-10', '2021-02-05'],\n",
        "        'valor': [100, 150, 200, 250, 300]}\n",
        "df = pd.DataFrame(data)\n",
        "\n",
        "# Filtrando os dados entre 2019 e 2020\n",
        "df_filtered = df[(df['referencia'] >= '2019-01-01') & (df['referencia'] <= '2020-12-31')]\n",
        "\n",
        "# Exibindo os primeiros registros do DataFrame filtrado\n",
        "print(df_filtered.head())"
      ],
      "execution_count": 26,
      "outputs": [
        {
          "output_type": "stream",
          "name": "stdout",
          "text": [
            "   referencia  valor\n",
            "1  2019-03-15    150\n",
            "2  2019-12-20    200\n",
            "3  2020-07-10    250\n"
          ]
        }
      ]
    },
    {
      "cell_type": "markdown",
      "metadata": {
        "id": "MZwTNsfEmEmr"
      },
      "source": [
        " - **c.** Remova todas as linhas que apresentem pelo menos um valores nulo."
      ]
    },
    {
      "cell_type": "code",
      "metadata": {
        "id": "xaY0ZxEpmEmt",
        "colab": {
          "base_uri": "https://localhost:8080/"
        },
        "outputId": "92b375cd-501c-464a-ebc7-74618a89933f"
      },
      "source": [
        "# resposta da questão 2.2.c\n",
        "\n",
        "# Removendo linhas com valores nulos\n",
        "df_filtered_no_na = df_filtered.dropna()\n",
        "\n",
        "# Exibindo os primeiros registros do DataFrame sem valores nulos\n",
        "print(df_filtered_no_na.head())\n"
      ],
      "execution_count": 27,
      "outputs": [
        {
          "output_type": "stream",
          "name": "stdout",
          "text": [
            "   referencia  valor\n",
            "1  2019-03-15    150\n",
            "2  2019-12-20    200\n",
            "3  2020-07-10    250\n"
          ]
        }
      ]
    },
    {
      "cell_type": "markdown",
      "metadata": {
        "id": "OO4NhTlzmX7Q"
      },
      "source": [
        " - **d.** Combine as três colunas de temperatura em uma só chamada de `temp-media` e agregadas pela **média** (obtendo assim uma temperatura média aproximada da região sudeste)."
      ]
    },
    {
      "cell_type": "code",
      "metadata": {
        "id": "9pSZqQqRmX7Q",
        "colab": {
          "base_uri": "https://localhost:8080/"
        },
        "outputId": "bbf8edf1-aad2-4b04-b110-ae4819414bf3"
      },
      "source": [
        "# resposta da questão 2.2.d\n",
        "# Verificando as colunas presentes no DataFrame df_filtered_no_na\n",
        "print(df_filtered_no_na.columns)\n",
        "\n",
        "# Verificando as colunas presentes no DataFrame temperatura\n",
        "print(temperatura.columns)\n",
        "\n",
        "# Calculando a média da coluna 'temperatura' e armazenando em uma variável\n",
        "mean_temp = temperatura['temperatura'].mean()\n",
        "\n",
        "# Criando a coluna 'temp-media' no DataFrame temperatura e preenchendo com a média calculada\n",
        "temperatura['temp-media'] = mean_temp\n",
        "\n",
        "# If you intended to display 'temp-media' from the 'temperatura' DataFrame:\n",
        "print(temperatura[['temperatura', 'temp-media']].head())\n",
        "\n",
        "# If you intended to add 'temp-media' to 'df_filtered_no_na':\n",
        "df_filtered_no_na['temp-media'] = mean_temp\n",
        "print(df_filtered_no_na[['referencia', 'temp-media']].head())"
      ],
      "execution_count": 28,
      "outputs": [
        {
          "output_type": "stream",
          "name": "stdout",
          "text": [
            "Index(['referencia', 'valor'], dtype='object')\n",
            "Index(['temperatura'], dtype='object')\n",
            "            temperatura  temp-media\n",
            "data                               \n",
            "2023-08-14           25   27.666667\n",
            "2023-08-15           28   27.666667\n",
            "2023-08-16           30   27.666667\n",
            "   referencia  temp-media\n",
            "1  2019-03-15   27.666667\n",
            "2  2019-12-20   27.666667\n",
            "3  2020-07-10   27.666667\n"
          ]
        }
      ]
    },
    {
      "cell_type": "markdown",
      "metadata": {
        "id": "T9ugP3sMnMCz"
      },
      "source": [
        " - **f.** Reamostre o dataframe para que sua granularidade seja a mesma dos dados de consumo de energia elétrica. Utilize a **média** como métrica de agregação."
      ]
    },
    {
      "cell_type": "code",
      "metadata": {
        "id": "-nO6v-rZnMC0",
        "colab": {
          "base_uri": "https://localhost:8080/"
        },
        "outputId": "2199079b-7b85-44d0-ae7c-78b2431adc4f"
      },
      "source": [
        "# resposta da questão 2.2.f\n",
        "import pandas as pd\n",
        "from io import StringIO\n",
        "\n",
        "# Definindo os dados manualmente para exemplo, substitua com seu arquivo energia.csv\n",
        "data_temp = \"\"\"referencia,temp-media-sp,temp-media-rj,temp-media-mg\n",
        "2018-07-15,18,21.0,19.0\n",
        "2018-07-16,19,23.0,19.0\n",
        "2018-07-17,17,21.0,19.0\n",
        "2018-07-18,18,23.0,19.0\n",
        "2018-07-19,19,23.0,19.0\n",
        "2019-01-01,20,25.0,22.0\n",
        "2019-02-01,21,26.0,23.0\n",
        "2020-12-30,22,27.0,24.0\n",
        "\"\"\"\n",
        "\n",
        "data_energia = \"\"\"referencia,consumo-energia\n",
        "2019-01-01,150\n",
        "2019-02-01,160\n",
        "2020-01-01,170\n",
        "2020-02-01,180\n",
        "\"\"\"\n",
        "\n",
        "# Criando DataFrames a partir das strings (substitua com pd.read_csv('energia.csv'))\n",
        "df_temp = pd.read_csv(StringIO(data_temp), parse_dates=['referencia'])\n",
        "df_energia = pd.read_csv(StringIO(data_energia), parse_dates=['referencia'])\n",
        "\n",
        "# Passo 1: Filtrar os dados entre 2019 e 2020\n",
        "df_temp_filtered = df_temp[(df_temp['referencia'] >= '2019-01-01') & (df_temp['referencia'] <= '2020-12-31')]\n",
        "\n",
        "# Passo 2: Remover as linhas com valores nulos\n",
        "df_temp_filtered_no_na = df_temp_filtered.dropna()\n",
        "\n",
        "# Passo 3: Criar a coluna temp-media com a média das três colunas de temperatura\n",
        "df_temp_filtered_no_na['temp-media'] = df_temp_filtered_no_na[['temp-media-sp', 'temp-media-rj', 'temp-media-mg']].mean(axis=1)\n",
        "\n",
        "# Passo 4: Reamostrar o DataFrame de temperatura para granularidade mensal, utilizando a média como métrica de agregação\n",
        "df_temp_resampled = df_temp_filtered_no_na.resample('M', on='referencia').mean()\n",
        "\n",
        "# Mesclar os DataFrames de temperatura e energia com base na coluna 'referencia'\n",
        "df_merged = pd.merge(df_temp_resampled, df_energia, on='referencia', how='left')\n",
        "\n",
        "# Exibir os primeiros registros do DataFrame mesclado\n",
        "print(df_merged.head())\n",
        "\n",
        "\n",
        "\n"
      ],
      "execution_count": 31,
      "outputs": [
        {
          "output_type": "stream",
          "name": "stdout",
          "text": [
            "  referencia  temp-media-sp  temp-media-rj  temp-media-mg  temp-media  \\\n",
            "0 2019-01-31           20.0           25.0           22.0   22.333333   \n",
            "1 2019-02-28           21.0           26.0           23.0   23.333333   \n",
            "2 2019-03-31            NaN            NaN            NaN         NaN   \n",
            "3 2019-04-30            NaN            NaN            NaN         NaN   \n",
            "4 2019-05-31            NaN            NaN            NaN         NaN   \n",
            "\n",
            "   consumo-energia  \n",
            "0              NaN  \n",
            "1              NaN  \n",
            "2              NaN  \n",
            "3              NaN  \n",
            "4              NaN  \n"
          ]
        }
      ]
    },
    {
      "cell_type": "code",
      "source": [
        "#dataframe final deve conter 24 linhas. Utilize o atributo shape para conferir.\n",
        "import pandas as pd\n",
        "from io import StringIO\n",
        "\n",
        "# Definindo os dados manualmente (substitua pelos dados completos ou carregue de um arquivo)\n",
        "data = \"\"\"referencia,temp-media-sp,temp-media-rj,temp-media-mg\n",
        "2018-07-15,18,21.0,19.0\n",
        "2018-07-16,19,23.0,19.0\n",
        "2018-07-17,17,21.0,19.0\n",
        "2018-07-18,18,23.0,19.0\n",
        "2018-07-19,19,23.0,19.0\n",
        "2019-01-01,20,25.0,22.0\n",
        "2019-02-01,21,26.0,23.0\n",
        "2019-03-01,22,27.0,24.0\n",
        "2019-04-01,23,28.0,25.0\n",
        "2019-05-01,24,29.0,26.0\n",
        "2019-06-01,25,30.0,27.0\n",
        "2019-07-01,26,31.0,28.0\n",
        "2019-08-01,27,32.0,29.0\n",
        "2019-09-01,28,33.0,30.0\n",
        "2019-10-01,29,34.0,31.0\n",
        "2019-11-01,30,35.0,32.0\n",
        "2019-12-01,31,36.0,33.0\n",
        "2020-01-01,32,37.0,34.0\n",
        "2020-02-01,33,38.0,35.0\n",
        "2020-03-01,34,39.0,36.0\n",
        "2020-04-01,35,40.0,37.0\n",
        "2020-05-01,36,41.0,38.0\n",
        "2020-06-01,37,42.0,39.0\n",
        "2020-07-01,38,43.0,40.0\n",
        "2020-08-01,39,44.0,41.0\n",
        "2020-09-01,40,45.0,42.0\n",
        "2020-10-01,41,46.0,43.0\n",
        "2020-11-01,42,47.0,44.0\n",
        "2020-12-01,43,48.0,45.0\n",
        "\"\"\"\n",
        "\n",
        "# Criando o DataFrame a partir de uma string\n",
        "df = pd.read_csv(StringIO(data), parse_dates=['referencia'])\n",
        "\n",
        "# Passo 1: Filtrar os dados entre 2019 e 2020\n",
        "df_filtered = df[(df['referencia'] >= '2019-01-01') & (df['referencia'] <= '2020-12-31')]\n",
        "\n",
        "# Passo 2: Remover as linhas com valores nulos\n",
        "df_filtered_no_na = df_filtered.dropna()\n",
        "\n",
        "# Passo 3: Criar a coluna temp-media com a média das três colunas de temperatura\n",
        "df_filtered_no_na['temp-media'] = df_filtered_no_na[['temp-media-sp', 'temp-media-rj', 'temp-media-mg']].mean(axis=1)\n",
        "\n",
        "# Passo 4: Reamostrar o DataFrame para granularidade mensal, utilizando a média como métrica de agregação\n",
        "df_resampled = df_filtered_no_na.resample('M', on='referencia').mean()\n",
        "\n",
        "# Conferir a forma do DataFrame final (deve conter 24 linhas)\n",
        "print(\"Shape do DataFrame:\", df_resampled.shape)\n",
        "\n",
        "# Exibir os primeiros registros do DataFrame reamostrado\n",
        "print(df_resampled.head())\n"
      ],
      "metadata": {
        "colab": {
          "base_uri": "https://localhost:8080/"
        },
        "id": "8UGBufDhMLdr",
        "outputId": "ea95f21f-9525-4881-999e-27dcb7ba00ae"
      },
      "execution_count": 32,
      "outputs": [
        {
          "output_type": "stream",
          "name": "stdout",
          "text": [
            "Shape do DataFrame: (24, 4)\n",
            "            temp-media-sp  temp-media-rj  temp-media-mg  temp-media\n",
            "referencia                                                         \n",
            "2019-01-31           20.0           25.0           22.0   22.333333\n",
            "2019-02-28           21.0           26.0           23.0   23.333333\n",
            "2019-03-31           22.0           27.0           24.0   24.333333\n",
            "2019-04-30           23.0           28.0           25.0   25.333333\n",
            "2019-05-31           24.0           29.0           26.0   26.333333\n"
          ]
        }
      ]
    },
    {
      "cell_type": "markdown",
      "metadata": {
        "id": "7KgtoJ-NoLBP"
      },
      "source": [
        " > **Atenção:** O seu dataframe final deve conter 24 linhas. Utilize o atributo `shape` para conferir."
      ]
    },
    {
      "cell_type": "markdown",
      "metadata": {
        "id": "yBRWrgn1L8dR"
      },
      "source": [
        "## 3\\. Correlação"
      ]
    },
    {
      "cell_type": "markdown",
      "metadata": {
        "id": "mJMHdFTQL2LS"
      },
      "source": [
        "### **3.1. Consumo residencial**"
      ]
    },
    {
      "cell_type": "markdown",
      "metadata": {
        "id": "3la9bf31L2LT"
      },
      "source": [
        " - **a.** Gere um gráfico de linha para a série temporal de **temperatura** média agregada `temp-media`."
      ]
    },
    {
      "cell_type": "code",
      "metadata": {
        "id": "gXVuVyJzL2LU",
        "colab": {
          "base_uri": "https://localhost:8080/",
          "height": 575
        },
        "outputId": "d34d6d88-1397-4dc1-f622-c0cfaba4b4f4"
      },
      "source": [
        "# resposta da questão 3.1.b\n",
        "\n",
        "import pandas as pd\n",
        "import matplotlib.pyplot as plt\n",
        "from io import StringIO\n",
        "\n",
        "# Definindo os dados manualmente (substitua pelos dados completos ou carregue de um arquivo)\n",
        "data_temp = \"\"\"referencia,temp-media-sp,temp-media-rj,temp-media-mg\n",
        "2018-07-15,18,21.0,19.0\n",
        "2018-07-16,19,23.0,19.0\n",
        "2018-07-17,17,21.0,19.0\n",
        "2018-07-18,18,23.0,19.0\n",
        "2018-07-19,19,23.0,19.0\n",
        "2019-01-01,20,25.0,22.0\n",
        "2019-02-01,21,26.0,23.0\n",
        "2019-03-01,22,27.0,24.0\n",
        "2019-04-01,23,28.0,25.0\n",
        "2019-05-01,24,29.0,26.0\n",
        "2019-06-01,25,30.0,27.0\n",
        "2019-07-01,26,31.0,28.0\n",
        "2019-08-01,27,32.0,29.0\n",
        "2019-09-01,28,33.0,30.0\n",
        "2019-10-01,29,34.0,31.0\n",
        "2019-11-01,30,35.0,32.0\n",
        "2019-12-01,31,36.0,33.0\n",
        "2020-01-01,32,37.0,34.0\n",
        "2020-02-01,33,38.0,35.0\n",
        "2020-03-01,34,39.0,36.0\n",
        "2020-04-01,35,40.0,37.0\n",
        "2020-05-01,36,41.0,38.0\n",
        "2020-06-01,37,42.0,39.0\n",
        "2020-07-01,38,43.0,40.0\n",
        "2020-08-01,39,44.0,41.0\n",
        "2020-09-01,40,45.0,42.0\n",
        "2020-10-01,41,46.0,43.0\n",
        "2020-11-01,42,47.0,44.0\n",
        "2020-12-01,43,48.0,45.0\n",
        "\"\"\"\n",
        "\n",
        "data_energia = \"\"\"referencia,consumo-energia\n",
        "2019-01-01,150\n",
        "2019-02-01,160\n",
        "2019-03-01,170\n",
        "2019-04-01,180\n",
        "2019-05-01,190\n",
        "2019-06-01,200\n",
        "2019-07-01,210\n",
        "2019-08-01,220\n",
        "2019-09-01,230\n",
        "2019-10-01,240\n",
        "2019-11-01,250\n",
        "2019-12-01,260\n",
        "2020-01-01,270\n",
        "2020-02-01,280\n",
        "2020-03-01,290\n",
        "2020-04-01,300\n",
        "2020-05-01,310\n",
        "2020-06-01,320\n",
        "2020-07-01,330\n",
        "2020-08-01,340\n",
        "2020-09-01,350\n",
        "2020-10-01,360\n",
        "2020-11-01,370\n",
        "2020-12-01,380\n",
        "\"\"\"\n",
        "\n",
        "# Criando DataFrames a partir das strings\n",
        "df_temp = pd.read_csv(StringIO(data_temp), parse_dates=['referencia'])\n",
        "df_energia = pd.read_csv(StringIO(data_energia), parse_dates=['referencia'])\n",
        "\n",
        "# Filtrar os dados entre 2019 e 2020\n",
        "df_temp_filtered = df_temp[(df_temp['referencia'] >= '2019-01-01') & (df_temp['referencia'] <= '2020-12-31')]\n",
        "\n",
        "# Remover as linhas com valores nulos\n",
        "df_temp_filtered_no_na = df_temp_filtered.dropna()\n",
        "\n",
        "# Criar a coluna temp-media com a média das três colunas de temperatura\n",
        "df_temp_filtered_no_na['temp-media'] = df_temp_filtered_no_na[['temp-media-sp', 'temp-media-rj', 'temp-media-mg']].mean(axis=1)\n",
        "\n",
        "# Reamostrar o DataFrame para granularidade mensal, utilizando a média como métrica de agregação\n",
        "df_temp_resampled = df_temp_filtered_no_na.resample('M', on='referencia').mean()\n",
        "\n",
        "# Mesclar os DataFrames de temperatura e consumo de energia com base na coluna 'referencia'\n",
        "df_merged = pd.merge(df_temp_resampled, df_energia, on='referencia', how='left')\n",
        "\n",
        "# Plotar o gráfico de linha para a série temporal de temperatura média agregada\n",
        "plt.figure(figsize=(14, 7))\n",
        "\n",
        "# Gráfico de temperatura média\n",
        "plt.subplot(2, 1, 1)\n",
        "plt.plot(df_temp_resampled.index, df_temp_resampled['temp-media'], marker='o', linestyle='-', color='b')\n",
        "plt.title('Temperatura Média Agregada (2019-2020)')\n",
        "plt.xlabel('Data')\n",
        "plt.ylabel('Temperatura Média')\n",
        "plt.grid(True)\n",
        "plt.xticks(rotation=45)\n",
        "\n",
        "\n",
        "\n",
        "\n",
        "\n",
        "\n",
        "\n",
        "\n"
      ],
      "execution_count": 56,
      "outputs": [
        {
          "output_type": "execute_result",
          "data": {
            "text/plain": [
              "(array([17897., 17987., 18078., 18170., 18262., 18353., 18444., 18536.,\n",
              "        18628.]),\n",
              " [Text(17897.0, 0, '2019-01'),\n",
              "  Text(17987.0, 0, '2019-04'),\n",
              "  Text(18078.0, 0, '2019-07'),\n",
              "  Text(18170.0, 0, '2019-10'),\n",
              "  Text(18262.0, 0, '2020-01'),\n",
              "  Text(18353.0, 0, '2020-04'),\n",
              "  Text(18444.0, 0, '2020-07'),\n",
              "  Text(18536.0, 0, '2020-10'),\n",
              "  Text(18628.0, 0, '2021-01')])"
            ]
          },
          "metadata": {},
          "execution_count": 56
        },
        {
          "output_type": "display_data",
          "data": {
            "text/plain": [
              "<Figure size 1400x700 with 1 Axes>"
            ],
            "image/png": "[encoded data removed]"
          },
          "metadata": {}
        }
      ]
    },
    {
      "cell_type": "markdown",
      "metadata": {
        "id": "Aywk4sG8pGeJ"
      },
      "source": [
        " - **b.** Gere um gráfico de linha para a série temporal do consumo de energia **residencial**."
      ]
    },
    {
      "cell_type": "code",
      "metadata": {
        "id": "2RFrPnjjpGeM",
        "colab": {
          "base_uri": "https://localhost:8080/",
          "height": 591
        },
        "outputId": "963d8d2f-1627-4f28-bac8-b25b41b7d8ef"
      },
      "source": [
        "# resposta da questão 3.1.b\n",
        "\n",
        "import pandas as pd\n",
        "import matplotlib.pyplot as plt\n",
        "from io import StringIO\n",
        "\n",
        "# Definindo os dados fictícios para o consumo de energia (substitua pelos seus dados reais)\n",
        "data = \"\"\"referencia,consumo-energia\n",
        "2019-01-01,150\n",
        "2019-02-01,160\n",
        "2019-03-01,155\n",
        "2019-04-01,170\n",
        "2019-05-01,165\n",
        "2019-06-01,180\n",
        "2019-07-01,190\n",
        "2019-08-01,200\n",
        "2019-09-01,210\n",
        "2019-10-01,220\n",
        "2019-11-01,230\n",
        "2019-12-01,240\n",
        "2020-01-01,250\n",
        "2020-02-01,260\n",
        "2020-03-01,270\n",
        "2020-04-01,280\n",
        "2020-05-01,290\n",
        "2020-06-01,300\n",
        "2020-07-01,310\n",
        "2020-08-01,320\n",
        "2020-09-01,330\n",
        "2020-10-01,340\n",
        "2020-11-01,350\n",
        "2020-12-01,360\n",
        "\"\"\"\n",
        "\n",
        "# Criando o DataFrame a partir de uma string\n",
        "df_consumo = pd.read_csv(StringIO(data), parse_dates=['referencia'])\n",
        "\n",
        "# Plotar o gráfico de linha para a série temporal do consumo de energia\n",
        "plt.figure(figsize=(12, 6))\n",
        "plt.plot(df_consumo['referencia'], df_consumo['consumo-energia'], marker='o', linestyle='-', color='r')\n",
        "plt.title('Consumo de Energia Residencial (2019-2020)')\n",
        "plt.xlabel('Data')\n",
        "plt.ylabel('Consumo de Energia (kWh)')\n",
        "plt.grid(True)\n",
        "plt.xticks(rotation=45)\n",
        "plt.tight_layout()\n",
        "plt.show()\n"
      ],
      "execution_count": 36,
      "outputs": [
        {
          "output_type": "display_data",
          "data": {
            "text/plain": [
              "<Figure size 1200x600 with 1 Axes>"
            ],
            "image/png": "[encoded data removed]"
          },
          "metadata": {}
        }
      ]
    },
    {
      "cell_type": "markdown",
      "metadata": {
        "id": "Cf8DLpqPpcHC"
      },
      "source": [
        " - **c.** Utilize o método `corrcoef` do pacote Numpy para calcular o coeficiente de Pearson entre o consumo de energia elétrica **residencial** e a **temperatura** média agregada `temp-media`."
      ]
    },
    {
      "cell_type": "code",
      "metadata": {
        "id": "YMXD9bx6pcHD",
        "colab": {
          "base_uri": "https://localhost:8080/"
        },
        "outputId": "789226a6-613a-4792-8fb4-dfec1ab827ff"
      },
      "source": [
        "# resposta da questão 3.1.c\n",
        "\n",
        "import pandas as pd\n",
        "import numpy as np\n",
        "from io import StringIO\n",
        "\n",
        "# Dados fictícios para a temperatura média agregada (substitua pelos seus dados reais)\n",
        "data_temp = \"\"\"referencia,temp-media\n",
        "2019-01-01,21.0\n",
        "2019-02-01,22.0\n",
        "2019-03-01,23.0\n",
        "2019-04-01,24.0\n",
        "2019-05-01,25.0\n",
        "2019-06-01,26.0\n",
        "2019-07-01,27.0\n",
        "2019-08-01,28.0\n",
        "2019-09-01,29.0\n",
        "2019-10-01,30.0\n",
        "2019-11-01,31.0\n",
        "2019-12-01,32.0\n",
        "2020-01-01,33.0\n",
        "2020-02-01,34.0\n",
        "2020-03-01,35.0\n",
        "2020-04-01,36.0\n",
        "2020-05-01,37.0\n",
        "2020-06-01,38.0\n",
        "2020-07-01,39.0\n",
        "2020-08-01,40.0\n",
        "2020-09-01,41.0\n",
        "2020-10-01,42.0\n",
        "2020-11-01,43.0\n",
        "2020-12-01,44.0\n",
        "\"\"\"\n",
        "\n",
        "# Dados fictícios para o consumo de energia (substitua pelos seus dados reais)\n",
        "data_consumo = \"\"\"referencia,consumo-energia\n",
        "2019-01-01,150\n",
        "2019-02-01,160\n",
        "2019-03-01,155\n",
        "2019-04-01,170\n",
        "2019-05-01,165\n",
        "2019-06-01,180\n",
        "2019-07-01,190\n",
        "2019-08-01,200\n",
        "2019-09-01,210\n",
        "2019-10-01,220\n",
        "2019-11-01,230\n",
        "2019-12-01,240\n",
        "2020-01-01,250\n",
        "2020-02-01,260\n",
        "2020-03-01,270\n",
        "2020-04-01,280\n",
        "2020-05-01,290\n",
        "2020-06-01,300\n",
        "2020-07-01,310\n",
        "2020-08-01,320\n",
        "2020-09-01,330\n",
        "2020-10-01,340\n",
        "2020-11-01,350\n",
        "2020-12-01,360\n",
        "\"\"\"\n",
        "\n",
        "# Criando os DataFrames a partir das strings\n",
        "df_temp = pd.read_csv(StringIO(data_temp), parse_dates=['referencia'])\n",
        "df_consumo = pd.read_csv(StringIO(data_consumo), parse_dates=['referencia'])\n",
        "\n",
        "# Mesclar os DataFrames com base na coluna 'referencia'\n",
        "df_merged = pd.merge(df_temp, df_consumo, on='referencia')\n",
        "\n",
        "# Calcular o coeficiente de correlação de Pearson\n",
        "correlation_matrix = np.corrcoef(df_merged['temp-media'], df_merged['consumo-energia'])\n",
        "correlation_pearson = correlation_matrix[0, 1]\n",
        "\n",
        "# Exibir o coeficiente de correlação de Pearson\n",
        "print(\"Coeficiente de Correlação de Pearson entre consumo de energia e temperatura média:\", correlation_pearson)\n"
      ],
      "execution_count": 37,
      "outputs": [
        {
          "output_type": "stream",
          "name": "stdout",
          "text": [
            "Coeficiente de Correlação de Pearson entre consumo de energia e temperatura média: 0.9971573210513136\n"
          ]
        }
      ]
    },
    {
      "cell_type": "markdown",
      "metadata": {
        "id": "u8oFkD9Up2Wc"
      },
      "source": [
        " - **d.** Baseado nas respostas dos items anteriores, responda: A temperatura é um bom atributo para prever o consumo de energia elétrica **residencial**?\n"
      ]
    },
    {
      "cell_type": "markdown",
      "metadata": {
        "id": "6zOCWCACpzyC"
      },
      "source": [
        "**Resposta:** ?\n",
        " Se a correlação de Pearson entre temperatura média e consumo de energia elétrica for alta (positiva ou negativa) e consistente ao longo do período analisado, a temperatura pode ser um bom atributo para prever o consumo de energia elétrica residencial."
      ]
    },
    {
      "cell_type": "markdown",
      "metadata": {
        "id": "0-ANvhtZqQaC"
      },
      "source": [
        "### **3.2. Consumo comercial**"
      ]
    },
    {
      "cell_type": "markdown",
      "metadata": {
        "id": "34JrB-usqQaE"
      },
      "source": [
        "Repita o exercício 3.1. para dados de consumo de energia elétrica **comercial**."
      ]
    },
    {
      "cell_type": "code",
      "source": [
        "import pandas as pd\n",
        "import matplotlib.pyplot as plt\n",
        "import numpy as np\n",
        "\n",
        "# Substitua o caminho do arquivo pelo caminho real do seu arquivo 'energia.csv'\n",
        "file_path = '/content/energia.csv'\n",
        "\n",
        "# Carregar os dados do arquivo CSV com o separador correto\n",
        "df_energia = pd.read_csv(file_path, sep=';', parse_dates=['referencia'])\n",
        "\n",
        "# Exibir as primeiras linhas e os nomes das colunas do DataFrame\n",
        "print(df_energia.head())\n",
        "print(df_energia.columns)\n",
        "\n",
        "# Passo 1: Filtrar os dados entre 2019 e 2020\n",
        "df_filtered = df_energia[(df_energia['referencia'] >= '2019-01-01') & (df_energia['referencia'] <= '2020-12-31')]\n",
        "\n",
        "# Passo 2: Remover as linhas com valores nulos\n",
        "df_filtered_no_na = df_filtered.dropna()\n",
        "\n",
        "# Passo 3: Reamostrar o DataFrame para granularidade mensal, utilizando a média como métrica de agregação\n",
        "df_resampled = df_filtered_no_na.resample('M', on='referencia').mean()\n",
        "\n",
        "# Passo 4: Plotar o gráfico de linha para a série temporal de consumo comercial\n",
        "plt.figure(figsize=(12, 6))\n",
        "plt.plot(df_resampled.index, df_resampled['comercial'], marker='o', linestyle='-', color='r')\n",
        "plt.title('Consumo Comercial de Energia Elétrica (2019-2020)')\n",
        "plt.xlabel('Data')\n",
        "plt.ylabel('Consumo Comercial (kWh)')\n",
        "plt.grid(True)\n",
        "plt.xticks(rotation=45)\n",
        "plt.tight_layout()\n",
        "plt.show()\n",
        "\n",
        "\n"
      ],
      "metadata": {
        "colab": {
          "base_uri": "https://localhost:8080/",
          "height": 712
        },
        "id": "O6srlQlSStrU",
        "outputId": "9c795041-a33e-4fe8-9bda-8dd8d060ff5e"
      },
      "execution_count": 49,
      "outputs": [
        {
          "output_type": "stream",
          "name": "stdout",
          "text": [
            "  referencia  residencial  industrial  comercial\n",
            "0 2004-01-01      3694386     6977471    2450453\n",
            "1 2004-02-01      3511541     7084623    2396965\n",
            "2 2004-03-01      3629455     7087613    2402521\n",
            "3 2004-04-01      3733863     7384540    2580914\n",
            "4 2004-05-01      3537269     7258307    2344084\n",
            "Index(['referencia', 'residencial', 'industrial', 'comercial'], dtype='object')\n"
          ]
        },
        {
          "output_type": "display_data",
          "data": {
            "text/plain": [
              "<Figure size 1200x600 with 1 Axes>"
            ],
            "image/png": "[encoded data removed]"
          },
          "metadata": {}
        }
      ]
    },
    {
      "cell_type": "markdown",
      "metadata": {
        "id": "ssMdO4PAqaUg"
      },
      "source": [
        "### **3.3. Consumo industrial**"
      ]
    },
    {
      "cell_type": "markdown",
      "metadata": {
        "id": "NFL5_CKYqaUh"
      },
      "source": [
        "Repita o exercício 3.1. para dados de consumo de energia elétrica **industrial**."
      ]
    },
    {
      "cell_type": "code",
      "source": [
        "import pandas as pd\n",
        "import matplotlib.pyplot as plt\n",
        "\n",
        "# Carregar dados do arquivo CSV\n",
        "file_path = '/content/energia.csv'\n",
        "\n",
        "# Carregar os dados usando o separador correto\n",
        "df_energia = pd.read_csv(file_path, sep=';', parse_dates=['referencia'])\n",
        "\n",
        "# Filtrar os dados entre 2019 e 2020\n",
        "df_filtered = df_energia[(df_energia['referencia'] >= '2019-01-01') & (df_energia['referencia'] <= '2020-12-31')]\n",
        "\n",
        "# Remover as linhas com valores nulos\n",
        "df_filtered_no_na = df_filtered.dropna()\n",
        "\n",
        "# Criar a coluna temp-media com a média das temperaturas\n",
        "# Aqui, você deve garantir que a coluna temp-media exista. Vou usar o mesmo exemplo de dados.\n",
        "df_temp = pd.read_csv(StringIO(data_temp), parse_dates=['referencia'])\n",
        "df_temp_filtered = df_temp[(df_temp['referencia'] >= '2019-01-01') & (df_temp['referencia'] <= '2020-12-31')]\n",
        "df_temp_filtered_no_na = df_temp_filtered.dropna()\n",
        "df_temp_filtered_no_na['temp-media'] = df_temp_filtered_no_na[['temp-media-sp', 'temp-media-rj', 'temp-media-mg']].mean(axis=1)\n",
        "df_temp_resampled = df_temp_filtered_no_na.resample('M', on='referencia').mean()\n",
        "\n",
        "# Reamostrar o DataFrame de energia para granularidade mensal\n",
        "df_energia_resampled = df_filtered_no_na.resample('M', on='referencia').mean()\n",
        "\n",
        "# Mesclar os DataFrames de temperatura e consumo de energia comercial com base na coluna 'referencia'\n",
        "df_merged = pd.merge(df_temp_resampled, df_energia_resampled[['comercial']], left_index=True, right_index=True)\n",
        "\n",
        "# Plotar os gráficos\n",
        "plt.figure(figsize=(14, 7))\n",
        "\n",
        "# Gráfico de temperatura média\n",
        "plt.subplot(2, 1, 1)\n",
        "plt.plot(df_temp_resampled.index, df_temp_resampled['temp-media'], marker='o', linestyle='-', color='b')\n",
        "plt.title('Temperatura Média Agregada (2019-2020)')\n",
        "plt.xlabel('Data')\n",
        "plt.ylabel('Temperatura Média')\n",
        "plt.grid(True)\n",
        "plt.xticks(rotation=45)\n",
        "\n",
        "# Gráfico de consumo de energia comercial\n",
        "plt.subplot(2, 1, 2)\n",
        "plt.plot(df_merged.index, df_merged['comercial'], marker='o', linestyle='-', color='r')\n",
        "plt.title('Consumo de Energia Comercial (2019-2020)')\n",
        "plt.xlabel('Data')\n",
        "plt.ylabel('Consumo de Energia Comercial')\n",
        "plt.grid(True)\n",
        "plt.xticks(rotation=45)\n",
        "\n",
        "plt.tight_layout()\n",
        "plt.show()\n",
        "\n"
      ],
      "metadata": {
        "colab": {
          "base_uri": "https://localhost:8080/",
          "height": 591
        },
        "id": "GkW_wzMaTKxC",
        "outputId": "8ef40cef-8b15-4458-e10a-5da940e9bd51"
      },
      "execution_count": 57,
      "outputs": [
        {
          "output_type": "display_data",
          "data": {
            "text/plain": [
              "<Figure size 1400x700 with 2 Axes>"
            ],
            "image/png": "[encoded data removed]"
          },
          "metadata": {}
        }
      ]
    },
    {
      "cell_type": "markdown",
      "metadata": {
        "id": "waxn4B2UDHyl"
      },
      "source": [
        "---"
      ]
    }
  ]
}